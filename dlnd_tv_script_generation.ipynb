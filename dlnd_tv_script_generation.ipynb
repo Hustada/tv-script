{
 "cells": [
  {
   "cell_type": "markdown",
   "metadata": {},
   "source": [
    "# TV Script Generation\n",
    "In this project, you'll generate your own [Simpsons](https://en.wikipedia.org/wiki/The_Simpsons) TV scripts using RNNs.  You'll be using part of the [Simpsons dataset](https://www.kaggle.com/wcukierski/the-simpsons-by-the-data) of scripts from 27 seasons.  The Neural Network you'll build will generate a new TV script for a scene at [Moe's Tavern](https://simpsonswiki.com/wiki/Moe's_Tavern).\n",
    "## Get the Data\n",
    "The data is already provided for you.  You'll be using a subset of the original dataset.  It consists of only the scenes in Moe's Tavern.  This doesn't include other versions of the tavern, like \"Moe's Cavern\", \"Flaming Moe's\", \"Uncle Moe's Family Feed-Bag\", etc.."
   ]
  },
  {
   "cell_type": "code",
   "execution_count": 22,
   "metadata": {},
   "outputs": [],
   "source": [
    "\"\"\"\n",
    "DON'T MODIFY ANYTHING IN THIS CELL\n",
    "\"\"\"\n",
    "import helper\n",
    "\n",
    "data_dir = './data/simpsons/moes_tavern_lines.txt'\n",
    "text = helper.load_data(data_dir)\n",
    "# Ignore notice, since we don't use it for analysing the data\n",
    "text = text[81:]"
   ]
  },
  {
   "cell_type": "markdown",
   "metadata": {},
   "source": [
    "## Explore the Data\n",
    "Play around with `view_sentence_range` to view different parts of the data."
   ]
  },
  {
   "cell_type": "code",
   "execution_count": 23,
   "metadata": {},
   "outputs": [
    {
     "name": "stdout",
     "output_type": "stream",
     "text": [
      "Dataset Stats\n",
      "Roughly the number of unique words: 11492\n",
      "Number of scenes: 262\n",
      "Average number of sentences in each scene: 15.248091603053435\n",
      "Number of lines: 4257\n",
      "Average number of words in each line: 11.50434578341555\n",
      "\n",
      "The sentences 0 to 10:\n",
      "Moe_Szyslak: (INTO PHONE) Moe's Tavern. Where the elite meet to drink.\n",
      "Bart_Simpson: Eh, yeah, hello, is Mike there? Last name, Rotch.\n",
      "Moe_Szyslak: (INTO PHONE) Hold on, I'll check. (TO BARFLIES) Mike Rotch. Mike Rotch. Hey, has anybody seen Mike Rotch, lately?\n",
      "Moe_Szyslak: (INTO PHONE) Listen you little puke. One of these days I'm gonna catch you, and I'm gonna carve my name on your back with an ice pick.\n",
      "Moe_Szyslak: What's the matter Homer? You're not your normal effervescent self.\n",
      "Homer_Simpson: I got my problems, Moe. Give me another one.\n",
      "Moe_Szyslak: Homer, hey, you should not drink to forget your problems.\n",
      "Barney_Gumble: Yeah, you should only drink to enhance your social skills.\n",
      "\n",
      "\n"
     ]
    }
   ],
   "source": [
    "view_sentence_range = (0, 10)\n",
    "\n",
    "\"\"\"\n",
    "DON'T MODIFY ANYTHING IN THIS CELL\n",
    "\"\"\"\n",
    "import numpy as np\n",
    "\n",
    "print('Dataset Stats')\n",
    "print('Roughly the number of unique words: {}'.format(len({word: None for word in text.split()})))\n",
    "scenes = text.split('\\n\\n')\n",
    "print('Number of scenes: {}'.format(len(scenes)))\n",
    "sentence_count_scene = [scene.count('\\n') for scene in scenes]\n",
    "print('Average number of sentences in each scene: {}'.format(np.average(sentence_count_scene)))\n",
    "\n",
    "sentences = [sentence for scene in scenes for sentence in scene.split('\\n')]\n",
    "print('Number of lines: {}'.format(len(sentences)))\n",
    "word_count_sentence = [len(sentence.split()) for sentence in sentences]\n",
    "print('Average number of words in each line: {}'.format(np.average(word_count_sentence)))\n",
    "\n",
    "print()\n",
    "print('The sentences {} to {}:'.format(*view_sentence_range))\n",
    "print('\\n'.join(text.split('\\n')[view_sentence_range[0]:view_sentence_range[1]]))"
   ]
  },
  {
   "cell_type": "markdown",
   "metadata": {},
   "source": [
    "## Implement Preprocessing Functions\n",
    "The first thing to do to any dataset is preprocessing.  Implement the following preprocessing functions below:\n",
    "- Lookup Table\n",
    "- Tokenize Punctuation\n",
    "\n",
    "### Lookup Table\n",
    "To create a word embedding, you first need to transform the words to ids.  In this function, create two dictionaries:\n",
    "- Dictionary to go from the words to an id, we'll call `vocab_to_int`\n",
    "- Dictionary to go from the id to word, we'll call `int_to_vocab`\n",
    "\n",
    "Return these dictionaries in the following tuple `(vocab_to_int, int_to_vocab)`"
   ]
  },
  {
   "cell_type": "code",
   "execution_count": 24,
   "metadata": {},
   "outputs": [
    {
     "name": "stdout",
     "output_type": "stream",
     "text": [
      "{'listen': 0, 'to': 1, 'back': 2, 'me': 3, 'you': 4, 'moe': 10, 'is': 6, 'last': 9, 'lately': 11, 'your': 13, 'hold': 67, 'got': 44, 'the': 14, 'ice': 15, 'effervescent': 16, \"you're\": 17, 'barney_gumble': 18, 'one': 52, \"i'm\": 66, 'anybody': 19, 'homer': 55, 'not': 20, 'give': 21, 'hey': 7, 'on': 23, \"moe's\": 5, 'has': 24, 'bart_simpson': 25, 'only': 26, 'rotch': 27, 'with': 29, 'enhance': 31, 'mike': 30, 'skills': 34, 'forget': 33, 'hello': 49, 'eh': 8, 'moe_szyslak': 32, 'homer_simpson': 36, 'puke': 37, 'whats': 60, 'these': 38, 'and': 39, 'name': 41, 'where': 51, 'of': 43, 'carve': 12, 'elite': 45, 'yeah': 68, 'there': 65, 'check': 46, 'should': 47, 'meet': 48, 'catch': 50, 'little': 28, 'seen': 53, 'matter': 54, 'days': 58, 'another': 56, 'problems': 57, 'gonna': 42, \"i'll\": 59, 'an': 61, 'pick': 62, 'self': 63, 'drink': 64, 'social': 22, 'tavern': 35, 'my': 40, 'normal': 69, 'i': 70}\n",
      "Tests Passed\n"
     ]
    }
   ],
   "source": [
    "import numpy as np\n",
    "import problem_unittests as tests\n",
    "\n",
    "def create_lookup_tables(text):\n",
    "    \"\"\"\n",
    "    Create lookup tables for vocabulary\n",
    "    :param text: The text of tv scripts split into words\n",
    "    :return: A tuple of dicts (vocab_to_int, int_to_vocab)\n",
    "    \"\"\"\n",
    "    # TODO: Implement Function\n",
    "    vocab = set(text)\n",
    "    vocab_to_int = {c: i for i, c in enumerate(vocab)}\n",
    "    int_to_vocab = dict(enumerate(vocab))\n",
    "    print(vocab_to_int)\n",
    "    return vocab_to_int, int_to_vocab\n",
    "    \n",
    "\n",
    "\n",
    "\"\"\"\n",
    "DON'T MODIFY ANYTHING IN THIS CELL THAT IS BELOW THIS LINE\n",
    "\"\"\"\n",
    "tests.test_create_lookup_tables(create_lookup_tables)"
   ]
  },
  {
   "cell_type": "markdown",
   "metadata": {},
   "source": [
    "### Tokenize Punctuation\n",
    "We'll be splitting the script into a word array using spaces as delimiters.  However, punctuations like periods and exclamation marks make it hard for the neural network to distinguish between the word \"bye\" and \"bye!\".\n",
    "\n",
    "Implement the function `token_lookup` to return a dict that will be used to tokenize symbols like \"!\" into \"||Exclamation_Mark||\".  Create a dictionary for the following symbols where the symbol is the key and value is the token:\n",
    "- Period ( . )\n",
    "- Comma ( , )\n",
    "- Quotation Mark ( \" )\n",
    "- Semicolon ( ; )\n",
    "- Exclamation mark ( ! )\n",
    "- Question mark ( ? )\n",
    "- Left Parentheses ( ( )\n",
    "- Right Parentheses ( ) )\n",
    "- Dash ( -- )\n",
    "- Return ( \\n )\n",
    "\n",
    "This dictionary will be used to token the symbols and add the delimiter (space) around it.  This separates the symbols as it's own word, making it easier for the neural network to predict on the next word. Make sure you don't use a token that could be confused as a word. Instead of using the token \"dash\", try using something like \"||dash||\"."
   ]
  },
  {
   "cell_type": "code",
   "execution_count": 25,
   "metadata": {},
   "outputs": [
    {
     "name": "stdout",
     "output_type": "stream",
     "text": [
      "Tests Passed\n"
     ]
    }
   ],
   "source": [
    "def token_lookup():\n",
    "    \"\"\"\n",
    "    Generate a dict to turn punctuation into a token.\n",
    "    :return: Tokenize dictionary where the key is the punctuation and the value is the token\n",
    "    \"\"\"\n",
    "    # TODO: Implement Function\n",
    "    values = ['||Period||', '||Comma||', '||Quotation_Mark||', '||Semicolon||', '||Exclamation_Mark||', '||Question_Mark||', \\\n",
    "              '||Left_Parentheses||', '||Right_Parentheses||', '||Dash||', '||Return||']\n",
    "    keys = ['.', ',', '\"', ';', '!', '?', '(', ')', '--', '\\n']\n",
    "    return (dict(zip(keys, values)))\n",
    "\n",
    "\"\"\"\n",
    "DON'T MODIFY ANYTHING IN THIS CELL THAT IS BELOW THIS LINE\n",
    "\"\"\"\n",
    "tests.test_tokenize(token_lookup)"
   ]
  },
  {
   "cell_type": "markdown",
   "metadata": {},
   "source": [
    "## Preprocess all the data and save it\n",
    "Running the code cell below will preprocess all the data and save it to file."
   ]
  },
  {
   "cell_type": "code",
   "execution_count": 26,
   "metadata": {},
   "outputs": [
    {
     "name": "stdout",
     "output_type": "stream",
     "text": [
      "{'huh': 3314, 'bartholomé:': 3315, 'son': 3316, 's-a-u-r-c-e': 0, 'kissed': 1, 'irishman': 5593, 'sauce': 3317, 'junkyard': 3318, 'puts': 3319, 'ball-sized': 2, \"drexel's\": 3321, 'marge': 3323, 'yew': 3, \"they've\": 4, \"costume's\": 5, 'sotto': 3325, 'heart': 6216, \"aren't\": 6, 'truck': 7, 'running': 3326, \"stabbin'\": 3327, 'corn': 9, 'pointy': 5031, 'bender:': 10, 'latour': 11, 'paris': 2799, 'earlier': 3329, 'test': 12, 'hunky': 3899, 'blur': 3331, 'ad': 3332, 'easier': 3333, 'ruined': 515, 'anti-intellectualism': 516, 'dictator': 13, 'train': 14, 'traffic': 4476, 'choices': 3334, 'problems': 15, 'venture': 5734, 'breathalyzer': 3335, \"ball's\": 16, 'goods': 17, 'punches': 18, 'absolutely': 20, 'sub-monkeys': 6259, 'nail': 3320, 'insensitive': 21, 'to': 3339, \"listenin'\": 3322, 'fifty': 3341, 'pockets': 3342, 'nothing': 3343, 'snotball': 3344, 'skin': 22, 'handoff': 23, 'crap': 3345, 'reliable': 2805, 'attractive_woman_#2:': 3346, 'refinanced': 3347, 'what': 3348, 'homer_doubles:': 3324, 'fund': 26, 'german': 2804, 'close': 3351, 'transmission': 3352, 'since': 3353, 'sports_announcer:': 27, 'love': 5599, 'scrutinizing': 28, 'sideshow_bob:': 29, 'hammer': 3058, \"president's\": 3354, 'wiping': 3355, 'umm': 3356, 'nick': 30, 'milhouse_van_houten:': 2246, 'alfalfa': 3357, 'gunter:': 31, \"we're\": 32, 'seems': 3359, 'lemme': 3360, \"lefty's\": 6220, 'meatpies': 3361, 'nemo': 5601, 'avenue': 5723, 'ho-ly': 3362, 'birth': 33, 'barflies': 3363, \"nothin's\": 3365, 'agnes_skinner:': 6714, 'reason': 34, 'jacques': 35, 'ambrosia': 36, 'crazy': 3366, 'flynt': 37, 'newsletter': 38, 'progress': 3367, 'sick': 41, 'lenny:': 3369, 'term': 6221, 'ha': 42, 'they': 43, 'ling': 46, 'laney_fontaine:': 49, 'firing': 48, 'further': 3375, 'mister': 50, 'compliment': 51, 'pep': 52, 'territorial': 53, 'are': 54, 'christmas': 3380, 'perfunctory': 55, 'supermarket': 3382, 'connor': 3383, 'knit': 3384, 'superdad': 3385, \"stallin'\": 56, 'penmanship': 57, 'model': 58, 'liquor': 3387, 'bless': 59, 'boy': 3388, 'stopped': 3389, 'takes': 6223, 'champs': 60, 'enjoyed': 8, 'sold': 3390, 'tv-station_announcer:': 61, 'compliments': 62, 'detecting': 3392, 'drag': 3393, 'insults': 63, 'bulldozing': 64, 'slot': 65, 'release': 3394, 'jams': 5605, 'store-bought': 6130, 'smugglers': 67, 'insulted': 3395, 'unjustly': 3396, 'hang': 68, 'kramer': 69, 'betcha': 70, 'shrugging': 3398, 'denser': 520, 'hello': 3400, 'stupid': 3401, 'charlie': 71, 'prolonged': 3404, 'sloe': 72, 'einstein': 73, 'numbers': 6526, 'booking': 3409, 'nfl_narrator:': 74, 'remain': 75, 'delivery_man:': 3411, 'housing': 76, 'disdainful': 3413, 'hospital': 3414, 'guide': 77, 'wear': 78, 'cleaner': 6226, 'planned': 3417, \"crawlin'\": 79, 'squeal': 3418, 'sugar': 80, 'profiling': 3419, 'schedule': 3420, 'cars': 82, 'whaaaa': 3421, 'sen': 83, 'klown': 3422, 'rusty': 3423, 'sadly': 3424, 'career': 84, \"sippin'\": 1215, 'shopping': 85, 'wally': 3330, 'adrift': 3425, 'aside': 3426, 'shelf': 3427, 'wild': 3428, 'wolfcastle': 5045, 'so': 3429, 'ears': 5608, 'charge': 3431, 'fell': 86, 'cheerleaders:': 3432, 'ga': 3433, 'brainheaded': 87, 'liability': 88, 'grandkids': 89, 'marched': 3435, 'lard': 3436, 'praise': 91, 'convenient': 526, 'freaky': 3437, 'guns': 3438, 'east': 3439, 'achebe': 5947, 'newsweek': 1646, 'fluoroscope': 92, 'cut': 93, 'jets': 94, \"takin'\": 3440, 'beady': 3441, 'squabbled': 3442, 'those': 3443, 'traitor': 5954, 'believe': 95, 'ron': 96, 'notorious': 3444, 'finished': 97, 'cross-country': 3445, \"s'pose\": 3446, 'honey': 3447, 'warily': 99, 'w': 100, 'mis-statement': 3448, 'employment': 3450, 'foam': 102, 'innocence': 3761, 'sloppy': 4857, 'distraught': 3451, 'lodge': 3452, \"homer's\": 3453, 'flames': 103, 'youuu': 527, 'iddilies': 104, 'groin': 3454, 'together': 105, 'chic': 1100, 'everybody': 2263, 'sad': 3455, \"hasn't\": 3456, 'tobacky': 3457, 'warren': 3458, \"nothin'\": 3460, 'west': 106, 'genius': 3462, 'fixed': 3463, 'thumb': 3464, 'boring': 6137, 'detective': 6525, 'whether': 107, 'excavating': 3465, 'arm-pittish': 108, 'thirty-three': 109, 'chained': 6310, 'overstressed': 110, 'everything': 3466, 'habitrail': 3467, 'burp': 3468, 'left': 3469, 'say': 3470, 'boston': 3471, 'sisters': 111, 'homeland': 112, 'bastard': 3472, 'handler': 3473, 'brandy': 3474, \"workin'\": 113, 'alva': 4484, 'nonchalant': 3476, 'evergreen': 114, 'nauseous': 115, 'ecru': 3478, 'fifth': 116, 'assert': 117, 'disgusted': 3479, 'grind': 3480, 'mob': 3481, 'bumped': 3482, 'snapping': 118, \"waitin'\": 2546, 'peter': 5616, 'early': 3483, 'indicates': 5939, 'acceptance': 531, 'grain': 1656, 'italian': 119, \"something's\": 120, 'taste': 121, 'alls': 122, 'saved': 3485, 'tee': 3486, 'shirt': 123, 'agent_johnson:': 124, '1979': 3336, 'beauty': 1107, 'training': 3487, 'elephants': 3337, 'speed': 3338, 'underwear': 3488, 'lib': 125, 'youngsters': 126, 'literature': 127, 'crowd:': 3490, 'hide': 128, 'marjorie': 3491, 'hurt': 3492, 'demand': 129, 'gator:': 130, 'squeeze': 3495, 'unhappy': 131, 'ratted': 5052, 'son-of-a': 132, \"larry's\": 133, 'putty': 134, 'yello': 3497, 'al': 135, 'disapproving': 136, 'banquo': 3340, 'skunk': 3498, 'philosophic': 137, 'zack': 1331, 'macho': 3499, 'broken:': 3500, 'organ': 3501, 'my-y-y-y-y-y': 1111, 'beats': 138, 'history': 3502, 'fat_in_the_hat:': 3503, 'flashbacks': 25, 'sassy': 139, 'square': 140, 'occupancy': 24, 'exact': 3504, 'sees/': 141, 'super-nice': 3505, 'cutie': 142, 'lowering': 143, 'ceremony': 3506, 'european': 144, 'closes': 145, 'speech': 3510, 'fink': 3511, 'cheryl': 4493, 'tomatoes': 3512, 'retain': 3513, 'pasta': 3514, 'sue': 146, 'clothes': 147, 'labels': 148, 'lumpa': 3516, 'hoagie': 149, 'exhale': 3517, 'natural': 150, 'machine': 3518, 'manchego': 151, 'listen': 152, 'us': 2272, 'name:': 3519, 'exception:': 153, 'teach': 3520, '91': 154, 'champignons': 3521, \"'cept\": 3349, 'mostly': 3522, 'unforgettable': 155, 'eddie': 156, 'strap': 3524, 'contract': 157, 'snap': 3525, 'crowned': 3526, 'starving': 5060, 'wasted': 3527, 'ha-ha': 3528, 'civil': 6642, 'jewelry': 3972, 'linda_ronstadt:': 3529, 'on': 158, 'outlive': 3533, 'mahatma': 1668, 'accusing': 160, 'wok': 3534, 'sitcom': 3535, 'save': 3536, 'lisa_simpson:': 161, \"springfield's\": 162, 'working': 163, 'blurbs': 164, 'college': 3537, 'holds': 165, \"he's\": 166, 'goodnight': 167, 'mailbox': 169, 'bottle': 3538, 'allegiance': 170, \"he'd\": 3350, 'chapstick': 5665, 'wiener': 171, 'thinks': 3540, 'half-day': 172, 'bloodball': 1671, 'compare': 5711, \"goin'\": 174, 'kissingher': 3542, 'we': 3543, 'embarrassing': 4386, 'mock-up': 175, '$42': 176, 'horribilis': 178, 'disguised': 179, 'cauliflower': 3544, 'losing': 180, 'sagacity': 3547, 'strategy': 3546, 'nards': 181, 'scully': 182, 'rag': 3548, 'shoe': 1673, 'childless': 6690, 'herself': 183, 'side:': 1118, 'skeptical': 5064, 'kenny': 186, 'motorcycle': 3552, 'bail': 6246, \"eatin'\": 187, 'storms': 188, 'annoying': 189, 'quietly': 191, 'christian': 192, 'fix': 193, 'again': 194, 'general': 3554, 'accent': 196, 'restroom': 197, 'prime': 3555, 'talk': 198, 'mary': 5068, 'and/or': 199, 'international': 200, 'buds': 201, 'restaurant': 3557, 'score': 203, 'trucks': 204, 'playhouse': 205, 'deer': 5903, 'hitler': 206, 'america': 3560, 'scientific': 3561, 'frogs': 207, 'check': 208, 'share': 3562, 'puffy': 209, 'pay': 210, 'swe-ee-ee-ee-eet': 211, 'kahlua': 5628, \"wait'll\": 975, 'moolah-stealing': 5658, 'declan_desmond:': 3358, 'eurotrash': 212, 'crying': 4498, 'alphabet': 213, 'incredible': 214, 'duff_announcer:': 215, 'grave': 3564, 'yammering': 990, 'tapestry': 216, 'cheaped': 3566, 'wagering': 217, 'guard': 3567, 'hungry': 219, 'securities': 3568, 'anybody': 3569, 'coughs': 3570, 'cheesecake': 3572, 'hat': 5631, 'believer': 3575, 'blobbo': 3577, 'does': 220, 'biggest': 221, \"drivin'\": 3578, 'fork': 222, 'shape': 223, 'sneering': 224, 'think': 3579, 'flame': 3580, 'walking': 3581, 'angel': 225, 'hoped': 226, 'these': 227, 'reynolds': 228, 'huddle': 3583, 'wiggle-frowns': 3584, 'keep': 229, 'szyslak': 230, \"ma's\": 6253, 'row': 3585, 'realizing': 231, 'yes': 5074, 'names': 3587, 'nectar': 232, 'faced': 233, 'doors': 1127, 'said': 234, 'canyoner-oooo': 3589, 'hippies': 235, 'saturday': 3590, 'twin': 236, 'smiles': 237, 'truck_driver:': 548, 'maggie': 3364, 'injury': 238, 'drunkening': 3591, 'light': 3592, 'occasion': 239, 'entirely': 3593, 'reality': 3594, 'glen:': 3595, 'mice': 240, 'ruby-studded': 241, 'background': 5803, 'sickened': 3597, 'rats': 3598, 'gifts': 3599, 'trapped': 242, \"choosin'\": 3607, \"smackin'\": 3606, 'state': 3602, 'ah': 3604, 'hidden': 243, 'eyeing': 5076, 'themselves': 3609, 'subscriptions': 244, 'swishkabobs': 3610, 'asses': 5629, 'albert': 245, 'clearing': 246, 'worst': 3611, 'grandé': 6751, 'title:': 3612, 'marquee': 3571, 'wondered': 3613, 'edgy': 3614, 'starla': 3938, \"depressin'\": 3617, 'film': 247, 'urine': 248, 'seas': 2843, '1-800-555-hugs': 3368, 'reviews': 3619, 'lachrymose': 250, 'floating': 3620, 'rubs': 5586, 'appreciate': 252, 'might': 3621, 'class': 3622, 'celebration': 6114, 'mommy': 3623, \"floatin'\": 3624, 'glyco-load': 3625, 'fausto': 3626, 'deep': 1427, 'four-star': 253, 'hate': 3627, 'emotional': 3628, 'admiration': 3629, 'totally': 44, 'watered-down': 254, 'visas': 1842, 'buzz': 3373, 'prayers': 3372, 'craphole': 5978, 'lucius:': 3630, 'spreads': 255, 'season': 256, 'connection': 259, 'understood': 260, 'whistles': 3631, 'belt': 261, 'sneak': 262, 'ourselves': 263, '_hooper:': 3632, 'wooooo': 3633, 'intoxicants': 265, \"lenny's\": 1684, 'pulled': 266, 'conditioning': 6432, 'filed': 3634, 'feeling': 3635, 'beneath': 3637, 'tsking': 3638, 'activity': 3639, 'rancid': 3378, 'eyed': 267, 'odor': 268, 'competitive': 3640, '_julius_hibbert:': 3641, 'ton': 6269, 'settlement': 269, 'appendectomy': 270, 'lurks': 1134, 'dive': 271, 'alley': 3642, 'stored': 272, 'snort': 273, 'emotion': 3644, 'minimum': 274, 'kissing': 275, 'helps': 1135, 'absolut': 277, 'absorbent': 3645, 'tenor:': 278, 'upon': 3646, 'late': 1136, 'scared': 279, 'andy': 3647, 'glee': 280, 'everywhere': 281, 'page': 282, 'spread': 5641, \"doctor's\": 3649, 'm': 283, 'haiti': 3650, 'whispered': 3651, 'medical': 3652, 'months': 3653, 'politician': 284, 'composer': 285, 'astrid': 286, \"'\": 3654, 'wrong': 3655, 'lifters': 1137, 'springfield': 3656, 'published': 3657, 'attention': 3658, 'dracula': 1380, 'wa': 287, 'appreciated': 288, 'searching': 3659, \"watchin'\": 289, 'wittgenstein': 3661, 'prohibit': 3381, \"nick's\": 290, 'telephone': 3662, 'professor': 6552, 'quiet': 291, 'answers': 3663, 'quickly': 292, 'grinch': 293, 'lotsa': 3666, 'eating': 3667, 'puke-holes': 563, 'babies': 294, 'marmaduke': 3669, \"she'd\": 295, 'sister': 6471, 'gentlemen': 296, 'weak': 297, 'warning': 6219, \"writin'\": 195, 'someday': 298, 'rookie': 299, 'sleep': 3670, 'announcer:': 6025, 'tolerable': 300, 'hey': 3671, 'killed': 302, 'afford': 303, 'vegas': 304, 'ivana': 305, 'cheering': 6527, 'birthplace': 3673, 'beef': 3674, 'burps': 306, 'washed': 3386, 'taking': 3675, 'ye': 566, 'hampstead-on-cecil-cecil': 3676, 'supports': 307, 'adjourned': 3678, 'skinheads': 3679, 'shower': 308, 'her': 309, 'option': 310, 'patented': 311, 'credit': 312, \"lovers'\": 313, 'dan_gillick:': 3680, 'coat': 5093, 'protesting': 314, 'bible': 3681, 'done': 3682, 'hangs': 315, 're-al': 3684, 'stayed': 3685, 'joey': 316, 'directions': 317, 'neighborhood': 318, \"countin'\": 4254, 'comic_book_guy:': 319, 'coward': 3686, 'brewed': 320, 'honored': 3688, 'equivalent': 3689, 'falcons': 322, 'trench': 323, 'queen': 324, 'furry': 3690, 'forgive': 3691, \"tryin'\": 325, 'coma': 3692, 'prettied': 326, 'low-blow': 327, 'barbara': 328, 'short_man:': 3695, 'graveyard': 3696, 'champion': 329, 'drive': 3698, 'sucks': 330, 'fills': 3699, 'horrors': 3700, 'perfected': 40, 'moe-near-now': 3701, 'glove': 331, 'surgery': 3702, 'finger': 3703, 'irish': 332, 'ziffcorp': 333, 'sincerely': 334, \"we've\": 335, 'his': 3704, 'octa-': 336, 'boned': 3706, 'third': 3707, \"tap-pullin'\": 569, 'dump': 3708, 'belly': 6135, 'finding': 3709, 'bottomless': 337, 'gasoline': 3710, 'whim': 6669, 'endorsed': 338, 'runaway': 3711, 'swill': 3712, 'poking': 339, 'handshake': 340, 'x-men': 3391, 'illegally': 341, 'trip': 3713, 'eighty-one': 571, 'schabadoo': 342, 'jay': 3714, 'lady-free': 3715, 'butter': 3716, 'musketeers': 3717, 'weary': 3718, 'creature': 3719, 'nobody': 3720, 'ready': 343, 'mmm-hmm': 344, 'sober': 346, 'sour': 3721, 'dying': 575, 'ollie': 348, 'jeter': 3722, 'gotten': 349, 'swigmore': 3723, 'invite': 351, 'pink': 3724, 'strictly': 3725, 'upgrade': 3726, 'fledgling': 3727, \"hobo's\": 6096, 'speaking': 353, 'microbrew': 3728, 'stonewall': 3729, \"tab's\": 3730, 'wowww': 6418, 'swan': 355, 'went': 2302, 'leno': 356, 'milk': 357, 'voice_on_transmitter:': 358, 'relax': 4528, 'plaintive': 359, 'betty:': 360, 'awe': 361, 'punch': 66, 'buttocks': 3734, 'bob': 362, 'mm': 3735, 'once': 3736, 'adequate': 363, 'i-i': 3737, \"havin'\": 364, 'muhammad': 3738, 'heroism': 3740, 'disgracefully': 365, 'eyesore': 366, 'reader': 1593, 'coins': 1701, 'jay_leno:': 3744, 'gift:': 3745, 'chum': 3397, 'jane': 368, 'fountain': 369, 'hold': 370, 'served': 3747, 'item': 5656, 'but': 3748, 'attempting': 3749, 'want': 3750, 'chips': 372, \"y'see\": 373, 'remember': 374, 'oof': 376, 'reaches': 3753, 'burning': 378, 'its': 3754, 'rueful': 379, \"pressure's\": 3756, 'dreams': 3757, 'notice': 3758, 'fighter': 3759, 'mags': 3399, 'capitol': 3762, 'shout': 3763, \"america's\": 380, \"coffee'll\": 5102, 'were': 3765, 'wanna': 381, 'comforting': 383, 'clean': 3767, 'helpless': 384, 'sanitation': 3768, 'fifteen': 385, 'undies': 3770, 'hops': 3771, 'billy_the_kid:': 386, 'cable': 388, 'chair': 3403, 'closing': 3772, '2nd_voice_on_transmitter:': 3773, 'forty-nine': 5581, 'doreen:': 3405, 'fumes': 389, 'misconstrue': 390, 'troubles': 6284, 'larry': 391, 'pair': 5660, 'ask': 3775, 'fight': 5107, 'pugilist': 3776, 'provide': 392, 'rub': 6285, 'skinner': 393, 'blessing': 3778, 'cares': 3779, 'uh': 394, 'pitch': 395, \"liberty's\": 396, 'shill': 397, 'stengel': 3781, 'squeezed': 399, 'artie_ziff:': 3782, 'jubilation': 400, 'laws': 401, 'allowance': 402, 'scrubbing': 3783, 'troy_mcclure:': 3784, 'mt': 5110, 'legs:': 403, 'attitude': 404, 'musical': 1606, 'boxing': 3786, 'drollery': 3410, 'isle': 405, 'ways': 3787, 'lot': 3788, 'will': 406, 'crimes': 407, 'xanders': 3789, 'test-': 3790, 'fortress': 408, 'monday': 409, 'exit': 410, 'stevie': 411, 'shutting': 3791, 'possibly': 412, 'shoes': 413, 'starlets': 5537, 'smelling': 3793, 'brilliant': 5664, 'divorced': 3794, 'especially': 414, 'bachelor': 415, 'considering:': 2315, 'tanking': 417, 'publishers': 5116, 'insist': 418, 'stewart': 3795, 'dumbass': 419, 'decide:': 3797, 'grease': 420, \"ragin'\": 421, 'ron_howard:': 422, 'move': 423, \"spaghetti-o's\": 1071, 'maman': 424, 'powered': 3798, 'thoughts': 425, 'sniper': 426, 'simpsons': 3799, 'oils': 3800, 'damage': 3967, 'cash': 427, 'scout': 3801, 'exclusive:': 428, 'predecessor': 587, 'bronco': 3802, 'der': 3803, 'temporarily': 429, 'mitts': 3804, 'flips': 431, 'jasper_beardly:': 3970, 'touched': 433, 'referee': 434, 'jury': 3807, 'wins': 3808, 'infor': 3809, 'nuts': 3810, 'certified': 2318, 'image': 435, 'oh-ho': 3225, 'mines': 3811, 'perplexed': 3812, 'next': 1158, 'glasses': 436, 'santeria': 437, 'maher': 2241, 'much': 438, 'full-blooded': 439, 'monkeyshines': 3814, 'fourth': 3815, 'community': 441, 'meteor': 3817, 'aged_moe:': 442, 'kinderhook': 443, 'experienced': 444, 'ingredient': 3818, \"she's\": 3819, 'domed': 6295, 'entire': 3416, 'ugliness': 2320, 'improved': 3821, 'er': 3975, 'bugging': 445, 'part-time': 5124, 'slobbo': 3822, 'dank': 446, 'sending': 447, 'pulitzer': 590, 'hooray': 448, 'pointless': 6296, 'tried': 449, \"time's\": 450, 'frink-y': 451, \"we'll\": 3826, 'funny': 3827, 'slick': 452, 'exciting': 3829, 'company': 454, 'hollye': 455, 'friday': 3832, 'dime': 3833, 'blue': 456, 'nigeria': 457, 'updated': 3834, 'maxed': 458, 'winded': 3835, 'leprechaun': 459, 'boneheaded': 81, 'martini': 3837, 'slender': 460, 'highball': 461, 'blade': 3838, 'pigs': 3839, \"moe's_thoughts:\": 3840, 'el': 595, 'duel': 3841, 'frankly': 3842, 'caholic': 462, 'astonishment': 463, 'shotgun': 3843, 'crayon': 2863, \"'bout\": 5672, 'hoax': 3844, 'little': 3845, 'renee': 465, 'blowfish': 466, 'popped': 467, 'thesaurus': 3847, \"duff's\": 597, 'gang': 3848, 'stranger:': 3849, 'at': 468, 'frat': 469, 'hollowed-out': 6301, 'fortune': 3850, 'sniffs': 471, 'poetry': 473, 'shaking': 474, 'decision': 6303, 'make:': 475, 'girls': 5675, 'senators': 1164, 'fevered': 476, 'spectacular': 477, 'tip': 478, 'century': 479, \"he'll\": 480, 'har': 3853, 'hours': 482, 'human': 3854, 'b': 3855, 'country': 485, 'rom': 3856, 'badges': 3857, 'holidays': 3858, 'routine': 487, 'drunk': 3859, 'sports': 488, 'probably': 489, 'reaching': 3860, 'collateral': 490, 'spite': 3861, 'bushes': 3862, 'hiding': 792, 'mozzarella': 3863, 'sky': 3864, 'merchants': 3865, 'blossoming': 3866, 'king': 5132, 'spellbinding': 600, 'grocery': 491, 'bathtub': 492, 'stalin': 493, 'ab': 1725, 'law': 3868, 'piling': 495, 'thank': 3869, 'considering': 496, 'pretending': 3870, 'wind': 3871, 'willy': 498, 'sitar': 3873, 'journey': 3874, 'half-back': 3875, 'julep': 499, 'milhouses': 500, 'snaps': 1360, 'rumaki': 3877, 'winch': 3878, 'living': 3879, 'ahead': 3880, 'flying': 5819, 'bugs': 501, 'radishes': 3412, 'geysir': 502, 'shoot': 3159, 'fist': 6306, 'cream': 503, 'owner': 3882, 'frankenstein': 3883, 'pick': 3884, 'distributor': 3885, 'inquiries': 3886, 'sleigh-horses': 504, \"wouldn't\": 505, 'clown': 507, 'jacques:': 3430, 'space-time': 508, 'lists': 3887, 'shares': 509, 'hilarious': 1291, 'mouse': 510, 'specialists': 511, 'toe': 512, 'play': 3889, 'aerosmith': 3890, 'poulet': 3891, 'pond': 3892, \"startin'\": 6596, 'scooter': 3893, 'apartment': 3894, 'dumbest': 513, 'this': 3895, 'rem': 3896, 'straining': 3897, 'confident': 3898, 'happier': 514, 'story': 3900, 'shells': 3903, 'intention': 3902, 'compromise:': 3904, 'pizzicato': 3905, 'sperm': 6312, 'medicine': 517, 'fruit': 5072, 'sell': 3906, 'double': 3907, 'smells': 518, 'cat': 519, 'favorite': 1172, 'subject': 3909, 'call': 3910, 'bedridden': 522, 'twelve-step': 521, 'older': 523, 'shrieks': 524, 'manuel': 5688, 'up': 3911, 'doppler': 3912, 'fbi_agent:': 525, 'prices': 1174, 'stinky': 6194, \"what'd\": 3913, 'handling': 3914, 'sweet': 3915, 'tribute': 3916, 'cadillac': 3917, 'crowded': 3918, 'minors': 6018, 'top': 528, \"smokin'_joe_frazier:\": 3434, 'talkers': 529, 'spit-backs': 530, 'silent': 3919, 'poison': 3921, 'pages': 90, 'crinkly': 532, 'hans:': 533, 'karaoke': 3922, 'life-threatening': 534, 'jack': 535, 'brings': 536, 'scent': 537, 'senators:': 3923, 'eyeballs': 538, 'deliberately': 3924, 'invited': 539, 'above': 540, 'floated': 541, 'western': 3927, 'effervescence': 5901, 'floor': 5693, 'abandon': 3928, 'frontrunner': 1738, 'harm': 5722, 'smokes': 3929, \"somethin':\": 542, 'mocking': 1467, 'saget': 543, 'kyoto': 3930, 'hands': 544, \"ladies'\": 3931, 'newly-published': 2879, 'housework': 3932, 'spinning': 545, 'aghast': 546, 'drink': 3933, 'accidents': 3934, 'cans': 2880, 'africa': 3935, 'grunts': 547, 'random': 549, 'robot': 5698, 'guess': 550, 'day': 4568, 'whirlybird': 3936, 'last': 551, 'drop': 3937, 'south': 552, 'wolveriskey': 3939, 'owes': 3940, 'germans': 553, 'sec_agent_#2:': 554, 'charm': 555, 'prefer': 3942, 'nicer': 556, 'unable': 557, 'duffed': 3943, 'lifts': 558, \"'n'\": 3944, 'weapon': 559, 'helicopter': 5699, 'helped': 3945, 'hushed': 560, 'defected': 3991, 'looser': 3946, 'exits': 561, 'oak': 562, 'gore': 3947, 'gently': 564, 'boozehound': 565, 'moonshine': 3949, \"who'da\": 3950, 'affection': 6321, 'nelson_muntz:': 567, 'design': 1181, 'set': 3951, 'band': 3953, 'then': 568, 'site': 6460, 'compadre': 3954, 'cozies': 570, 'microwave': 5704, 'dang': 3955, 'forty-seven': 3956, 'perch': 572, 'dennis_kucinich:': 573, 'police': 3957, 'shag': 576, 'sheets': 6763, 'bucks': 577, \"cashin'\": 3958, 'sits': 578, 'hurts': 579, 'mountain': 1407, 'video': 3959, 'hollywood': 580, 'flatly': 581, 'golden': 3960, 'sector': 3961, 'prince': 3477, 'delete': 582, 'ivory': 583, 'frescas': 3962, 'specializes': 584, 'coach:': 3963, 'low-life': 613, 'snake': 585, 'usually': 586, 'wuss': 4588, 'astronaut': 614, 'thru': 6324, 'free': 3964, 'boyfriend': 3965, 'sixty-five': 3966, 'railroad': 3968, 'butts': 3969, 'pinchpenny': 3971, 'brain-switching': 3973, 'twenty-two': 588, 'ballclub': 3974, 'than': 589, 'stirrers': 591, 'listening': 3976, 'sam:': 592, 'moment': 593, 'shreda': 594, 'follow': 596, 'ripcord': 3977, 'somewhere': 598, 'wonderful': 3978, \"she'll\": 599, 'troll': 3979, 'election': 3980, 'month': 601, 'swear': 3981, 'yep': 3982, 'cuddling': 5713, 'whoopi': 602, 'hmmmm': 603, 'hers': 3983, \"doesn't\": 604, 'lights': 3984, 'morlocks': 3985, 'heaving': 3986, 'groveling': 605, 'throats': 606, 'crummy': 607, 'sampler': 4572, 'rector': 98, 'apron': 3987, 'refreshing': 608, 'oblivious': 6169, 'lime': 620, 'sucker': 609, 'ruled': 915, 'yuh-huh': 610, 'sharity': 611, '1973': 3989, 'd': 3990, 'partners': 3449, 'paid': 5716, 'wheeeee': 612, 'ripper': 101, 'shifty': 3992, 'indecipherable': 615, 'wade_boggs:': 3993, 'couple': 3994, 'hostile': 616, 'star': 3996, 'sigh': 2891, 'lips': 617, 'shakes': 618, 'dyspeptic': 619, 'alright': 5146, 'choose': 3997, 'scratching': 3998, 'sympathetic': 621, 'u': 622, 'attack': 4576, \"tellin'\": 623, 'fatty': 624, 'crawl': 625, 'stunned': 2894, 'pin': 626, 'hiring': 4000, 'darkest': 1148, 'cheapskates': 627, 'crapmore': 628, 'pumping': 629, 'ken:': 631, 'sooner': 632, 'halfway': 634, 'wieners': 6359, 'sweetest': 4003, 'temple': 4004, 'loneliness': 635, 'cheered': 636, 'snitch': 4005, 'desperate': 4006, 'bold': 3999, 'wang': 637, 'program': 4007, 'aisle': 639, 'behavior': 4008, 'nucular': 640, 'parenting': 5705, 'woooooo': 641, \"professor's\": 4010, 'sips': 2352, 'gentles': 5884, 'agents': 4011, 'sixty': 4012, 'joey_kramer:': 4013, 'preparation': 4014, 'show': 642, 'gags': 6331, 'proper': 4016, 'starting': 643, 'bites': 644, 'beaumont': 645, 'certain': 646, 'used': 648, \"isn't\": 4017, 'cotton': 4018, 'horns': 650, 'reporter:': 1197, 'market': 3948, 'items': 651, 'rings': 4019, 'cracked': 1196, 'flowers': 1511, 'wedding': 652, 'mail': 653, 'gr-aargh': 5916, 'escort': 4020, 'insulin': 4001, 'dumpster': 4021, 'guessing': 4022, 'marriage': 4023, 'young_homer:': 4024, 'charges': 654, 'shows': 4025, 'death': 655, 'lainie:': 656, 'writers': 1542, 'cushions': 657, 'kept': 4002, 'bupkus': 4027, 'tow-talitarian': 4028, 'tears': 658, \"let's\": 1199, 'beloved': 3459, 'guzzles': 660, 'demo': 630, 'loboto-moth': 2355, 'lying': 661, 'desperately': 5150, 'dollface': 4032, 'someplace': 4034, 'buddha': 3461, 'convinced': 1457, 'socratic': 4035, 'ought': 662, 'telemarketing': 663, 'winner': 4036, 'edna': 664, 'expect': 633, 'wound': 665, 'bitterly': 666, 'malfeasance': 4039, 'team': 667, 'bauer': 4040, \"england's\": 5152, 'sinister': 4041, 'geyser': 4042, 'portentous': 4043, 'creme': 4044, 'luckily': 1200, 'self-esteem': 1201, 'betrayed': 668, 'numeral': 4045, 'defiantly': 4046, 'ball': 669, 'commission': 4047, \"marge's\": 670, 'compete': 671, 'scratcher': 2361, 'investor': 4048, 'dirty': 672, \"'tis\": 673, 'malibu': 674, 'splash': 3941, 'heavyset': 4051, 'fixes': 677, 'delighted': 4052, 'neanderthal': 4053, 'buy': 1205, 'failed': 6252, 'thrilled': 5727, 'present': 679, 'malted': 680, 'polls': 4054, 'result': 4055, 'although': 681, 'camera': 4057, 'sent': 4058, 'amber_dempsey:': 683, 'muslim': 684, 'runt': 4061, 'twenty-five': 6341, 'waterfront': 686, 'gulps': 687, 'fanciest': 688, 'blood-thirsty': 689, 'lowers': 2364, 'saying': 4063, 'certainly': 690, 'threw': 1760, 'travel': 691, 'picky': 5160, \"'im\": 4064, 'kako:': 3371, 'finishing': 4065, 'crooks': 4066, 'transfer': 692, 'elite': 693, 'life-partner': 4067, 'operation': 638, 'annus': 694, 'feminine': 4068, 'videotaped': 695, 'leans': 696, 'skirt': 6344, 'jackass': 4070, 'changes': 5915, 'complete': 4071, 'woman_bystander:': 697, 'los': 698, 'glitterati': 4072, \"buffalo's\": 6068, 'shock': 4073, 'stu': 4009, \"nixon's\": 699, 'glummy': 700, 'killer': 701, 'roz': 704, 'wreck': 706, 'appearance-altering': 4075, 'bartender': 4076, 'white': 6348, 'prison': 4077, 'doll-baby': 4078, 'japanese': 707, 'nailed': 708, \"tinklin'\": 6738, 'facebook': 4081, 'specified': 4082, 'conditioners': 6658, 'diamond': 709, 'material': 1766, 'told': 4083, 'changed': 710, 'rule': 1213, 'sat': 711, 'scum-sucking': 1768, 'swatch': 4084, 'infestation': 4085, 'ore': 4086, 'nachos': 4087, 'borrow': 713, 'quitcher': 4595, 'frozen': 4088, 'alec_baldwin:': 4089, 'mural': 4091, 'officials': 714, 'circus': 5732, 'harmony': 716, 'hearing': 717, 'multiple': 718, 'buried': 4092, 'satisfaction': 6351, \"'topes\": 719, 'wobbly': 4093, 'forced': 721, 'worse': 4094, 'alcoholic': 722, 'bow': 4095, 'insightful': 724, 'cecil': 4096, 'frazier': 4097, 'kucinich': 725, 'experience': 726, 'tapered': 4099, 'social': 5733, 'hillary': 4101, 'remaining': 728, 'smoker': 4102, \"it's\": 4103, 'novel': 4600, 'encore': 729, 'shutup': 4104, 'falling': 4015, \"shouldn't\": 730, 'child': 731, 'rhyme': 4106, 'unlike': 733, 'felt': 4107, 'go': 4108, 'created': 734, 'chunk': 736, '||left_parentheses||': 737, 'sued': 738, 'church': 739, 'pre-recorded': 4110, '/mr': 4111, 'trouble': 740, 'brooklyn': 4112, \"dolph's_dad:\": 4113, 'forty-five': 5736, 'renee:': 741, 'layer': 742, 'catch': 2910, 'expense': 4115, 'spender': 4116, 'label': 743, 'mortgage': 4117, 'young': 5738, 'tells': 4118, \"stinkin'\": 744, 'squishee': 745, 'warm_female_voice:': 4120, 'urban': 4121, 'mill': 6356, 'heather': 4122, 'hanh': 2376, 'intense': 746, 'grabbing': 4123, 'tigers': 3475, 'terrorizing': 747, 'hates': 4124, 'kent': 4125, 'arm': 4127, 'photos': 2378, 'para': 748, 'thousand-year': 4129, 'derek': 5740, 'almost': 749, 'fat': 4131, 'massage': 751, 'beards': 1432, 'du': 752, 'power': 1216, 'renovations': 753, 'mr': 647, 'typing': 1600, 'appeals': 4133, 'honor': 4134, 'file': 6358, 'simultaneous': 4135, 'a-b-': 754, 'man_with_tree_hat:': 4138, 'jamaican': 4139, 'high': 4140, 'noise': 755, 'scrape': 4142, 'düffenbraus': 649, 'lend': 1218, 'after': 756, 'problemo': 757, 'sumatran': 758, 'string': 249, 'is:': 759, 'diets': 760, 'fridge': 4143, 'graves': 4148, 'gloop': 4149, 'raking': 4147, 'gumbo': 761, 'beating': 762, 'scatter': 1221, 'cleaned': 763, 'imaginary': 4150, 'statue': 764, 'kind': 4151, 'log': 765, 'spews': 766, 'cosmetics': 767, 'of': 4152, 'hexa-': 768, 'muscles': 6363, 'punkin': 769, 'wheels': 5744, 'seem': 770, 'fuzzlepitch': 4153, 'venom': 1837, 'points': 771, 'shyly': 4154, 'terminated': 772, 'ah-ha': 773, 'sudden': 774, 'proof': 4157, 's': 4158, 'tickets': 4159, 'defensive': 777, 'perverted': 779, 'average': 781, 'heard': 5746, 'mirror': 783, 'why': 784, 'cigarettes': 3742, 'guys': 6087, \"battin'\": 785, 'feld': 786, 'humanity': 4161, 'ahem': 4162, 'simp-sonnnn': 4163, 'initially': 4165, 'email': 788, 'nickels': 789, 'unusually': 4166, 'choke': 4167, 'including': 4168, 'reminds': 4169, 'weird': 791, 'familiar': 793, 'conspiracy': 794, 'under': 4170, 'cent': 4171, 'tapping': 3605, 'p': 4173, 'five': 4174, \"yesterday's\": 1225, 'cockroach': 4175, 'or': 3376, 'song': 2363, 'apply': 4176, 'spamming': 797, 'declared': 798, 'nos': 799, 'johnny': 4177, 'hibachi': 801, 'pouring': 802, 'scene': 803, 'ebullient': 4178, 'gary_chalmers:': 4179, 'spoon': 3199, 'dough': 804, 'rolled': 805, 'knowing': 4180, \"wasn't\": 4181, 'dea-d-d-dead': 807, 'whoa-ho': 6372, 'promised': 4182, 'grateful': 809, 'astronauts': 810, 'spilled': 811, \"town's\": 812, 'latin': 4185, 'benjamin:': 4186, 'princesses': 4187, 'mither': 4188, 'softer': 5178, 'cyrano': 4534, 'laugh': 813, 'radio': 4189, 'chicken': 815, 'divine': 816, '||right_parentheses||': 4190, 'dark': 4191, 'dignity': 4192, 'napkins': 4193, 'dinks': 818, 'cutest': 4195, 'ninety-eight': 3484, 'effect': 4196, 'consoling': 5181, 'cowboys': 4197, 'excited': 820, \"show's\": 4198, 'midge:': 1230, 'enforced': 822, 'skills': 4199, 'darts': 823, 'shelbyville': 824, 'brave': 4200, \"g'night\": 825, 'eyeball': 4201, 'whatchamacallit': 4202, 'list': 5184, 'bar_rag:': 826, 'freely': 4205, 'that': 4206, 'man': 828, 'hearse': 4207, 'rolls': 4208, 'appointment': 829, 'getcha': 830, 'plans': 4209, 'manjula_nahasapeemapetilon:': 833, 'cheap': 834, 'looked': 835, 'sacrilicious': 836, 'fritz': 837, 'gayer': 4026, 'called': 838, \"betsy'll\": 4211, 'pretzel': 5186, 'knuckles': 4213, 'ominous': 839, 'acquitted': 4217, 'trail': 4215, 'wiggle': 840, 'harv:': 4218, 'eighty-six': 841, \"table's\": 842, 'reluctant': 4220, 'hubub': 5188, \"'round\": 4222, 'example': 4223, 'pre-columbian': 6377, 'pool': 4224, 'kl5-4796': 843, 'majority': 4226, 'comfortable': 844, 'squirrel': 845, 'slice': 4227, 'roach': 6378, 'dumb': 847, 'hits': 848, 'moved': 849, \"plaster's\": 659, 'thoughtless': 850, 'wave': 851, 'monroe': 4228, 'fontaine': 6702, 'labor': 852, 'plants': 853, 'overturned': 854, 'mona_simpson:': 856, 'puke': 4229, 'rocks': 857, 'fantasy': 858, 'verticality': 4030, 'holiday': 4230, 'contemporary': 859, 'shot': 4231, 'renew': 4232, 'toilet': 860, 'darkness': 861, 'scum': 4233, 'poet': 3489, 'kill': 863, 'lizard': 4234, \"fallin'\": 4235, \"haven't\": 865, 'cleveland': 866, 'there': 868, 'citizens': 5603, 'ya': 869, \"car's\": 4239, 'goodwill': 871, 'witches': 1544, 'occurrence': 4241, 'annual': 872, 'sound': 873, 'monster': 874, 'envy-tations': 4242, \"treatin'\": 3746, 'side': 4243, 'proves': 4244, 'menace': 4245, 'un-sults': 4247, 'audience:': 4248, 'sizes': 4033, 'problem': 877, 'transylvania': 878, 'faiths': 4249, 'midge': 879, \"son's\": 4251, 'slipped': 880, 'appropriate': 4252, 'bring': 4253, 'stretches': 1236, 'gin': 881, 'habit': 883, 'trust': 4255, 'needed': 4256, 'eminence': 4257, 'hall': 884, 'seen': 6668, 'industry': 885, 'nah': 4258, 'competing': 4259, 'eaten': 886, 'moonlight': 887, 'price': 4260, 'ehhhhhhhh': 888, 'filled': 4262, 'understand': 4263, 'carlotta:': 4264, 'tape': 890, 'liser': 4267, 'hyahh': 6032, 'alarm': 891, \"wonderin'\": 893, '_zander:': 894, 'dutch': 6387, 'oh': 4268, 'found': 896, 'beanbag': 4269, 'sexual': 897, 'snatch': 898, 'person': 5981, 'sponsoring': 899, 'applesauce': 4272, 'beer:': 4273, 'i': 902, 'exhaust': 903, 'darjeeling': 904, 'spending': 4274, 'dejected_barfly:': 906, 'begins': 4275, 'whining': 4276, 'rummy': 892, 'cozy': 908, 'ear': 6389, 'stolen': 4278, 'backgammon': 5198, 'je': 909, 'barflies:': 910, 'presided': 4280, 'intimacy': 4037, 'academy': 912, 'whaddya': 4281, 'frink': 4283, 'yoink': 3493, 'record': 4038, 'blackjack': 4284, 'reed': 913, 'true': 5762, 'mansions': 4285, 'fights': 914, 'tommy': 4286, 'repressed': 916, 'prizefighters': 4287, 'ran': 917, 'extended': 6319, 'duffman:': 5200, 'bars': 4289, 'cleaning': 5763, 'ding-a-ding-ding-ding-ding-ding-ding': 4291, 'wooden': 4292, 'clothespins:': 4293, 'bonfire': 921, 'woo': 6390, 'excitement': 4295, 'forever': 4296, 'rafter': 4297, 'sunday': 4298, 'wistful': 4299, \"d'\": 922, \"donatin'\": 4300, 'embarrassed': 923, 'single-mindedness': 4302, 'cronies': 4130, 'craft': 4768, 'planted': 2519, 'mushy': 1242, 'boxcar': 925, 'southern': 3406, 'metal': 926, 'official': 927, 'plan': 928, 'cake': 4303, 'flush-town': 4304, 'highway': 4305, 'interested': 931, 'weight': 4306, 'cola': 6705, 'wait': 4307, 'coms': 3496, 'realized': 6554, 'loan': 6154, 'pills': 932, 'confused': 933, \"won't\": 4308, 'jernt': 4309, 'instrument': 1802, 'savvy': 4310, 'burglary': 4312, 'paper': 934, 'clandestine': 4313, 'dunno': 4314, 'whup': 6392, 'texan': 4315, 'being': 4316, 'rain': 935, 'brightening': 4318, 'drown': 855, 'rickles': 936, 'captain': 4319, 'prank': 5208, 'hafta': 4321, 'hank_williams_jr': 3705, 'british': 4322, 'triangle': 4323, 'kim_basinger:': 937, 'coincidentally': 938, 'sideshow_mel:': 939, 'careful': 4324, 'methinks': 4325, 'cueball': 940, 'delts': 942, 'lewis': 4328, 'cobbling': 4329, 'population': 4330, 'neil_gaiman:': 945, 'surprised/thrilled': 6397, 'access': 4331, 'paramedic:': 4333, 'mexicans': 4335, 'toward': 4334, 'computer_voice_2:': 4336, 'pets': 1509, 'groans': 1154, 'down': 1813, 'santa': 946, 'macaulay': 4337, 'gone': 4338, \"jimbo's_dad:\": 948, 'vance': 1816, 'brunswick': 4339, 'capuchin': 3618, 'three': 4340, 'hunger': 6103, 'cuckoo': 949, 'came': 4341, 'pushes': 950, 'twenty-nine': 1204, 'wayne:': 4343, 'womb': 4344, 'murdered': 4345, 'arrest': 952, 'william': 4346, 'besides': 953, 'register': 954, 'struggling': 4347, 'forward': 955, 'uncreeped-out': 4348, 'sniffing': 5203, 'strategizing': 4349, 'rafters': 956, 'espn': 5316, 'correct': 4351, 'libido': 957, 'focus': 958, 'please': 4352, 'shard': 959, 'cruiser': 960, 'winston': 4353, 'elocution': 961, 'live': 4355, 'eighteen': 962, 'taken': 1249, 'psst': 4356, 'moe_recording:': 1819, 'jerking': 1820, 'awww': 4357, 'officer': 964, 'mystery': 965, 'nevada': 4359, 'crew': 4361, 'tree_hoper:': 966, 'fletcherism': 967, 'sobs': 968, 'teenage_bart:': 4362, 'feat': 4363, 'lousy': 969, 'languages': 5770, 'hmf': 4364, 'choking': 971, 'dashes': 4365, 'barney-guarding': 974, 'laughing': 973, 'disappointment': 977, 'options': 976, 'boggs': 4366, 'rat': 4367, 'awed': 978, 'shove': 4368, \"stealin'\": 979, 'catch-phrase': 4369, \"y'know\": 980, 'blown': 5461, 'let': 4049, 'tonight': 4370, 'harvey': 3374, 'mock': 4371, 'trick': 981, 'rotten': 4373, 'precious': 4374, 'anti-lock': 982, 'rainbows': 4375, 'dry': 4376, 'sheet': 5777, 'billingsley': 678, 'everyone': 3731, 'john': 4378, 'harder': 1826, 'drummer': 986, 'jailbird': 6555, 'plucked': 987, 'jukebox': 4381, 'platinum': 988, 'foundation': 4382, 'dateline:': 4383, 'need': 5638, \"hawkin'\": 991, 'criminal': 4385, 'letter': 6006, 'grey': 992, 'paparazzo': 993, 'ladies': 1252, 'france': 4387, 'blob': 995, 'over-pronouncing': 4388, \"wouldn't-a\": 6055, 'bigger': 1254, 'cops': 4389, 'pays': 1829, 'quadruple-sec': 4390, 'wordloaf': 4391, 'attracted': 4392, 'filthy': 996, 'involved': 4393, 'gas': 3603, 'walked': 4395, 'rules': 997, 'sangre': 4396, 'predictable': 1000, 'yellow-belly': 1001, 'chow': 4397, 'kirk_van_houten:': 1002, 'turned': 1003, 'investment': 1004, 'weekly': 1005, 'presumir': 4399, 'doom': 4400, 'pantsless': 1006, 'lottery': 4401, 'tear': 1007, 'aristotle:': 4402, 'bleak': 1008, 'admirer': 3507, 'lighting': 1009, 'peppers': 1010, 'am': 1011, 'making': 1012, \"'s\": 1013, 'resist': 1014, '||semicolon||': 4403, 'elder': 4404, 'reluctantly': 1015, \"puttin'\": 4405, 'corporation': 1016, 'offended': 2412, 'sight-unseen': 4516, 'foil': 4406, 'atari': 4407, 'pharmaceutical': 4408, 'unfair': 1017, 'swamp': 4409, 'barn': 1018, \"'til\": 1019, 'real': 4410, 'churchill': 4411, 'whoa': 1020, 'tablecloth': 4412, 'snotty': 4056, 'remorseful': 1021, 'gallon': 4414, 'goblins': 1022, 'installed': 4415, 'glitz': 4416, 'crab': 4418, 'laid': 1024, 'vampires': 6467, 'hit': 1025, 'memories': 4419, 'cupid': 1026, 'richard:': 1027, 'sucking': 1028, 'permanent': 4420, 'sweeter': 4421, 'handwriting': 1029, 'montrer': 782, 'syrup': 4422, 'days': 3515, 'busted': 1030, \"carl's\": 1032, 'raising': 4424, 'feed': 4425, 'victorious': 4426, 'earrings': 4427, 'totalitarians': 4428, 'apu': 4429, 'sadder': 4430, 'leftover': 1034, 'wish-meat': 4431, 'hardhat': 1035, 'oooh': 1036, 'gus': 4432, 'frog': 4433, 'verdict': 4435, 'youth': 4059, 'championship': 4437, 'lou': 1038, 'procedure': 685, 'fondest': 2770, 'belch': 47, 'bury': 1041, 'reckless': 4440, \"wino's\": 1042, 'sitting': 1043, 'ees': 1044, 'tomahto': 4442, 'losers': 4443, 'whisper': 4444, '||dash||': 1045, 'represent': 4446, 'sweetie': 4447, 'moustache': 1047, 'cause': 1048, 'bully': 4448, 'girl': 1049, 'results': 1050, 'natured': 1052, 'swallowed': 4449, 'brockelstein': 4450, 'occurred': 1054, 'lurleen': 1055, 'quite': 4452, 'frankie': 4453, 'museum': 1057, 'estranged': 4454, 'bell': 4535, 'stock': 1058, \"'now\": 4455, 'aw': 4456, 'fbi': 2951, 'candles': 1060, 'fabulous': 4270, 'pissed': 1061, 'adventure': 1062, 'fad': 4457, 'whoo': 1064, 'scotch': 4460, 'premiering': 4461, 'bourbon': 6424, 'partly': 1065, 'ew': 1066, 'talkative': 4062, 'puzzle': 1067, 'thing:': 1068, 'invulnerable': 4462, 'good': 4463, 'cartoons': 1069, 'feisty': 4465, 'funds': 5220, 'road': 4466, 'deals': 1070, 'ivy-covered': 1072, 'lost': 1073, 'passports': 3379, \"drawin'\": 1074, 'dash': 5791, 'airport': 4467, 'pee': 4468, 'offense': 4472, 'generosity': 1075, 'stagehand:': 1261, 'cooking': 1076, 'got': 4473, \"doin'\": 6427, 'treasure': 4474, 'feet': 5224, 'soul-crushing': 1078, 'up-bup-bup': 4475, 'chill': 1079, 'indignant': 1080, 'tom': 1081, 'incarcerated': 1082, 'course': 1083, 'lessee': 1084, 'shesh': 4477, 'banks': 1085, 'stiffening': 3523, 'cab': 1087, 'plant': 1088, 'mistakes': 1089, 'system': 1090, 'ivanna': 1091, \"they'd\": 5227, 'highest': 1092, 'way': 4478, 'stay': 1093, 'vampire': 4479, 'angrily': 1094, 'bursts': 1095, 'kitchen': 1096, 'remodel': 1097, \"d'ya\": 1098, 'chuck': 1099, '_powers:': 4480, 'howya': 1101, 'broke': 4482, 'mcstagger': 1102, 'guts': 1103, 'justify': 1104, 'reading': 1105, 'sickly': 4483, 'noose': 4485, 'alternative': 1106, 'aquafresh': 4486, \"where'd\": 4487, 'throat': 6430, 'invented': 4488, 'creeps': 4489, 'nine': 1108, 'solves': 4490, 'gets': 1844, 'sabermetrics': 5796, 'pen': 1109, 'dumb-asses': 4491, 'lord': 5795, 'new_health_inspector:': 4492, \"football's\": 1112, 'apu_nahasapeemapetilon:': 1113, \"scammin'\": 3752, 'poetics': 4237, 'corkscrews': 4649, 'ignorant': 5907, 'priority': 1114, \"how's\": 4494, 'tester': 1115, 'unearth': 1116, 'fun': 1117, 'though': 4495, 'take-back': 4496, 'opportunity': 1119, 'steaming': 5689, '8': 4497, \"rasputin's\": 1123, 'dirt': 3530, 'protestantism': 4499, 'fold': 1270, 'u2:': 1124, 'classy': 4500, 'utility': 4501, 'onto': 1125, 'democrats': 4502, 'sanitary': 4503, 'voyager': 1126, 'music': 4504, 'fourteen:': 3532, 'unattended': 1128, \"'kay-zugg'\": 4505, 'inspection': 4506, 'whatever': 4507, 'tin': 1131, 'enjoy': 4069, 'charged': 1132, 'dexterous': 1133, 'yogurt': 5231, 'loved': 4508, 'intruding': 4509, 'attractive': 4510, 'round': 4511, 'l': 4512, 'solely': 2377, 'ram': 1272, 'adult': 4513, 'harvard': 4514, 'honest': 4515, 'zone': 1138, 'evasive': 1139, 'polishing': 4517, 'mamma': 1140, 'another': 4519, 'magnanimous': 1963, 'perfect': 1141, 'yelp': 1142, 'testing': 4520, 'hooch': 4521, 'gosh': 4522, 'disturbance': 1143, 'giggle': 4523, 'whoever': 1145, 'drove': 4524, 'oddest': 4525, 'counting': 4526, 'winks': 6288, 'resolution': 1146, 'bank': 6613, 'ned': 4527, 'radiator': 4529, 'victim': 4530, '21': 4531, 'comedy': 1147, 'browns': 4533, 'fast-paced': 1149, 'barber': 1150, 'coffee': 1151, 'counterfeit': 1152, 'benefits': 4074, 'kick-ass': 1153, 'telegraph': 2335, 'cocktail': 1276, 'stan': 4537, 'health': 4536, 'bragging': 1155, 'stepped': 4538, 'aggie': 4539, 'deny': 1277, 'agreement': 4541, 'kindly': 1156, 'assumed': 1157, 'baseball': 4542, 'pizza': 6472, 'onassis': 4279, 'god': 4543, 'engraved': 1159, 'conversion': 4544, 'starve': 4545, 'swell': 4546, 'liver': 5623, 'loathe': 4547, 'moans': 703, 'and:': 4548, 'faint': 4549, 'daughter': 1160, 'conspiratorial': 4550, 'fill': 4551, \"'ere\": 6528, \"what's\": 4552, 'utensils': 1161, 'now': 1162, 'wolverines': 4553, 'hare-brained': 1163, 'briefly': 4554, 'composite': 705, 'wealthy': 4555, 'nods': 1165, 'burger': 4556, 'hangout': 1167, 'minus': 4557, 'stalking': 4558, 'turkey': 3539, 'gunter': 1169, 'morose': 4559, 'box': 4560, 'cage': 1170, 'leonard': 1171, 'outta': 4561, 'flexible': 6437, 'wondering': 1173, 'theory': 1175, 'booze-bags': 1195, 'complicated': 1176, 'eighty-five': 4562, 'november': 1177, 'basement': 4563, \"fightin'\": 1178, 'kang:': 1282, 'conclusions': 5236, 'wall': 1179, 'type': 4564, 'monorails': 1180, 'presents': 4565, 'uninhibited': 4566, 'delightful': 1182, \"c'mere\": 1183, 'dials': 1184, 'waylon_smithers:': 4567, \"rentin'\": 1185, 'here-here-here': 4570, 'suing': 173, 'missed': 1186, 'because': 1187, 'oblongata': 4079, 'canyonero': 4571, 'inside': 4574, 'odd': 1938, 'tasimeter': 4575, 'rims': 1188, 'smurfs': 4577, 'poster': 4578, 'decency': 4579, 'till': 1189, 'braun:': 1190, 'mimes': 4580, 'corner': 4581, 'answering': 676, \"who's\": 1191, 'without:': 1192, 'easily': 1193, 'female_inspector:': 1194, 'papa': 4582, 'almond': 1198, 'knife': 4583, 'drederick': 4584, \"'morning\": 4080, 'nascar': 5036, 'ballot': 4585, 'encores': 4667, 'pity': 5684, 'seats': 4586, 'richer': 4587, 'slays': 1202, 'federal': 1203, 'patriotic': 4589, 'tolerance': 4590, 'lance': 1206, 'caveman': 4591, \"mtv's\": 1207, 'reading:': 1208, 'indifferent': 1210, 'actor': 1211, 'ehhhhhhhhh': 4593, 'thanking': 4594, 'icy': 4596, 'less': 4597, 'smiled': 5202, 'city': 4598, 'legal': 4599, 'sales': 5994, 'department': 1214, 'doreen': 4601, 'according': 1286, 'confidentially': 4602, 'asks': 712, 'deserve': 4603, 'peaked': 4604, 'species': 4605, 'glad': 1217, 'cavern': 4673, 'some': 1219, 'throw': 1220, 'killing': 1222, 'bite': 1223, \"enjoyin'\": 4606, 'grimly': 4607, \"cleanin'\": 6328, 'bachelorette': 4608, 'thrown': 1224, 'such': 4609, 'chuckle': 4610, 'use': 1226, 'nbc': 4611, 'kansas': 6051, 'adjust': 1227, 'open': 1228, '4x4': 1229, \"money's\": 4613, 'funeral': 4614, 'pull': 1231, 'drinking:': 4615, \"getting'\": 4616, 'nice': 1232, 'dollar': 1233, 'prove': 1234, 'premise': 1235, 'issues': 1289, 'peabody': 4617, 'agency': 3545, 'sink': 4618, 'tipsy': 1237, 'oughtta': 1238, 'pointed': 432, 'volunteer': 4676, 'christopher': 4619, 'finish': 1239, 'pawed': 4620, 'selma': 4621, 'twice': 1240, 'mission': 1241, 'porn': 4029, 'hanging': 4622, 'life-sized': 4623, 'stalwart': 4624, 'script': 1243, 'roz:': 1244, 'distaste': 4625, 'slapped': 1245, \"number's\": 1246, \"cat's\": 3549, 'lemonade': 4090, 'troy': 4626, 'stores': 1247, 'shaky': 6452, 'look': 1248, 'agent_miller:': 1250, 'buyer': 4627, 'yawns': 4628, 'wally:': 6453, 'peeved': 4629, 'producers': 184, 'noooooooooo': 4630, 'carey': 4631, 'bill': 1292, 'bar': 3551, 'singing/pushing': 4632, 'tied': 1251, 'a-lug': 1253, 'thunder': 185, 'suit': 4633, 'decided': 1255, 'him': 4634, 'clips': 1256, 'dispenser': 4635, 'ointment': 1257, 'swimmers': 4636, 'augustus': 4637, 'foot': 4638, 'courage': 4639, 'stacey': 4640, 'naval': 4641, 'funniest': 1258, 'david_byrne:': 1293, 'blame': 1259, 'nightmares': 4642, 'mug': 1260, 'fl': 1086, 'voice:': 4643, 'onions': 4644, 'macgregor': 5122, 'harrowing': 1262, 'project': 4645, 'thomas': 1263, 'sidelines': 4646, 'sodas': 1264, 'shall': 4647, 'nursemaid': 1265, 'yee-ha': 190, 'drank': 4648, 'smoothly': 1266, 'reunion': 5247, 'afraid': 1267, 'businessman_#2:': 1268, 'public': 1269, 'debonair': 1271, 'bunch': 4650, 'gossipy': 4651, 'friends': 5249, 'beeps': 4653, 'cries': 4654, 'generally': 4655, 'maude': 4656, 'ice': 4657, 'luckiest': 4658, 'long': 1274, 'tar-paper': 1275, 'anti-crime': 4684, 'test-lady': 3553, 'obese': 4659, 'sprawl': 1278, 'cheer': 4660, 'tune': 5250, 'fondly': 2987, 'potatoes': 1279, 'danny': 1280, 'famous': 720, 'woodchucks': 1297, 'stumble': 1281, 'space': 4661, 'shakespeare': 4662, 'pats': 4663, 'end': 4664, 'enthusiasm': 1283, 'pictured': 4665, 'bindle': 4666, \"payin'\": 1284, 'shipment': 5251, 'ford': 1299, 'ashtray': 1285, 'anxious': 723, 'hobo': 4668, 'customers-slash-only': 5252, 'slab': 4669, 'minutes': 4327, 'priest': 4670, 'unrelated': 4671, 'pulls': 4672, 'physical': 2460, 'patting': 4674, \"sittin'\": 1290, 'wildest': 4677, 'warn': 5825, 'mike': 3556, 'emphasis': 4678, 'tentative': 4679, \"that'd\": 4680, 'gimmick': 4681, 'trash': 1294, 'quimby': 1295, 'words': 4682, 'inherent': 1296, 'mean': 4691, 'monkey': 4685, 'stretch': 1298, 'tank': 4686, 'dee-fense': 4687, 'elaborate': 4688, 'depressing': 4689, 'mcclure': 1300, 'cruel': 1301, 'boxer': 1302, 'word': 4690, 'marguerite:': 4692, 'whale': 1303, 'punk': 5255, 'positive': 4693, \"bladder's\": 4098, 'yo': 1305, 'boo': 5256, 'cigarette': 1306, 'sharing': 1307, 'improv': 202, 'neighboreeno': 4696, 'larson': 727, 'afterglow': 4698, 'prints': 4699, 'computer': 1308, 'regretful': 1309, 'placed': 6465, 'othello': 1310, 'feedbag': 4701, 'jeff': 1311, 'purse': 4702, 'tabooger': 4703, 'yoo': 1304, 'happen': 4704, \"g'on\": 4705, 'cell-ee': 1313, 'pain': 2993, \"people's\": 4706, 'cherry': 4707, 'showed': 1314, 'ordered': 1315, 'recently': 4708, 'hootie': 3558, 'attach': 4709, 'noble': 6732, 'occurs': 4710, 'friction': 1876, 'sometime': 4711, 'stinks': 1317, 'punishment': 4694, 'looting': 1318, 'oooo': 4712, 'protesters': 4695, 'sun': 1319, 'triumphantly': 1320, 'onion': 5260, 'jägermeister': 4714, 'written': 4715, 'gargoyles': 1321, 'sex': 3559, 'care': 1322, 'rich': 1323, 'tatum': 1324, 'switched': 1327, 'togetherness': 1326, 'tons': 4719, 'carmichael': 2997, 'disappointing': 1329, 'get': 6657, 'workers': 1330, 'flaking': 4721, 'ralphie': 1332, 'girlfriend': 1334, 'lied': 1335, 'street': 4697, 'powers': 1336, \"renovatin'\": 4722, 'eliminate': 4723, 'continuing': 1337, 'statistician': 3000, 'fireball': 4725, 'tooth': 1338, 'hair': 4727, 'sudoku': 6640, 'shocked': 1340, 'silence': 732, 'inspector': 1341, 'hilton': 682, 'manipulation': 6474, 'germs': 4729, 'kids': 4730, 'knowledge': 1342, 'tire': 1343, 'throwing': 1345, 'milhouse': 5834, 'license': 1346, 'answered': 4731, 'message': 4732, 'unless': 4733, 'mayan': 4734, 'always': 4540, '_babcock:': 19, 'bloodiest': 1349, 'extra': 3004, \"weren't\": 1350, 'fudd': 4700, 'krabappel': 4736, 'vacuum': 4737, 'did': 1352, 'awful': 1353, 'queer': 1354, 'rekindle': 4738, 'seductive': 4739, 'shorter': 1355, 'yesterday': 1356, 'glen': 4740, 'other_book_club_member:': 735, 'adult_bart:': 1357, 'reserve': 1209, 'fit': 1358, \"fun's\": 1312, 'thirty-five': 4742, 'air': 4743, 'assassination': 4744, 'exquisite': 4745, 'louder': 4746, \"what'sa\": 1359, 'actress': 4747, 'eddie:': 1361, \"i'unno\": 5835, 'hawaii': 4748, 'ringing': 1362, 'patterns': 1363, 'environment': 4749, 'players': 4750, 'awwww': 2632, 'palmerston': 6476, 'magic': 4751, 'dignified': 4752, 'ech': 4753, 'coaster': 1364, \"poisonin'\": 3563, 'head': 4109, 'grienke': 4754, 'jerry': 1365, \"someone's\": 4755, 'arms': 4756, 'barney-type': 4757, 'salt': 1367, 'barney-shaped_form:': 5265, \"man's\": 4758, 'bidet': 1368, 'pure': 4759, 'jeff_gordon:': 1369, 'reminded': 4760, 'foodie': 1370, 'newest': 4761, 'disgraceful': 1371, 'tv': 4762, 'seamstress': 1372, 'hemoglobin': 5348, 'tell': 4763, 'involving': 6479, 'take': 1373, 'carpet': 4764, 'terrific': 1375, 'pledge': 5268, 'gimmicks': 4765, 'wallet': 5838, \"hell's\": 2581, 'broken': 4766, 'grunt': 1377, 'chanting': 6480, 'idiots': 1379, \"tony's\": 1381, 'lobster-politans': 4767, 'wow': 1382, 'jay:': 4770, 'baby': 4771, \"chewin'\": 4772, 'trade': 1383, 'gangrene': 4773, '_eugene_blatz:': 4774, 'developed': 3988, 'blimp': 5840, 'nordiques': 4775, 'lazy': 1385, 'royal': 1889, 'joke': 4776, 'dingy': 1386, 'toledo': 4777, 'snorts': 1316, 'hostages': 5118, 'moe-clone:': 4778, 'thawing': 4779, 'confidence': 4780, 'grenky': 1389, 'soaking': 4781, 'recreate': 4782, 'if': 1390, 'fancy': 1391, 'unavailable': 4783, 'thirty': 4784, 'vicious': 1392, 'goldarnit': 4785, 'inanely': 1771, 'maybe': 4726, 'memory': 4786, 'bart': 4788, 'simplest': 1393, 'coast': 4789, 'mccarthy': 4790, 'femininity': 1394, \"everyone's\": 6482, 'etc': 1395, 'panties': 1396, 'matter-of-fact': 4791, 'falsetto': 1397, 'knocked': 2478, 'pipe': 1398, 'cheery': 3565, 'idiot': 1399, '_montgomery_burns:': 4792, 'however': 1400, 'rip': 1402, 'refund': 4793, 'pipes': 1404, 'billboard': 4794, 'flash': 2112, 'mcbain': 5757, 'savings': 4795, 'coherent': 5272, 'people': 4796, 'plenty': 5843, 'dealt': 1405, 'judge': 4114, 'shindig': 6250, 'mate': 4797, 'equal': 4798, 'small': 3908, 'movie': 4799, \"drinkin'\": 5912, 'wangs': 1406, 'school': 4800, 'sunk': 4801, 'broadway': 4802, 'relaxed': 5844, 'series': 4803, 'swine': 218, 'grieving': 1409, 'satisfied': 4805, 'reentering': 1410, 'chubby': 4806, 'takeaway': 4807, 'mccall': 1411, 'taught': 4808, 'sang': 4809, 'piece': 1412, 'runs': 1413, 'middle': 3576, 'watashi': 1898, 'leave': 5079, 'flag': 4810, 'text': 1415, 'reasonable': 4811, 'eat': 4812, 'behind': 6334, 'leathery': 1416, 'mexican': 4814, 'pregnancy': 4183, 'solid': 4815, 'tiny': 3415, 'filth': 5275, \"ya'\": 1417, 'itchy': 6438, 'stools': 4817, 'dropped': 4818, 'future': 4819, 'drives': 1122, 'james': 4821, 'beaumarchais': 1419, 'patron_#2:': 1420, 'haplessly': 1421, 'snackie': 4119, 'whatcha': 4823, '2': 4824, 'massachusetts': 4825, 'rationalizing': 4826, 'house': 1422, 'carl:': 4827, 'uses': 4829, 'puff': 1423, 'madman': 4830, 'perhaps': 1424, 'regret': 4831, \"snappin'\": 1903, 'hopeful': 4832, 'flanders:': 4833, 'sacrifice': 4834, 'kidneys': 6488, 'civilization': 1425, 'interesting': 1905, 'keeps': 4836, 'slaps': 2490, 'stand': 1426, \"what're\": 4837, 'multi-national': 4838, 'from': 4713, 'flophouse': 4839, 'booger': 4841, 'rebuilt': 4842, 'peanut': 1428, 'offer': 1429, 'haircuts': 4843, 'sponge': 6513, 'streetlights': 1430, 'signal': 4844, 'checks': 1431, 'hated': 4716, 'cocks': 6091, 'barf': 4845, 'agent': 4846, 'pack': 4847, 'considers': 1433, 'sings': 4848, 'bread': 1434, 'tidy': 4126, 'kermit': 4717, 'laramie': 4849, 'icelandic': 1435, 'startup': 4850, \"renee's\": 1325, 'soothing': 4851, 'your': 4852, 'carny:': 1436, 'xx': 1437, 'risqué': 1438, 'health_inspector:': 4436, 'skinny': 4853, 'hillbillies': 4854, 'every': 1439, 'bathing': 1440, 'warmth': 4855, 'prejudice': 1441, 'gabriel:': 4856, 'pocket': 1328, 'born': 5047, \"clancy's\": 4858, 'generously': 4859, 'english': 1442, 'society_matron:': 4860, \"talkin'\": 4861, 'sheepish': 1443, 'tree': 4862, 'chief': 4128, 'refreshingness': 3582, 'miserable': 4863, 'unsourced': 4865, 'homer_simpson:': 4866, 'diaper': 4867, 'vehicle': 4868, 'heads': 1448, 'dateline': 5887, 'self-satisfied': 1449, 'doy': 1450, 'figures': 1451, 'grab': 4869, 'bonding': 1453, 'bolting': 5855, 'racially-diverse': 1333, 'ugly': 4870, 'patrons': 5281, 'father': 4871, 'arts': 4720, 'gabriel': 5676, 'dammit': 1454, 'manfred': 1456, 'non-american': 6493, 'cajun': 4872, 'freeze': 4873, 'shriners': 1458, 'writing': 4874, 'sensitivity': 4875, 'experiments': 1462, 'unhook': 1463, 'clams': 5857, 'pointedly': 1464, 'morning-after': 4876, 'bills': 4877, 'lady_duff:': 4132, 'chew': 5393, 'forgot': 4878, 'duffman': 4879, 'single': 4880, 'dealer': 1466, 'soul': 4881, 'jacks': 5269, 'quebec': 4884, 'nibble': 4883, 'forty': 1469, 'lucius': 4885, 'choked': 1471, 'underbridge': 6494, 'sandwich': 1348, 'okay': 4886, 'ridiculous': 1472, 'anger': 1473, 'musta': 4887, 'eleven': 1474, 'stupidly': 4888, 'badly': 4724, 'indifference': 1475, 'sob': 3828, 'bubbles': 1476, 'iran': 3586, 'parking': 1477, 'having': 4889, 'locked': 6496, \"you'd\": 4890, 'boxers': 3573, 'media': 1478, 'moving': 4891, 'sponge:': 4137, 'homunculus': 4892, 'nature': 6498, '10:15': 4893, \"i'd\": 1480, 'manatee': 1481, 'artist': 1482, 'examples': 4894, 'million': 1483, 'choice:': 4895, 'host': 1484, 'mexican_duffman:': 1485, 'outstanding': 1486, 'cocking': 1487, 'blinds': 4896, 'heatherton': 1488, 'thing': 1490, 'strips': 943, 'presently': 1492, 'wishing': 4897, 'eight-year-old': 1494, 'eager': 1495, 'menlo': 4203, 'waist': 4899, 'michael': 4900, \"it'd\": 4901, 'trustworthy': 5084, 'stamps': 4902, 'lay': 1497, 'lives': 6499, 'colossal': 4141, 'charming': 1499, 'agh': 1500, '&': 1501, 'muscle': 1339, 'inspire': 1502, 'increasingly': 4903, 'jackpot-thief': 1504, \"cheerin'\": 4904, 'philip': 5290, 'domestic': 4905, 'beard': 4906, 'heading': 4907, 'proposing': 4909, \"cupid's\": 4911, 'droning': 4910, 'way:': 1507, 'cummerbund': 1508, 'none': 4912, 'would': 1510, 'oil': 4913, 'poke': 1512, 'spot': 6202, 'men:': 4031, 'knuckle-dragging': 4914, 'con': 6625, 'gasp': 5291, 'pyramid': 1513, 'jelly': 3370, 'shame': 1514, 'index': 4915, 'joint': 4916, 'tempting': 4917, 'dilemma': 3588, 'shack': 1516, 'widow': 4728, 'admit': 4919, 'ironed': 4920, 'gluten': 1517, 'inexorable': 1518, 'pirate': 1519, 'lisa': 4921, 'celebrate': 1520, 'busiest': 1521, 'nurse': 1522, 'worthless': 4922, 'idealistic': 4923, 'center': 1523, 'states': 4924, 'tips': 1525, 'chastity': 5293, 'tired': 4925, 'stingy': 4926, 'do': 4927, 'apulina': 4928, 'kicks': 1526, 'oopsie': 4144, 'pardon': 1528, 'fortensky': 1530, 'gardens': 4145, 'nantucket': 1531, '_burns_heads:': 4929, 'ticket': 4612, 'pathetic': 4146, 'motor': 4930, 'violations': 4931, 'bumblebee_man:': 1532, 'table': 4932, 'juice': 4933, 'buffalo': 6504, 'malabar': 1533, 'admitting': 1534, 'aggravated': 4934, \"i've\": 1344, 'straight': 1805, 'alive': 5296, \"livin'\": 1718, 'beep': 4935, 'brawled': 5297, 'mini-beret': 1536, 'represents': 1546, 'sedaris': 4937, 'grub': 4938, 'suburban': 4939, '||period||': 4940, 'rosey': 4941, 'kent_brockman:': 3218, 'lager': 4942, 'covers': 1541, \"somethin's\": 1347, 'break': 1545, \"phone's\": 4943, 'nearly': 4944, 'forget-me-shot': 4945, 'diablo': 5870, 'shaken': 4946, 'doooown': 4947, 'chauffeur': 4948, 'chumbawamba': 4949, 'work': 4950, 'marshmallow': 1547, 'thighs': 1548, 'despite': 4951, 'most:': 1550, 'tow': 4952, 'cranberry': 1551, 'ugliest': 6509, 'lungs': 4953, 'grade': 5501, 'margarita': 1553, 'flash-fry': 1554, 'stones': 1933, 'high-definition': 1555, 'peeping': 4954, 'full-time': 1556, 'encouraged': 1557, \"where's\": 1558, 'vote': 4955, 'gun': 1351, 'medieval': 6214, 'seminar': 4956, 'madonna': 1559, 'surprise': 1560, 'approval': 1561, 'hour': 398, 'promotion': 1563, 'cobra': 4958, 'reptile': 4959, 'woe:': 4960, 'steel': 4961, 'smuggled': 4962, 'congratulations': 3018, 'illustrates': 3508, 'democracy': 4964, 'scoffs': 4965, 'food': 5431, 'men': 1564, 'hawking:': 4966, 'failure': 4967, 'de-scramble': 1566, 'things': 4969, 'jolly': 5421, 'jackson': 1567, 'chorus:': 1568, 'sly': 4970, 'loves': 4971, 'wage': 1569, 'portfolium': 1570, 'botanical': 4972, 'dae': 1571, 'breathtaking': 4973, 'abolish': 3037, 'blows': 4974, 'gorgeous': 3596, 'hundreds': 4975, 'count': 4976, 'purveyor': 1574, 'excuses': 1575, 'limber': 4977, 'happily:': 1578, 'hotel': 1579, 'me': 6512, '1895': 4978, 'tie': 1580, 'insured': 4979, 'thanks': 4980, \"game's\": 5985, 'novelty': 4981, 'mickey': 4982, 'cameras': 4983, \"one's\": 4985, 'beer': 4986, 'atlanta': 1581, 'all-all-all': 4987, 'clock': 1582, 'few': 4988, 'stadium': 1584, 'quick': 1585, 'dull': 1939, \"linin'\": 4989, 'fainted': 4990, '50%': 4991, 'clone': 4993, 'walks': 1588, 'intakes': 1589, 'sturdy': 1590, \"shan't\": 1591, 'boxer:': 1592, 'coal': 1594, 'blocked': 4994, 'roses': 1595, 'disguise': 5306, 'it': 1597, 'uhhhh': 6515, 'loyal': 4996, 'wantcha': 4804, 'adopted': 1598, 'potato': 1599, 'kidney': 4997, 'address': 4998, \"spiffin'\": 4999, 'forget-me-drinks': 257, 'scientists': 5000, 'tinkle': 5001, 'amazing': 5002, \"dad's\": 3402, 'restless': 1601, 'railroads': 6027, 'point': 5004, 'maintenance': 1944, 'inspired': 1602, 'handed': 1946, 'generous': 6517, 'kills': 5007, 'linda': 5008, 'anymore': 3600, 'seat': 4155, 'superhero': 5009, 'grampa': 5010, 'express': 1498, 'patrons:': 1604, 'stage': 4156, 'nation': 1605, 'friendship': 5011, 'eye-gouger': 3019, 'waitress': 6518, 'americans': 5012, 'folk': 1607, 'sustain': 5013, 'chinese': 1608, 'freshened': 5014, 'situation': 1609, 'gentleman:': 1610, 'gestated': 5015, 'badge': 1611, 'jockey': 4741, 'weeks': 1612, 'nameless': 5016, 'explain': 5018, 'ayyy': 1614, 'lead': 5880, 'smithers': 5019, 'based': 5020, 'gel': 1616, 'rough': 5021, 'fustigate': 5022, 'shark': 1617, \"knockin'\": 776, 'soup': 5024, 'hurry': 1618, 'powerful': 1619, 'website': 1620, \"smokin'\": 5025, 'passes': 1622, 'fellow': 5026, 'dizer': 5027, 'shaved': 1624, 'know': 1625, \"round's\": 1506, 'sees': 6520, 'average-looking': 5028, 'tv_daughter:': 5029, 'cappuccino': 1627, 'died': 5030, 'available': 1628, 'greetings': 5895, 'unison': 5311, 'store': 778, 'sweetheart': 1630, 'man_at_bar:': 1631, 'bye': 5032, 'first': 1632, 'fatso': 1633, 'lloyd': 1634, 'teriyaki': 5033, 'window': 5034, 'prettiest': 5312, 'passenger': 5035, 'muertos': 1635, 'norway': 1636, 'eu': 4160, 'non-losers': 1637, 'phlegm': 5037, 'calm': 5038, 'realize': 1638, 'relieved': 1639, 'delicately': 5039, 'fault': 1640, 'edna_krabappel-flanders:': 5040, 'due': 1641, 'love-matic': 5041, 'lou:': 1642, 'faces': 1110, 'place': 1643, 'rip-off': 5042, 'dames': 5043, 'wide': 5044, \"dyin'\": 5046, 'photo': 1644, 'rush': 1645, 'voted': 1647, 'beached': 5048, 'rob': 1951, 'fools': 5049, 'send': 1648, 'meet': 1649, 'homer': 1650, 'games': 1651, 'folks': 4683, 'mother': 1652, 'party': 1653, 'killarney': 1654, 'advance': 1655, 'bar:': 787, 'heartless': 4445, 'gulliver_dark:': 1657, 'combination': 5051, 'disgrace': 6666, 'simple': 1658, 'during': 3051, 'jimmy': 3616, 'lady': 1659, 'prompting': 5054, 'enterprising': 1660, 'gimme': 5055, 'tropical': 1661, 'bedbugs': 1662, 'drunks': 5056, 'wh': 5057, 'factor': 5058, 'known': 5059, 'family-owned': 1663, 'edna-lover-one-seventy-two': 1664, 'different': 1665, 'knocks': 5061, 'nineteen': 1666, 'backwards': 1667, 'kick': 1669, 'suppose': 1670, 'world': 5062, \"i'm-so-stupid\": 5063, 'corpses': 6529, 'haw': 1672, 'lifestyle': 1675, 'chairman': 1674, 'dumbbell': 5065, 'danish': 5066, 'nose': 5067, 'somehow': 5069, 'compressions': 5070, 'football_announcer:': 5071, 'spare': 1676, 'comes': 5073, 'press': 6386, 'f': 1677, 'heck': 1955, \"brady's\": 5075, \"s'cuse\": 1678, 'drift': 1679, 'cannot': 1680, 'firmly': 1681, \"o'reilly\": 5077, 'rug': 5078, 'idea': 4050, 'in-in-in': 1682, 'impeach': 1683, \"washin'\": 5081, 'bid': 5082, 'slap': 1685, 'chest': 5086, 'lookalike:': 1686, 'naturally': 5087, \"man's_voice:\": 1687, 'network': 5088, 'detail': 5089, 'shareholder': 1688, 'jovial': 5090, 'relationship': 1689, 'crappy': 1959, \"you're\": 1690, '6': 1691, 'bagged': 5092, 'enthused': 251, 'great': 1692, 'snake_jailbird:': 1693, 'cookies': 790, 'zinged': 5094, 'clench': 5095, 'somebody': 5096, 'crestfallen': 1694, 'exchange': 5097, 'payback': 2711, 'man_with_crazy_beard:': 5322, 'sobriety': 1695, 'consulting': 1414, 'popular': 1697, 'face-macer': 5098, 'effigy': 1698, 'david': 1699, 'run': 1700, 'football': 1702, 'kidding': 5100, 'wrestle': 1703, 'source': 5900, 'ned_flanders:': 5101, 'replace': 1704, 'trying': 5103, 'alcohol': 5105, 'bill_james:': 5106, 'closet': 1705, 'kickoff': 5108, 'salvation': 1706, 'fact': 1707, 'pontiff': 1708, 'düff': 5111, 'horror': 5112, 'self': 5113, 'yourselves': 1709, 'fury': 5114, \"fendin'\": 5115, 'healthier': 5117, 'steinbrenner': 5109, 'radioactive': 1710, 'poisoning': 5119, 'acting': 5120, 'steam': 5121, 'fragile': 5123, 'personal': 1711, \"changin'\": 1712, 'carlson': 1713, 'karaoke_machine:': 5125, \"o'clock\": 5126, 'impatient': 5127, 'entering': 1714, 'nonsense': 6538, 'sacajawea': 1715, 'what-for': 5128, 'using': 5129, 'daniel': 1716, 'glamour': 1719, 'manboobs': 4100, 'dismissive': 1720, 'fears': 1721, 'holy': 5130, 'uniforms': 5131, 'stomach': 1722, 'hangover': 795, 'question': 1723, 'gumbel': 1724, 'well-wisher': 1726, 'errrrrrr': 796, \"squeezin'\": 1727, 'cute': 1728, 'rounds': 2532, \"when's\": 1729, 'pudgy': 1730, 'society': 5133, 'remote': 1731, 'vomit': 5134, 'regulations': 1732, 'alcoholism': 1733, 'massive': 5135, 'root': 1734, 'tenuous': 1735, \"thing's\": 5136, 'julienne': 5137, 'priceless': 1736, 'maitre': 1737, 'army': 1739, \"spyin'\": 5138, 'girl-bart': 5139, 'hears': 1740, 'painless': 1741, 'maximum': 5140, 'mumbling': 2694, 'she-pu': 5141, 'aging': 1742, 'process': 1743, 'mckinley': 5142, 'hooked': 1744, \"thinkin'\": 5143, 'nahasapeemapetilon': 5144, 'paints': 1967, 'hammy': 1745, 'wife-swapping': 1746, 'hunter': 1747, 'windex': 5145, 'luxury': 1748, 'klingon': 5147, 'sympathizer': 5148, 'neck': 5149, 'charter': 1374, 'fat_tony:': 5326, 'garbage': 1749, 'quimby_#2:': 4060, 'alpha-crow': 1750, 'elect': 1751, 'secrets': 1752, 'chuckling': 1753, 'insecure': 1754, 'start': 1755, 'committing': 5151, 'fat-free': 1756, 'examines': 1757, 'spied': 258, 'aww': 5909, 'spitting': 5153, 'pusillanimous': 5154, 'benjamin': 5155, 'getup': 5156, 'buddies': 800, \"men's\": 1758, 'clammy': 1759, 'sketching': 5157, 'who-o-oa': 1761, 'intervention': 5158, 'coy': 5159, 'consider': 1762, 'couch': 1763, 'flashing': 5162, 'dress': 5163, \"blowin'\": 1764, 'homers': 1765, \"tomorrow's\": 1767, 'become': 1769, 'grudgingly': 5164, 'drawer': 1378, 'scarf': 1770, 'vacation': 5165, 'hop': 1772, 'affectations': 5166, 'sarcastic': 5167, 'steak': 1773, 'glorious': 5168, 'wikipedia': 1774, 'arrived': 6549, 'determined': 5169, 'gals': 1775, 'respect': 1776, 'schnapps': 264, \"homer'll\": 5170, 'parked': 5171, 'specials': 5172, 'pilsner-pusher': 5173, 'hug': 5174, 'guilt': 5175, 'commanding': 1777, 'mirthless': 5176, 'soot': 5177, 'along': 1778, 'too': 1779, 'harv': 1780, 'devastated': 5179, 'wenceslas': 1781, 'homie': 1782, 'seven': 1783, 'butt': 1784, 'informant': 5183, \"singin'\": 4769, 'fringe': 1785, 'farthest': 5331, 'outside': 1786, 'chinua': 5185, 'eventually': 1787, 'thousand': 5187, 'castle': 806, 'upsetting': 1788, 'notably': 1789, 'sap': 1790, 'shaker': 5189, 'parasol': 3636, 'e-z': 1792, 'gees': 5190, 'salary': 5191, 'reward': 1384, 'fiiiiile': 1793, 'whole': 5192, 'kemi': 1794, 'looks': 5193, 'body': 1795, 'kinds': 1796, 'vanities': 5196, 'treats': 1797, 'tight': 5197, 'greedy': 808, 'thnord': 5199, 'authorized': 1798, 'presentable': 1799, 'clinton': 5201, 'ninety-nine': 5205, \"sat's\": 1800, 'glowers': 5206, 'singer': 5207, 'dramatic': 1801, 'eats': 1806, '/': 1803, 'vacations': 1804, 'second': 4184, 'anywhere': 1807, 'soaps': 1808, 'annoyed': 1810, 'landfill': 1811, 'notices': 5334, 'recruiter': 1812, 'scanning': 1814, 'before': 1815, 'lovelorn': 5209, 'awkwardly': 5210, 'longer': 5211, 'wanted': 1817, 'tummies': 1818, 'sledge-hammer': 5212, 'nervously': 1821, 'authenticity': 1822, 'trivia': 1823, 'maya:': 2549, 'o': 1824, 'vigilante': 5214, 'tang': 1825, 'value': 5215, 'frenchman': 1827, \"'evening\": 1828, 'standing': 6557, 'unlucky': 1830, 'today/': 1831, 'h': 1832, 'fish': 1387, 'dearest': 1833, \"what'll\": 1834, 'fustigation': 5216, 'korea': 1835, 'himself': 1836, 'triple-sec': 5217, \"stayin'\": 5218, 'surprised': 1838, 'nickel': 1839, 'dazed': 2690, 'zoomed': 5219, 'byrne': 5921, 'noggin': 5221, \"makin'\": 5222, 'touch': 5223, 'animals': 5225, 'card': 5226, 'happens': 1840, 'evening': 3068, 'die-hard': 3643, \"tramp's\": 814, 'starts': 1841, 'into': 1843, 'spine': 1845, 'ninth': 5228, 'shaggy': 1846, 'sealed': 5229, 'courteous': 5230, 'marvin': 1847, 'genuinely': 1848, 'boisterous': 1849, 'wife': 1850, 'squashing': 1851, 'menacing': 1852, 'depressant': 483, 'don': 1853, 'rome': 1854, 'aboard': 5233, \"bein'\": 5924, 'mull': 6563, 'recipe': 1855, 'blow': 1856, 'hot': 5234, 'wolfe': 1857, 'dangerous': 5235, 'island': 6564, 'pit': 817, 'donuts': 3926, \"today's\": 5237, 'ten': 5238, 'terrifying': 1858, 'hitchhike': 5928, 'named': 1859, 'co-sign': 5239, 'hottest': 5240, \"father's\": 276, 'fica': 1287, 'dint': 819, \"moe's\": 5241, 'home': 1860, 'seymour': 1861, 'parrot': 5242, 'founded': 5243, 'gold': 3901, 'mac-who': 1862, 'was': 1863, 'lorre': 6662, 'fire_inspector:': 1864, 'arse': 5244, 'england': 5245, \"year's\": 5931, 'exploiter': 5246, 'minute': 1865, \"wife's\": 1866, 'picture': 5248, 'contemptuous': 1867, 'strong': 6565, 'discussing': 1986, 'boxcars': 1868, 'jail': 1869, 'tow-joes': 5253, 'amber': 5254, 'screws': 5619, 'youse': 1870, 'hourly': 1871, 'ooo': 1872, 'nigel_bakerbutcher:': 1873, 'assume': 5695, 'reasons': 821, \"here's\": 5257, 'mm-hmm': 1874, 'you-need-man': 5258, 'bash': 1875, 'ails': 5259, 'phasing': 1988, 'crushed': 1877, 'steampunk': 1878, 'washer': 1990, 'distinct': 1879, 'reach': 5261, 'support': 5849, 'emergency': 1880, 'stealings': 4787, 'expecting': 1120, 'waste': 1882, 'cowboy': 5262, 'expensive': 5263, 'never': 5264, 'blinded': 1883, 'designated': 1884, 'pancakes': 1885, 'steamed': 5266, \"tester's\": 5267, 'depending': 1886, \"high-falutin'\": 1887, 'spoken': 1888, 'carll': 1891, 'voice': 1892, 'super-tough': 4532, 'salad': 1893, 'surgeonnn': 1894, 'ambrose': 5270, 'fires': 5271, \"life's\": 5273, 'whaddaya': 1895, 'author': 1896, 'rupert_murdoch:': 1897, 'nagurski': 5274, 'threatening': 5527, 'mop': 1899, 'broncos': 3011, 'sass': 1273, 'face': 1900, 'pussycat': 1901, 'barkeep': 1902, 'seemed': 1904, 'field': 5276, 'brusque': 1906, '70': 1907, 'enhance': 5277, 'bust': 5278, \"department's\": 1908, \"bashir's\": 5279, 'courts': 5280, 'depository': 1909, 'slit': 1910, 'sentimonies': 1911, \"lady's\": 1912, 'then:': 1913, 'newspaper': 5282, 'forty-two': 1915, 'dogs': 5283, 'hunting': 5284, 'column': 5919, 'straighten': 1212, 'unfresh': 3164, 'super': 1917, 'broom': 1918, 'owned': 5285, 'kiss': 5286, 'treehouse': 1919, 'steal': 5287, 'hugh:': 5288, 'ripped': 1920, 'ideas': 1921, 'thirty-thousand': 5289, 'actors': 1922, 'loser': 1923, 'orifice': 1924, 'admiring': 1925, 'grumbling': 1926, 'slow': 3531, 'six': 5941, 'ventriloquism': 5292, 'sissy': 5294, 'private': 1927, 'grrrreetings': 5295, 'grim': 1928, 'socialize': 5299, 'cooler': 5298, 'incognito': 1929, 'culkin': 1930, 'abcs': 5300, 'fan': 1931, 'wisconsin': 1890, 'yell': 5301, 'sweater': 1932, 'disturbing': 1934, 'wasting': 5302, 'colorado': 1935, 'sing': 827, 'cents': 1936, 'dog': 5303, 'stuck': 5304, 'customers': 1937, 'remains': 1940, \"mcstagger's\": 5305, 'doubt': 1942, 'impending': 1943, 'happily': 5943, 'spend': 5307, 'cricket': 1945, 'pronto': 1947, \"i-i'm\": 5946, '35': 1401, \"neighbor's\": 5308, 'c': 5309, 'rash': 5310, 'trees': 1948, 'presses': 1403, 'wobble': 1949, 'old-time': 5313, 'gambler': 831, 'scam': 1950, 'toms': 5314, 'sexy': 1952, 'opening': 1953, 'boozy': 1954, 'simon': 5949, 'trainers': 1956, 'reopen': 5317, 'supplying': 832, 'repay': 1957, 'singing': 5318, 'kazoo': 1958, 'drawing': 5319, 'clearly': 5320, 'temper': 5321, 'hmmm': 5323, 'conversations': 1960, 'b-day': 1961, 'director': 1962, 'recommend': 1964, 'ratio': 1965, 'legoland': 5324, 'agree': 1966, 'chin': 5325, 'krusty': 1968, 'fierce': 1969, 'neighbors': 1970, 'seething': 1971, 'clears': 5328, 'romantic': 4294, 'oww': 1972, 'refresh': 1973, 'enemy': 1974, 'wussy': 5329, 'patient': 5330, 'versus': 1975, 'helpful': 5332, 'own': 1976, 'knives': 5333, 'quit': 1977, 'ze-ro': 1916, 'washouts': 1978, 'lushmore': 1979, 'finest': 1980, 'bachelorhood': 5335, 'avalanche': 1981, 'stocking': 1982, 'wayne': 5336, 'easter': 1983, 'barely': 5337, 'worry': 5338, 'anderson': 4212, 'williams': 1984, 'proud': 5339, 'rewound': 1985, 'guiltily': 5340, 'countryman': 5341, 'robbers': 1987, 'backing': 5342, 'combine': 1989, 'vulgar': 1991, 'ignorance': 5343, 'fiction': 5344, 'dressing': 1992, \"idea's\": 6290, 'eye': 4214, 'blokes': 1993, 'serve': 5360, 'bathroom': 1994, 'donated': 5955, 'voicemail': 5345, 'sketch': 1995, 'locklear': 4216, 'just': 5346, 'terrace': 1996, 'fair': 1997, 'kisser': 5347, 'fistiana': 5349, 'be-stainèd': 1998, 'partially': 1999, 'knowingly': 2000, 'go-near-': 2001, 'usual': 5350, 'shoo': 5351, 'sells': 5353, 'regretted': 5354, 'life:': 3665, 'getaway': 5355, 'sticking-place': 5356, 'voodoo': 5357, 'billion': 5358, 'today': 4219, 'nervous': 5359, \"kearney's_dad:\": 1408, 'cop': 5361, 'guinea': 5362, 'sleeps': 5363, 'releases': 3668, 'hardy': 2002, 'perking': 5364, 'disposal': 5365, 'waylon': 5366, '7-year-old_brockman:': 2003, 'lover': 4221, \"bo's\": 5369, 'play/': 5370, \"children's\": 2004, 'slogan': 2005, \"foolin'\": 2006, 'polenta': 2007, 'dislike': 2008, 'watch': 2009, 'she': 2010, 'idioms': 5960, 'hems': 5371, 'infiltrate': 2011, 'male_singers:': 2012, 'order': 2013, 'lovejoy': 2014, 'shhh': 2015, 'scream': 5373, 'tale': 5374, 'chilly': 2017, 'difference': 5375, 'homeless': 2018, 'accounta': 4225, 'horrible': 2019, 'jogging': 5780, 'bluff': 5376, 'issuing': 2020, 'cheerier': 2021, 'enough': 5377, 'furious': 5367, 'strokkur': 2022, 'moron': 2023, 'meditative': 2025, 'lenford': 5378, 'missing': 5368, 'warned': 846, 'barney_gumble:': 2574, 'schizophrenia': 2026, 'donut': 5379, 'week': 5380, 'poin-dexterous': 2027, 'expression': 2028, 'putting': 2029, 'draw': 2030, 'kwik-e-mart': 5381, 'knees': 6544, 'lift': 5382, 'myself': 177, 'hairs': 2031, 'suave': 5383, 'heavens': 2032, 'hurting': 5385, 'between': 5386, 'quero': 1033, 'country-fried': 5387, 'chub': 1388, 'control': 2033, 'plus': 2034, 'meaningless': 5388, 'elves:': 2035, 'tabs': 2036, 'frightened': 5389, 'thoughtful': 985, 'bobo': 2037, 'cooker': 2038, 'comedies': 2039, 'worldview': 5390, 'terror': 6121, 'unsafe': 3672, 'surprising': 6591, 'paste': 2040, 'pantry': 2041, 'sheriff': 2332, 'flourish': 2042, 'other': 2043, 'accepting': 301, 'kemi:': 2044, 'french': 2045, 'planning': 5395, 'charity': 5396, 'hustle': 2046, 'offa': 6342, 'extreme': 5398, 'bitter': 5399, 'lucinda': 2047, 'vengeful': 5400, 'whatsit': 5402, 'book': 5403, 'cuz': 2048, 'misfire': 5404, 'larry:': 2049, 'edelbrock': 2050, 'heh': 5406, 'ref': 2051, 'suddenly': 2052, 'uglier': 2053, 'handing': 5407, 'carefully': 2054, 'thankful': 5410, 'quarter': 2055, 'assistant': 2056, 'rhode': 2057, 'notch': 5412, 'pajamas': 2058, 'cheers': 4813, 'felony': 6715, 'car': 5413, 'hockey-fight': 5414, 'like': 5415, 'smile:': 5416, 'mole': 5417, 'smug': 2059, 'played': 2060, 'à': 2061, 'i/you': 2062, 'checking': 5418, 'bits': 2064, 'babe': 2065, 'sobo': 5420, 'camp': 5372, 'revenge': 2066, 'teenage_homer:': 5422, 'wad': 2067, 'dryer': 2069, \"industry's\": 5423, 'sighs': 3102, 'sausage': 2070, 'listens': 2071, 'restaurants': 5647, 'ziff': 2072, 'belts': 2073, 'skins': 2074, 'calls': 2075, 'moe-clone': 2076, 'diminish': 2077, 'trusted': 5425, \"don't\": 2078, 'wigs': 5426, 'pleasant': 5427, 'ihop': 2079, 'heart-broken': 2080, 'act': 2082, 'grampa_simpson:': 5428, \"liftin'\": 2083, 'drop-off': 5429, 'muffled': 5430, 'vestigial': 5432, 'became': 5433, 'schemes': 2016, 'kisses': 2085, 'black': 2086, 'portuguese': 5434, 'anthony_kiedis:': 2087, 'pained': 5435, 'mel': 5437, 'sharps': 5753, 'sister-in-law': 4573, 'palm': 3677, 'willing': 2089, 'impressed': 6598, 'drunkenly': 2090, 'nigerian': 5438, \"plank's\": 5969, 'severe': 4816, 'be': 5439, 'front': 5440, 'wudgy': 5441, 'pepper': 3212, 'ma': 2091, 'dentist': 1418, 'each': 5442, 'mustard': 2093, 'knows': 2094, 'studio': 2096, 'lone': 5444, 'delivery_boy:': 5445, \"burnin'\": 2097, 'rebuttal': 2098, \"santa's\": 2099, 'poor': 2100, 'cover': 5449, 'las': 2101, \"ol'\": 2102, 'old': 5450, 'outlook': 5451, 'throws': 2104, 'hydrant': 5453, 'clientele': 2105, 'moesy': 6646, 'perfume': 5454, 'dory': 2106, 'valley': 2107, 'group': 2108, 'coming': 3111, \"couldn't\": 2109, 'sleeping': 5455, 'coupon': 2110, 'heaven': 5456, 'watered': 5457, 'glass': 862, '||question_mark||': 2111, 'signed': 1596, 'clenched': 5974, 'furiously': 2114, 'see': 2113, 'explanation': 2115, 'bubbles-in-my-nose-y': 2116, 'bothered': 2117, 'repairman': 4822, 'hired': 5460, 'jeers': 864, 'weirded-out': 2118, 'brick': 5883, 'walther_hotenhoffer:': 5462, 'britannia': 2119, 'madison': 5463, 'roy': 6605, 'dizzy': 5464, 'appalled': 5465, 'balloon': 5466, 'reserved': 867, 'yourse': 2120, 'spelling': 2121, 'cushion': 2122, 'hooters': 5467, 'shoulda': 2123, 'strangles': 2124, 'until': 4238, 'completely': 2125, 'jobless': 5471, 'jeez': 5472, 'mudflap': 5473, 'ura': 6265, 'about': 5977, 'liable': 5474, '3': 5475, 'bus': 2126, 'thinking': 5476, 'fresh': 4250, 'rainforest': 2127, 'therapist': 2128, 'ding-a-ding-ding-a-ding-ding': 5478, \"man'd\": 4828, 'arab_man:': 2129, 'traditions': 2130, 'selection': 2131, \"team's\": 5480, 'part': 5481, 'staying': 3683, \"elmo's\": 870, \"aristotle's\": 5483, 'soir': 2132, 'killjoy': 2133, 'beam': 2134, 'winces': 2592, 'bono': 5485, 'replaced': 2136, 'tense': 2138, 'hardwood': 2137, \"guy's\": 2139, 'gift': 2140, 'squad': 5486, 'carolina': 2141, 'souvenir': 2024, 'turns': 2142, 'roll': 2143, 'serious': 5487, 'terrified': 5488, 'chunky': 2144, 'y-you': 5489, 'chili': 5490, 'bums': 5491, 'capitalists': 2145, 're:': 5492, 'wizard': 5493, 'wakede': 5494, 'grammar': 4735, 'lame': 2146, 'intrigued': 2147, 'self-made': 2148, 'crotch': 2149, 'likes': 2150, 'tyson/secretariat': 5496, 'across': 5497, 'windowshade': 5498, 'jer': 2151, 'attraction': 5499, 'recap:': 5500, \"'ceptin'\": 2152, 'open-casket': 2153, 'uncle': 2155, 'wire': 5502, 'magazine': 5503, 'ali': 2156, 'old_jewish_man:': 2157, \"swishifyin'\": 2158, 'dreary': 2159, 'birthday': 5504, \"bettin'\": 5505, 'shoots': 2160, 'riding': 5508, 'wipes': 5509, 'sistine': 2161, 'stein-stengel-': 5983, 'crow': 5957, 'crisis': 5510, \"didn't\": 5511, 'archaeologist': 5512, 'flack': 5513, 'difficult': 5514, 'dropping': 6415, 'ireland': 5515, 'little_man:': 5516, 'pronounce': 2162, 'should': 5604, 'beautiful': 2163, 'rather': 2164, 'marge_simpson:': 5518, 'male_inspector:': 2165, 'started': 2166, 'catty': 5521, 'still': 2167, 'ineffective': 2168, 'effects': 5522, 'shooting': 5523, 'contemplated': 2169, 'tongue': 2172, 'andalay': 2171, 'effervescent': 875, 'common': 2173, 'delightfully': 3687, 'ring': 4246, 'theatrical': 5524, 'office': 5525, 'alky': 2176, 'scare': 2177, 'yourself': 2178, 'uncomfortable': 5528, \"askin'\": 5530, 'hundred': 2179, 'conference': 2180, 'lucky': 5533, 'popping': 2182, 'pursue': 5534, 'taxi': 2183, 'yard': 2184, 'sniffles': 2185, 'mind-numbing': 2186, 'as': 2187, 'five-fifteen': 2189, 'room': 5536, 'lis': 6735, 'ahhhh': 2190, 'off': 2191, 'annie': 2193, 'addiction': 5538, 'stay-puft': 5539, 'jar': 321, \"beggin'\": 919, 'increased': 918, 'anarchy': 5540, 'thorn': 5541, 'welcome': 2194, 'clown-like': 2195, 'duty': 4194, 'acquaintance': 3122, 'deal': 5542, \"bar's\": 5989, 'scram': 5544, 'eva': 5545, 'brotherhood': 6659, 'news': 2197, \"gentleman's\": 5546, 'hugh': 4840, 'amused': 5547, 'woulda': 2198, 'government': 2199, 'bret': 5548, \"mother's\": 5549, 'time': 2200, 'continued': 2201, 'against': 2202, 'bouquet': 2203, 'bide': 2204, 'smooth': 2205, 'curse': 5552, 'bit': 2206, 'pigtown': 2207, 'valuable': 5553, 'uh-oh': 2208, 'gotta': 2209, 'beach': 5554, 'breakdown': 5555, 'race': 5556, 'pause': 5558, 'pridesters:': 2210, \"hadn't\": 2211, 'diddilies': 5560, 'safer': 2213, 'defeated': 2214, 'pillows': 5561, 'inspiring': 882, 'wheel': 5562, \"grandmother's\": 5384, 'negative': 2215, 'applicant': 2216, 'could': 3693, 'maya': 5564, 'heave-ho': 6024, 'susie-q': 6426, 'same': 5991, 'figure': 5565, 'bowl': 2217, 'cats': 2218, 'elmer': 5566, 'bullet-proof': 5567, 'barstools': 2219, 'deli': 5568, 'which': 2220, 'mid-conversation': 2221, 'wipe': 2223, 'bum:': 2224, 'delicious': 5569, \"there's\": 2225, 'pressure': 2226, 'an': 5570, 'allow': 5571, 'gary:': 5572, \"usin'\": 5573, 'stickers': 2227, 'roomy': 5575, 'declare': 2228, 'chipped': 5576, 'aiden': 5577, 'casting': 5578, 'jubilant': 3697, 'brains': 2229, 'giggles': 5579, 'twelve': 2230, 'virile': 5580, 'so-ng': 2232, 'branding': 2233, 'arrange': 2234, 'the': 2235, 'apology': 5583, 'repeated': 2236, 'teenage_barney:': 2237, 'burns': 2238, 'sure': 5587, 'wednesday': 5588, 'took': 5589, 'keys': 5590, 'payments': 2239, 'breath': 2240, 'frustrated': 2242, 'picked': 5592, 'meaningfully': 5594, 'ohhhh': 5595, 'degradation': 2243, 'renders': 5596, 'upbeat': 5597, 'dan': 5598, 'thirteen': 4320, 'moon-bounce': 2244, 'most': 5600, 'squadron': 2245, 'tomato': 2247, 'calculate': 2248, 'polygon': 2249, 'blaze': 5602, \"hangin'\": 2252, 'pinball': 2251, 'oh-so-sophisticated': 2253, 'speak': 2254, 'gear-head': 5851, 'here': 2255, 'combines': 6580, 'neon': 2256, 'ladder': 889, 'woman:': 2816, 'grin': 5606, 'shush': 6184, 'brine': 2257, 'synthesize': 5607, 'ignoring': 2605, 'skydiving': 2258, 'mulder': 2259, 'pub': 5609, 'choice': 2260, 'begin': 5610, 'fulla': 5611, 'twenty': 2261, 'action': 5612, 'hounds': 5613, 'angry': 2262, 'dealie': 2264, 'absentmindedly': 5614, 'whenever': 6002, 'flailing': 3130, \"messin'\": 2265, 'lennyy': 5615, 'twenty-six': 2266, \"jackpot's\": 2267, \"this'll\": 2268, 'suffering': 5618, 'fry': 2269, 'lap': 1121, 'kirk': 2270, 'barkeeps': 5620, 'joe': 5621, 'michelin': 5622, 'unfamiliar': 2271, 'though:': 2273, 'belong': 2274, 'cup': 2275, 'trenchant': 2276, 'koi': 2277, 'befriend': 5550, 'twentieth': 5391, 'decent': 2278, 'meanwhile': 3026, 'bake': 2279, 'disappeared': 2280, 'aerospace': 5625, 'woman': 5626, '250': 5627, 'jumps': 2281, 'rude': 4265, 'event': 2282, 'expired': 2283, 'rife': 2284, 'rutabaga': 5632, 'toys': 2285, \"summer's\": 5633, 'reflected': 895, 'marry': 2286, 'candidate': 5634, 'flea:': 1166, 'advice': 5392, 'completing': 5635, 'brother-in-law': 6624, 'match': 5636, 'mint': 5637, 'ingested': 2287, 'lugs': 5394, 'dungeon': 1053, 'infatuation': 5639, 'municipal': 6010, 'extremely': 5640, 'runners': 2288, 'kool': 6011, 'mic': 2289, 'complaint': 2290, 'faith': 5642, 'touches': 4271, 'handle': 5643, 'beefs': 2291, \"how're\": 5644, 'padre': 5645, 'dies': 5646, \"'your\": 6626, 'man:': 6012, 'kidnaps': 2292, 'night-crawlers': 2293, 'darn': 2294, 'name': 5648, 'club': 5649, 'super-genius': 2295, 'influence': 2296, \"pickin'\": 5650, 'exultant': 2297, 'ideal': 3269, \"can't-believe-how-bald-he-is\": 5651, 'cliff': 2614, 'spooky': 2298, 'measurements': 900, 'warranty': 2299, 'drinking': 2300, 'vermont': 5652, 'nudge': 2301, 'conclude': 2303, 'shop': 901, 'nelson': 2304, 'smiling': 5654, 'narrator:': 5655, 'juan': 2305, 'ticks': 5657, 'formico': 2306, 'raging': 2307, 'gregor': 2308, 'isotopes': 3743, 'achem': 5659, 'mayor_joe_quimby:': 2309, 'two-thirds-empty': 2310, 'superior': 2311, 'nor': 5661, 'wing': 2312, 'outrageous': 5662, 'gig': 5663, 'disco_stu:': 2313, \"sayin'\": 2314, 'fireworks': 2316, 'dollars': 2317, 'yelling': 2196, 'aid': 905, 'mention': 5666, 'swings': 5401, 'lots': 6160, 'tones': 2319, 'tragedy': 2321, 'krusty_the_clown:': 5668, 'hunka': 5669, 'thoughtfully': 5670, 'tourist': 2322, \"pullin'\": 2323, 'thousands': 2324, 'contractors': 5671, 'researching': 2325, 'sesame': 5673, 'entrance': 5674, 'lindsay': 2618, 'nash': 2326, 'harvesting': 2327, 'pepsi': 2328, 'anything': 5677, 'legally': 5678, 'poplar': 2329, 'cowardly': 3408, 'theater': 5679, 'inflated': 5680, 'military': 5681, 'f-l-a-n-r-d-s': 1444, 'rice': 5682, 'deeper': 5683, 'hero-phobia': 2330, 'hear': 6634, 'shades': 2331, 'smell': 5405, 'continuum': 2621, 'changing': 4864, \"yieldin'\": 5687, 'boxing_announcer:': 5690, 't-shirt': 2333, 'blues': 5691, 'led': 5692, 'donation': 2334, 'tokens': 2336, 'texas': 2622, 'cheat': 2337, 'phony': 2338, 'sing-song': 5694, 'incredulous': 2339, 'joking': 5696, 'lise:': 5697, 'muttering': 2340, 'nominated': 2341, 'bedroom': 5700, 'zero': 2342, 'lanes': 5701, 'rockers': 5702, 'midnight': 5703, 'horses': 2343, 'bashir': 2344, 'villanova': 5706, 'smile': 5707, 'beans': 5708, 'brunch': 5709, 'goo': 2345, 'crony': 2346, 'suck': 2347, 'pernt': 907, 'voters': 4204, 'stops': 2348, 'books': 5714, \"that's\": 5715, 'swimming': 2349, 'crumble': 1446, 'electronic': 2350, 'half-beer': 5822, 'cousin': 5717, 'charlie:': 5408, 'civic': 5719, 'break-up': 5720, 'scornfully': 4277, 'pleading': 2351, 'beer-dorf': 1447, 'refiero': 2353, 'understanding': 5721, \"tv's\": 2354, 'ralph': 5409, 'brothers': 2356, 'brief': 2357, 'ground': 2358, 'duke': 5724, 'hope': 5411, 'whose': 5725, 'yeah': 2359, 'dirge-like': 2360, 'homer_': 4398, 'brag': 5617, \"soundin'\": 5728, 'anniversary': 2365, 'torn': 911, 'rumor': 5729, 'warmly': 2366, 'lighten': 5730, 'toss': 5731, 'cure': 6020, 'marvelous': 1452, 'adeleine': 4282, 'appear': 2367, 'crayola': 2368, 'nonchalantly': 2369, 'wars': 2370, 'ping-pong': 2371, 'pig': 6022, 'reporter': 2372, 'fail': 5735, \"secret's\": 2373, 'painting': 6023, 'burn': 2374, 'chateau': 5737, 'cool': 2375, \"i-i'll\": 2380, \"feelin's\": 2379, 'devils:': 345, 'tearfully': 5739, \"cuckold's\": 6639, \"s'okay\": 5741, \"that'll\": 2381, 'water': 347, 'raccoons': 5742, 'summer': 5743, 'allowed': 2382, 'aah': 5745, 'rainier': 2383, 'retired': 2384, 'sometimes': 2385, 'longest': 5747, 'brakes': 2386, 'offshoot': 5749, 'sweat': 3143, 'special': 2387, 'kennedy': 2638, 'began': 5750, 'decide': 2388, 'stool': 5751, 'dishonor': 5752, 'channel': 1455, 'neither': 5754, 'modern': 5755, 'show-off': 2389, 'coney': 6339, 'padres': 350, 'reads': 5756, 'soaked': 2640, 'head-gunk': 2390, 'two': 5758, \"rustlin'\": 1056, 'serum': 2391, 'arrested:': 2392, 'lenny': 2393, 'compared': 2394, 'noises': 2395, 'not': 2396, 'help': 5759, 'permitting': 2397, 'taunting': 2398, 'sweetly': 352, 'ancestors': 2399, 'add': 5760, 'mix': 5761, 'listened': 2400, 'hero': 2401, 'ho': 2402, \"we'd\": 2403, 'leaving': 2404, 'button': 4441, 'presidential': 5764, 'miracle': 1461, 'crime': 5765, 'wienerschnitzel': 1459, 'studied': 2405, 'only': 5667, 'please/': 2406, 'underpants': 4288, 'tax': 5766, 'hotline': 5767, 'doctor': 4290, 'my': 3151, 'mess': 5768, 'halloween': 5769, 'stick': 2407, 'gol-dangit': 2408, 'catching': 2409, \"don'tcha\": 5771, 'hose': 2410, 'theatah': 5772, 'gruff': 5773, 'hiya': 5774, 'captain:': 5775, 'showered': 5776, 'gee': 2063, 'eyes': 5778, 'typed': 2411, 'proposition': 5779, 'return': 5419, \"wallet's\": 2413, 'awareness': 5781, 'damned': 5782, 'calling': 2414, 'built': 2415, 'walther': 5784, 'gator': 5785, \"daughter's\": 2416, 'feel': 2417, 'anyway': 5786, 'products': 5787, 'pickled': 2418, 'dr': 2419, \"showin'\": 2420, 'bridge': 2421, 'swig': 5788, 'dads': 2422, 'resenting': 5789, 'ironic': 2423, 'sounded': 354, 'crowbar': 2424, \"'roids\": 5790, 'milks': 2425, 'thirty-nine': 2426, 'sadistic_barfly:': 2427, 'year': 5792, 'clap': 2428, 'lobster': 2429, 'fraud': 5793, 'daaaaad': 2430, 'suspicious': 2431, 'flew': 2068, 'crossed': 5794, 'later': 3158, 'information': 5797, 'raise': 5798, 'out': 2432, 'position': 5799, \"kiddin'\": 6335, 'fuss': 2433, 'buzziness': 2434, 'read:': 2435, \"should've\": 5800, 'been': 5801, 'chug-a-lug': 702, 'festival': 5802, 'win': 2436, 'accurate': 6036, 'amount': 2437, 'grandmother': 5804, 'taylor': 2438, 'unbelievable': 2439, 'clothespins': 5805, 'gheet': 5053, \"o'problem\": 2440, 'brown': 5806, 'large': 5807, 'any': 2441, 'principles': 2442, 'student': 2654, 'statesmanlike': 5808, 'ever': 5809, 'said:': 2443, 'mixed': 5810, 'celebrities': 2444, 'disappear': 5811, 'twerpy': 924, 'de': 5812, 'aged': 2445, 'limericks': 5424, 'sincere': 2446, 'other_player:': 5813, 'make': 2447, 'promise': 2448, 'nuclear': 5814, 'reactions': 2449, 'fishing': 5815, 'tying': 6533, 'wears': 2450, 'possessions': 5816, \"coaster's\": 2451, \"dog's\": 5817, 'vin': 2452, 'worldly': 5818, 'singers:': 3732, \"c'mom\": 2657, 'hand': 5820, 'blend': 2453, 'bald': 2454, 'african': 2455, 'honeys': 5821, 'musses': 2456, 'virility': 2457, 'all:': 2458, 'where': 5823, 'doing': 2459, 'ocean': 5824, 'shrugs': 3733, 'character': 5826, 'cerebral': 5827, '||exclamation_mark||': 2461, 'clubs': 2462, 'moe-lennium': 6042, 'kay': 2463, 'giving': 2464, 'chuckles': 5828, \"soakin's\": 2465, 'twelveball': 5829, 'mariah': 1809, 'slyly': 2466, 'endorsement': 5831, 'county': 5832, 'strongly': 1468, 'interrupting': 4835, 'turlet': 5833, 'acronyms': 5892, 'yours': 2468, 'low': 2469, 'pop': 2470, '||quotation_mark||': 2471, 'thirsty': 2472, 'holding': 2081, 'stats': 2473, 'alone': 2474, 'teenage': 39, 'two-drink': 5836, 'land': 5837, 'bee': 4882, 'drinker': 2475, 'rivalry': 2476, 'bubble': 2477, 'night': 5839, 'pass': 5841, 'irrelevant': 5842, 'patty': 2479, 'fired': 2480, 'broad': 929, 'spouses': 2481, 'puke-pail': 5845, 'grumpy': 2482, 'come': 930, 'stripe': 5846, \"narratin'\": 1470, 'hook': 2483, 'extract': 2484, 'wounds': 2485, \"speakin'\": 5847, 'really': 2486, '100': 5848, 'meal': 3739, 'bumbling': 2487, 'sucked': 2488, 'consciousness': 2489, 'ghouls': 2491, 'perón': 2084, \"lookin'\": 2492, \"heat's\": 5161, 'não': 5850, 'sequel': 2493, 'winnings': 2494, 'asking': 2495, 'tha': 5853, 'chain': 1565, 'teacher': 2496, 'awake': 5854, 'north': 2497, 'heals': 5856, 'nightmare': 2498, 'stole': 675, 'standards': 4569, 'looooooooooooooooooong': 5858, 'cursed': 367, 'enveloped': 5859, 'schmoe': 5860, 'presto:': 2499, \"you've\": 5861, 'administration': 5862, 'blew': 5863, 'woozy': 5864, 'accelerating': 5865, 'grubby': 2500, 'certificate': 2501, 'principal': 2502, 'plums': 2503, 'happened': 5866, 'ahh': 5867, \"gettin'\": 5868, 'expert': 2504, 'finale': 5869, 'cattle': 5436, 'remembering': 2505, 'evil': 5872, 'naively': 5873, 'lush': 2506, 'firm': 6048, 'die': 3601, 'freaking': 2507, 'their': 5874, 'amazed': 5875, 'endorse': 2508, 'thought_bubble_lenny:': 2088, 'pickle': 2509, 'bets': 2510, 'ugh': 2511, 'abercrombie': 5876, \"could've\": 5877, \"shootin'\": 5878, 'something:': 6661, 'stories': 5879, 'wiggum': 2512, 'soft': 2513, 'normal': 2514, 'contented': 5881, 'unusual': 2515, 'excellent': 2516, 'pas': 5882, 'boat': 2517, 'moe': 2518, 'dana_scully:': 4311, 'lenses': 5888, 'feminist': 5885, 'ride': 5886, 'near': 6088, 'seeing': 2520, 'eight': 2521, 'timbuk-tee': 5889, 'dinner': 5890, 'switch': 5891, 'legend': 5893, 'gives': 2522, 'oughta': 2523, 'fans': 2524, 'cuff': 2525, 'prize': 5894, \"fishin'\": 2526, 'ninety-six': 2527, 'bartenders': 5896, 'pretty': 6667, 'quality': 5897, 'weekend': 5898, 'stupidest': 5899, 'teams': 3171, 'eggs': 2671, 'park': 2528, 'thanksgiving': 2529, 'without': 5902, 'ehhhhhh': 2530, 'granted': 2531, \"handwriting's\": 2533, 'nerve': 5904, 'wacky': 5905, 'lately': 371, 'guy': 5906, 'noticing': 2534, 'lump': 2535, 'fox': 2536, 'disillusioned': 5908, 'libraries': 2537, 'looking': 2538, 'watched': 2539, 'ooh': 2540, 'afloat': 1479, 'rolling': 2541, 'fwooof': 5910, 'jigger': 5911, 'someone': 2542, 'theme': 2543, 'incriminating': 4317, 'wish': 2544, 'stares': 4423, 'alter': 2545, 'unbelievably': 5913, 'ronstadt': 375, 'orders': 6466, 'zeal': 5914, 'stern': 5917, 'strawberry': 2547, 'ahhh': 5918, 'champ': 377, 'curious': 2548, 'regulars': 6558, 'righ': 2550, 'already': 2551, 'war': 5920, 'blissful': 5922, 'drapes': 2552, 'wha': 3541, 'calendars': 5923, 'kegs': 2553, 'pall': 2554, 'mayor': 2092, \"seein'\": 5925, 'director:': 5926, 'give': 5927, 'assent': 3176, \"friend's\": 2555, 'van': 5929, 'sounds': 5930, 'universe': 2556, 'gay': 5932, 'bought': 5933, 'actually': 5934, 'calvin': 5935, 'forget': 2557, 'color': 5936, 'mild': 2095, 'past': 5937, 'um': 5938, 'flustered': 2558, 'noosey': 5940, 'full': 3174, 'step': 2559, 'pride': 2560, 'buttons': 5942, 'sobbing': 2561, 'anyhow': 2562, 'veteran': 5944, 'guest': 5945, 'pro': 3181, \"calf's\": 3755, \"'pu\": 5948, 'fox_mulder:': 2563, 'online': 6672, 'life-extension': 5950, 'dallas': 2564, 'product': 2565, 'bones': 5446, 'gum': 5951, 'startled': 5871, \"bartender's\": 5952, 'cap': 5953, 'mortal': 2566, 'cards': 5195, 'shut': 2567, 'american': 2568, 'stooges': 6058, 'closed': 5956, 'casual': 2569, 'slurps': 2570, 'fumigated': 5958, 'limited': 2571, '_timothy_lovejoy:': 5959, 'greatly': 2572, \"tree's\": 2573, 'pope': 3760, 'post-suicide': 5961, \"others'\": 5962, \"can'tcha\": 5830, 'selling': 5963, 'uh-huh': 2575, \"collector's\": 2576, 'kearney_zzyzwicz:': 2577, 'gut': 2578, 'ago': 2579, \"o'\": 5964, 'formico:': 2580, \"playin'\": 1881, 'quotes': 5448, 'chapter': 2582, 'eighty-seven': 1491, 'the_edge:': 6550, 'sunny': 2583, 'can': 1489, 'trunk': 2584, 'specific': 4326, 'arimasen': 2585, 'flush': 2586, 'politicians': 6776, 'tactful': 2587, 'lipo': 5967, 'gutenberg': 5968, 'dame': 941, 'sight': 5970, 'x': 5971, 'befouled': 5972, 'heliotrope': 453, 'done:': 5973, 'walk': 2588, 'joy': 2103, 'souped': 5975, 'carney': 1168, 'innocuous': 6060, 'cold': 6676, 'roof': 5976, 'rope': 2589, 'dennis': 3952, 'weep': 4898, 'advantage': 2590, \"'er\": 944, 'dishrag': 6677, 'virtual': 2591, 'symphonies': 3766, 'gentle': 5979, 'else': 382, 'soon': 2593, 'had': 5980, 'fool': 5452, 'savagely': 5982, 'often': 5984, 'duff': 2594, 'dawning': 5685, 'better': 5986, 'beatings': 2595, 'spit': 6062, 'chug': 2596, 'flat': 6063, 'caused': 5987, 'over': 5988, 'happy': 2597, 'hot-rod': 3769, 'radical': 1496, 'eighty-three': 2598, 'sec_agent_#1:': 2599, 'feast': 5990, 'tries': 5992, 'jaegermeister': 5993, 'spits': 2600, 'logos': 4332, 'strolled': 5995, 'faceful': 5996, 'talking': 2601, 'fantastic': 5997, 'attached': 2602, 'alfred': 5999, 'bet': 2603, 'murmur': 2604, 'fine': 6000, 'science': 6001, 'jacksons': 2606, 'majesty': 6003, 'accident': 387, \"tootin'\": 6004, 'ruuuule': 6065, 'unattractive': 6005, 'tuna': 2607, 'spacey': 2608, 'prep': 6007, 'safety': 2609, 'wine': 6008, 'yet': 6009, 'discuss': 2610, 'mellow': 2611, 'snide': 2612, 'gargoyle': 2613, 'rubbed': 6013, 'incapable': 2615, 'answer': 2616, 'puzzled': 6014, 'more': 6015, 'chipper': 2617, 'compels': 2619, 'veux': 6016, 'rev': 2620, 'louisiana': 2629, 'robin': 2623, 'junior': 2624, 'reconsidering': 2625, 'awfully': 2626, 'shoulder': 2627, 'limits': 2628, 'kodos:': 2630, 'bees': 2631, 'drawn': 168, 'you': 6067, 'safe': 2633, 'flower': 6019, 'awkward': 2634, 'separator': 6021, 'judge_snyder:': 5315, 'bad-mouth': 2635, 'greatest': 2636, 'size': 2637, 'panicked': 3774, 'saint': 2639, 'henry': 6026, 'w-a-3-q-i-zed': 2641, 'jig': 947, 'crank': 6028, 'four-drink': 2642, 'aggravazes': 2643, 'settles': 6680, 'violin': 2644, 'rent': 2645, 'art': 6029, 'smoke': 2646, 'finally': 2647, 'hoo': 6030, 'dance': 6031, 'mugs': 2648, 'closer': 1503, 'tv_husband:': 2649, 'for': 6035, 'tracks': 2650, 'landlord': 1577, 'caper': 2651, \"callin'\": 2652, 'tv_father:': 6037, 'obvious': 2653, 'penny': 6038, 'sense': 5180, \"maggie's\": 2655, 'cakes': 6039, 'hmm': 2656, 'slim': 6040, \"starla's\": 6041, 'pickles': 2658, 'eightball': 5458, 'rabbits': 2659, 'watt': 6043, 'worth': 6044, 'mid-seventies': 2660, 'helllp': 2661, 'yells': 2662, 'attend': 2663, 'pulling': 2664, 'mind': 6045, 'he': 2665, 'proudly': 6046, 'ate': 5966, 'affects': 6047, 'punching': 2666, 'pretzels': 1505, 'playing': 3777, 'focused': 2667, 'lonely': 2668, 'wrecking': 2669, 'ducked': 5718, 'grace': 2670, 'peppy': 4342, 'sympathy': 2672, 'princess': 2673, 'slightly': 2674, 'various': 6049, 'miss_lois_pennycandy:': 6050, '_marvin_monroe:': 6053, 'whiny': 6052, 'a-a-b-b-a': 951, \"buyin'\": 2675, 'extinguishers': 2676, 'through': 6054, 'destroyed': 2677, 'necklace': 6056, 'hammock': 2678, 'overflowing': 2679, 'thought_bubble_homer:': 2680, 'taps': 6057, 'photographer': 2681, 'important': 6075, 'town': 6059, 'peach': 4908, 'smelly': 2682, 'march': 2683, 'sexton': 2684, 'irs': 6061, 'instead': 3780, 'chase': 2685, 'tubman': 2686, 'energy': 6064, 'line': 2687, 'supermodel': 6687, 'johnny_carson:': 2688, \"robbin'\": 6066, 'forgets': 2689, 'skoal': 2691, 'donor': 2692, 'derisive': 5459, 'pine': 2693, \"family's\": 6069, 'enter': 6070, 'reaction': 2696, 'shortcomings': 6071, 'pad': 6072, 'displeased': 2697, 'mason': 6073, 'slobs': 2698, 'audience': 6074, 'moxie': 3204, 'nuked': 920, 'language': 2699, 'glum': 6076, 'sanctuary': 1130, 'nerd': 6077, 'stagey': 2700, 'wazoo': 3920, 'flown': 6078, 'binoculars': 2702, 'anonymous': 6079, 'settled': 6651, 'distance': 2703, 'tonic': 6279, 'raises': 6080, 'strains': 1791, 'all-american': 6082, 'samples': 2705, 'scruffy_blogger:': 6083, 'plotz': 2706, 'calmly': 6084, 'sea': 2707, 'dum-dum': 6085, 'tomorrow': 6086, 'pants': 6089, 'self-centered': 2708, 'bike': 6092, 'form': 6093, 'barbed': 3995, 'pitcher': 2710, 'times': 3785, 'may': 6094, 'correcting': 6095, 'characteristic': 2712, 'lincoln': 6081, 'young_barfly:': 6692, 'coyly': 6097, 'device': 6098, 'starla:': 6099, 'juke': 4350, 'choices:': 6100, 'knew': 6101, 'expose': 2714, \"bart'd\": 3208, 'read': 2715, 'law-abiding': 2704, 'invisible': 2716, 'how': 6104, 'eco-fraud': 3211, 'joined': 6106, 'smart': 6107, 'andrew': 6108, 'ale': 2717, \"kid's\": 6110, 'sorts': 5204, 'impress': 2718, 'spy': 6111, \"now's\": 4301, 'case': 4210, 'kentucky': 2719, 'forgotten': 6112, \"valentine's\": 2720, 'spiritual': 2721, 'raining': 2722, 'junebug': 1515, 'fingers': 6113, 'boys': 2723, 'abe': 2724, 'tofu': 2725, 'find': 2726, 'albeit': 6115, 'backward': 3925, 'germany': 2727, 'drivers': 2728, 'force': 6117, 'plum': 2729, 'religion': 6118, 'good-looking': 2730, 'exhibit': 6120, 'supreme': 2731, 'bon-bons': 6696, 'pian-ee': 6122, 'farewell': 6123, 'bon': 2733, 'butterball': 2734, 'hispanic_crowd:': 3215, 'fellas': 2735, 'la': 6698, 'evils': 2736, 'tanked-up': 2737, 'aunt': 2738, 'mediterranean': 6699, 'placing': 6126, 'belches': 6128, 'carve': 6129, 'hellhole': 2739, 'anguished': 6132, 'diapers': 4354, 'weirder': 2740, 'jack_larson:': 2741, 'detective_homer_simpson:': 2742, 'friend:': 2743, 'lenny_leonard:': 4918, 'rainier_wolfcastle:': 6090, 'big': 6134, 'al_gore:': 45, 'coin': 2745, 'bellyaching': 6136, 'learn': 3648, 'modestly': 2747, 'bar-boy': 6138, 'finance': 6139, 'newsies': 2748, 'sneaky': 2749, 'mindless': 2750, \"disrobin'\": 6141, 'executive': 2751, 'saw': 6142, 'riveting': 6143, 'beast': 963, 'title': 6144, \"bart's\": 5468, 'ralph_wiggum:': 2752, 'creates': 2753, 'badmouth': 2754, \"c'mon\": 2362, 'tastes': 2709, 'buying': 6147, 'ing': 6149, 'normals': 6150, 'stuff': 6152, 'poorer': 2755, 'station': 6153, 'waking-up': 3792, 'delivery': 5470, 'nooo': 6155, 'chick': 6156, 'tap': 6157, 'imported-sounding': 6158, 'tick': 2756, 'turn': 2757, 'freak': 2758, 'direction': 2759, 'balls': 2760, 'brockman': 6162, 'shuts': 6163, 'selective': 6164, 'emporium': 4358, 'gave': 2761, 'friendly': 6165, 'obama': 6166, 'bridges': 2762, 'advertise': 2763, 'grants': 2764, 'sieben-gruben': 6167, 'imitating': 2765, 'nap': 6170, 'grand': 2766, 'lofty': 2713, 'appealing': 2767, 'pews': 1376, 'nitwit': 2768, 'reached': 2769, 'swelling': 2771, 'catholic': 2772, 'fastest': 6173, 'orgasmville': 6174, 'seconds': 6175, 'laney': 2773, 'professor_jonathan_frink:': 2774, 'laughs': 6176, 'wore': 6177, 'suits': 6178, '||comma||': 6179, 'richard': 6180, 'koji': 5194, 'cesss': 2775, 'located': 4360, 'roller': 6181, 'women': 2776, 'driver': 2777, 'lotta': 2778, 'drinks': 6182, 'hosting': 2779, '530': 2780, 'ass': 6183, 'fleabag': 3328, 'religious': 2781, 'tv_wife:': 2782, 'bunion': 6185, 'many': 5469, 'insurance': 6187, 'edge': 2783, 'privacy': 2784, 'stagy': 6188, 'stab': 6190, 'ohmygod': 2701, 'tough': 2785, 'must': 416, 'nein': 6192, 'eh': 6193, 'cell': 5085, 'scary': 1524, 'collapse': 5477, 'ingrates': 6195, \"other's\": 6196, 'ninety-seven': 6197, 'exited': 6198, \"who'll\": 6199, 'tradition': 6200, 'teddy': 3796, 'splendid': 2787, 'thrust': 6203, 'watching': 6204, 'meeting': 2789, 'lurleen_lumpkin:': 6205, 'remembers': 6206, 'batmobile': 2790, 'breaks': 6207, 'hateful': 6703, 'furniture': 2791, 'best': 2792, 'disappointed': 2793, 'inserted': 6208, 'seek': 970, 'lovely': 6209, 'carl': 2794, 'attractive_woman_#1:': 6210, 'badmouths': 6211, 'playoff': 6212, 'tuborg': 6213, 'publish': 2795, 'nobel': 2796, 'launch': 6215, \"ma'am\": 2797, 'horrified': 2798, 'lighter': 5479, 'murderously': 2695, 'foibles': 2800, 'i-i-i': 6217, 'haws': 6218, 'overhearing': 2801, 'anyhoo': 6600, 'cases': 2802, 'held': 2803, 'resigned': 3226, 'wrote': 2806, 'enabling': 1527, 'president': 5447, 'bret:': 2807, 'ancient': 6102, 'inclination': 2808, 'legs': 2809, 'whispers': 2810, 'helping': 1529, 'whaaa': 2811, \"somebody's\": 2812, 'collette:': 972, 'gibson': 5397, 'age': 2813, 'recent': 6224, \"tatum'll\": 6225, 'forecast': 2814, 'morning': 6227, 'fever': 2815, 'automobiles': 6228, 'bag': 6229, 'try': 3494, 'opens': 6230, \"readin'\": 2817, 'yards': 6231, 'snail': 6232, 'sagely': 6233, 'bottles': 5482, 'we-we-we': 2818, 'counter': 2819, 'caricature': 3232, 'build': 2820, 'raggie': 6234, 'lawyer': 6235, 'jumping': 2821, 'chance': 6236, 'navy': 1493, 'short': 6237, \"leavin'\": 2822, 'gil_gunderson:': 5686, 'door': 6105, 'managed': 2823, 'feels': 6238, \"fine-lookin'\": 4481, 'sixteen': 2824, 'half': 2825, 'ones': 2826, 'chauffeur:': 6239, 'au': 6240, 'outs': 2827, 'lose': 2828, 'crowds': 2829, 'jump': 2830, 'avec': 6241, 'moe-ron': 2831, 'dipping': 6033, 'grow': 6477, 'congoleum': 6708, 'celeste': 2832, 'sugar-me-do': 6242, 'selma_bouvier:': 2833, 'mabel': 5484, 'managing': 6243, 'hotenhoffer': 6244, 'chosen': 6245, 'earpiece': 6247, 'spanish': 6248, 'around': 6461, 'the_rich_texan:': 2834, 'thorough': 2835, \"you'll\": 6249, \"toot's\": 2836, 'creepy': 6251, 'hats': 6109, \"bringin'\": 2837, 'package': 2135, 'sets': 6254, 'village': 2838, 'releasing': 2839, 'successful': 6255, 'offensive': 2840, 'apart': 4518, 'ease': 6256, 'dynamite': 2841, 'bookie': 2842, 'chug-monkeys': 430, 'freedom': 3664, 'keeping': 2844, 'court': 6257, 'tasty': 6258, 'mount': 3805, 'stood': 6260, \"boy's\": 6261, 'wonder': 6262, 'steely-eyed': 6263, 'sec': 4372, 'arabs': 2845, 'sensible': 6264, 'worked': 2846, 'one': 6266, 'alien': 2847, 'very': 3806, 'itself': 2848, 'sack': 2849, 'inches': 6267, 'windelle': 6268, 'gal': 6270, 'heartily': 2850, 'cockroaches': 775, 'flanders': 1535, 'mostrar': 2851, 'jerk-ass': 6271, 'lloyd:': 2852, 'pus-bucket': 4936, 'yap': 2853, 'neighbor': 6272, 'plow': 6273, 'costume': 6274, 'enemies': 6275, 'sinkhole': 2854, 'slop': 6276, 'heh-heh': 6277, 'hibbert': 6278, 'white_rabbit:': 6280, 'young_moe:': 6281, 'when': 5099, 'cruise': 6282, 'kicked': 6283, 'dumptruck': 2855, 'reciting': 983, 'dreamy': 6286, 'little_hibbert_girl:': 6287, 'hard': 2856, 'taxes': 2857, 'bad': 2858, \"monroe's\": 6289, 'feelings': 1538, 'gonna': 6291, 'button-pusher': 6292, 'screw': 6293, 'polish': 6294, 'huge': 2859, 'total': 1539, 'sugar-free': 2860, 'distract': 3813, 'lobster-based': 6297, 'correction': 984, 'car:': 3509, 'kadlubowski': 2861, 'mad': 6298, 'write': 2862, 'supposed': 4377, 'woo-hoo': 6299, 'business': 6300, 'amnesia': 2864, 'hemorrhage-amundo': 2865, 'pleasure': 6302, 'otherwise': 4379, 'excuse': 2866, 'cheated': 2867, \"somethin'\": 2868, 'doof': 2869, 'covering': 6304, 'breaking': 6305, 'caught': 4380, 'poker': 6307, 'judgments': 6308, 'bears': 6309, \"homer's_brain:\": 1540, 'pleased': 2870, 'sneeze': 6311, 'playful': 440, 'gunk': 6313, 'jokes': 2871, 'quarry': 6314, 'meals': 5443, 'liven': 2872, 'spent': 3816, 'driveability': 1129, \"can't\": 2873, 'towed': 5232, 'amiable': 6315, 'mmmmm': 989, 'bam': 5352, 'politics': 2874, 'solved': 6316, 'protecting': 2875, 'amends': 2876, 'faulkner': 2877, 'easy': 2878, \"school's\": 2881, 'our': 6317, 'wraps': 6116, 'practically': 6318, 'whip': 2882, 'says': 2883, 'slip': 6320, 'spirit': 1543, 'donate': 6322, 'dice': 2884, 'comment': 6323, 'ungrateful': 4384, 'forgiven': 2885, 'view': 2886, 'tab': 2887, \"duelin'\": 6325, 'murmurs': 2888, 'justice': 2889, 'sixty-nine': 3820, 'argue': 6326, 'quimbys:': 2890, 'pint': 2892, 'starters': 2893, 'bedtime': 2895, 'dejected': 6327, 'ragtime': 2896, 'eve': 5495, 'rage': 2897, 'back': 6329, 'far': 6330, 'rented': 5852, 'fighting': 6332, 'daddy': 2898, 'lear': 6333, 'k': 2899, 'boozer': 159, 'fuhgetaboutit': 2900, 'ads': 2901, 'corkscrew': 6336, 'hooky': 6337, 'pfft': 6119, 'wood': 6338, 'dimly': 994, 'hearts': 6340, 'makes': 2902, 'scrutinizes': 5630, 'prayer': 2903, 'fast': 1366, 'tail': 6722, 'happiness': 2732, 'fake': 6343, 'needy': 2904, 'full-bodied': 6345, 'winning': 6346, 'picnic': 6347, 'lee': 2905, 'so-called': 2906, 'either': 6350, 'loss': 2907, 'fly': 6124, 'bump': 6352, 'ginger': 6353, 'goal': 6354, 'twins': 6725, 'simpson': 2154, \"kids'\": 2908, 'mater': 2909, 'troy:': 2911, 'yea': 3248, 'mafia': 2912, 'diving': 6357, 'shoulders': 6125, 'away': 2913, 'tall': 3823, 'dictating': 2914, 'entertainer': 6726, 'soap': 2915, 'bras': 2916, \"it'll\": 6360, 'service': 6361, 'slugger': 6362, \"barney's\": 5080, 'bush': 6364, 'semi-imported': 2917, 'whoops': 6365, 'exchanged': 6366, 'money': 2918, \"murphy's\": 6367, 'gotcha': 6368, 'handsome': 6369, \"comin'\": 2919, 'neat': 6370, 'introduce': 6371, 'busy': 6373, 'load': 6374, 'data': 2920, 'stained-glass': 2921, 'even': 6375, 'movement': 6376, 'wearing': 2922, 'copy': 2923, 'suspended': 1549, 'abusive': 5506, 'conversation': 2924, 'won': 6398, 'carb': 3824, 'mmm': 6127, 'fire': 6379, 'accept': 6380, 'asleep': 5507, 'right': 2925, 'secret': 2926, 'belly-aching': 4394, 'upn': 6383, 'liar': 3825, '7g': 6384, 'intoxicated': 6385, 'bright': 2927, 'waters': 2928, 'engine': 999, 'grains': 2929, 'period': 6388, 'cutting': 2930, 'yak': 2931, 'joining': 6463, 'enlightened': 2932, 'hub': 2933, 'beers': 1552, 'suspenders': 5710, 'number': 6391, 'streetcorner': 2934, 'doll': 6222, 'depressed': 6393, 'jobs': 6394, 'moments': 2935, 'who': 2936, 'recorder': 6395, 'militia': 6396, 'brow': 2937, 'it:': 2938, 'egg': 2939, 'fella': 6399, 'whee': 6400, 'crowd': 6401, 'dozen': 6402, 'app': 2940, 'driving': 6403, 'local': 2941, 'thought': 2942, 'cocoa': 6405, 'greystash': 6406, 'trolls': 2943, 'jerks': 2944, 'ends': 2945, 'donut-shaped': 3830, 'poem': 6407, 'beer-jerks': 6408, 'saga': 6409, \"breakin'\": 6410, 'len-ny': 6411, 'witty': 6412, 'buddy': 3764, 'dressed': 6413, 'masks': 3751, 'manager': 2946, \"ridin'\": 6414, 'ohh': 3254, 'also': 2947, 'gums': 2948, 'huhza': 2949, 'rat-like': 6416, 'fresco': 3831, 'new': 6417, 'ruin': 6731, 'bowling': 6419, 'relative': 6420, 'tsk': 2950, 'jazz': 2952, 'leak': 2953, 'arguing': 6421, 'canoodling': 6422, 'sat-is-fac-tion': 6423, 'unkempt': 6425, 'perverse': 2954, 'bartending': 2955, 'pre-game': 6428, 'jerky': 2956, 'kings': 6429, 'baloney': 6133, 'california': 5083, 'patty_bouvier:': 5091, 'measure': 6431, 'asked': 4957, 'blooded': 6433, 'rest': 2957, 'means': 2958, 'beyond': 1562, 'code': 5517, 'crippling': 2744, 'unintelligent': 2959, 'while': 5519, 'louse': 6434, 'ruint': 2960, 'sign': 6435, 'world-class': 5520, 'bed': 2961, 'fdic': 2962, 'splattered': 2963, 'four': 6436, '50-60': 2964, 'strain': 2965, 'peter_buck:': 2966, 'grabs': 2967, 'concerned': 2968, 'chapel': 6439, 'trapping': 5712, 'disco': 2969, 'geez': 6440, 'suspiciously': 6441, 'mumble': 6442, 'motto': 2970, 'drug': 2972, 'billiard': 6443, 'heavyweight': 6444, 'patron_#1:': 6034, 'artie': 6445, 'vodka': 6446, 'homesick': 2973, 'declan': 6447, 'mobile': 2974, 'temp': 2975, 'dessert': 6448, 'burg': 6449, 'ons': 2976, 'headhunters': 6450, 'wants': 2977, 'drains': 6451, 'necessary': 3836, 'na': 4963, 'edison': 2978, 'clincher': 2979, 'ditched': 6454, 'growing': 2980, 'moe-heads': 2981, 'cheese': 2982, 'date': 2170, 'frosty': 2983, 'given': 6140, 'movies': 2984, 'pepto-bismol': 6455, 'investigating': 2985, \"patrick's\": 2986, 'inning': 2988, '_kissingher:': 2989, 'stars': 4968, 'refreshment': 6456, 'alma': 6457, 'blood': 2990, 'cloudy': 6458, 'tease': 2991, 'them': 6459, 'dude': 4136, 'snow': 6462, 'huggenkiss': 2992, 'innocent': 6464, 'cough': 2174, 'beings': 6468, 'refill': 2994, 'lily-pond': 6469, 'needs': 2995, 'turning': 6470, 'multi-purpose': 2996, 'waltz': 2998, ':': 2999, 'talk-sings': 6473, 'rotch': 3001, 'gesture': 3002, 'rub-a-dub': 3003, \"world's\": 6475, 'yup': 5965, 'worried': 3005, 'following': 3006, 'truth': 3007, 'brother': 3008, 'least': 3010, 'meyerhof': 6478, 'toasting': 3012, 'paying': 5526, 'janette': 6481, 'desire': 3013, 'grope': 3014, \"wearin'\": 3015, 'moan': 3016, 'three-man': 3017, 'rasputin': 6483, 'therefore': 6484, 'unexplained': 4236, 'passion': 3020, 'screams': 1288, 'th-th-th-the': 6485, 'kinda': 3021, 'jesus': 3022, 'anyone': 6486, 'lessons': 6487, 'understood:': 3023, 'sickens': 3024, 'cock': 3025, 'hyper-credits': 5529, 'duh': 4105, 'backbone': 6489, 'well': 6490, 'have': 6491, 'bliss': 5531, 'fonda': 6492, 'naked': 3027, 'amid': 5532, 'corporate': 3028, \"city's\": 6145, 'no': 6495, 'explaining': 2181, 'miss': 3029, 'level': 6146, 'gruesome': 6497, 'blind': 3030, 'plywood': 3031, 'polite': 3032, 'contact': 3033, 'by': 3034, 'koholic': 6500, 'bowled': 1572, 'mom': 6501, 'blamed': 6502, 'burt': 6503, 'dead': 464, 'microphone': 6148, 'curds': 3035, 'contemplates': 6505, 'showing': 2188, 'brain': 6506, 'causes': 6507, 'enthusiastically': 5535, 'miles': 5726, 'conditioner': 1573, 'leg': 6508, 'toxins': 3036, 'damn': 6510, 'young_marge:': 6511, 'intriguing': 6349, 'bird': 3846, 'blubberino': 6151, 'digging': 1576, 'carl_carlson:': 3038, 'phase': 4417, 'lifetime': 3039, 'talked': 3040, 'rid': 6514, 'jerk': 6516, 'complaining': 1465, 'rapidly': 1023, \"tonight's\": 3041, 'red': 3042, 'uneasy': 3043, 'bleacher': 1914, 'curiosity': 3044, 'fictional': 3045, 'dramatically': 6519, 'gag': 3046, 'immiggants': 6521, 'olive': 6522, 'lovers': 2192, 'persia': 6523, 'stink': 3047, 'edner': 6524, 'with': 3048, 'twenty-four': 4172, 'th': 3049, \"how'd\": 3050, 'businessman_#1:': 3052, 'cologne': 6404, 'lie': 3270, 'wrestling': 4592, 'links': 3053, 'both': 6530, 'mmmm': 3054, 'pushing': 6531, 'indigenous': 6532, 'mike_mills:': 6747, '||return||': 3055, 'stinger': 3056, 'works': 3057, 'easy-going': 470, 'giant': 6534, '3rd_voice:': 6535, 'melodramatic': 6536, 'laughter': 6537, 'aidens': 6539, 'doug:': 6540, 'eternity': 6645, 'barter': 3741, 'dancing': 3059, 'indeed': 6541, 'pile': 6542, 'letters': 6543, 'halvsies': 3060, 'banned': 3061, 'whatchacallit': 4984, 'kirk_voice_milhouse:': 3062, \"'cause\": 6545, 'cannoli': 3063, 'baritone': 3064, 'grammys': 6546, 'sweaty': 6547, 'hygienically': 3065, 'intelligent': 6548, 'groan': 3066, \"y'money's\": 472, 'everyday': 3660, 'pip': 6551, '14': 3067, 'comic': 6553, 'deeply': 1583, 'lease': 6159, 'children': 6556, 'omit': 6559, 'occasional': 6560, 'philosophical': 3069, 'undermine': 6561, 'book_club_member:': 3070, 'freed': 6562, 'manage': 3071, 'delicate': 3072, 'humiliation': 1586, 'scornful': 3073, 'shred': 3074, 'ultimate': 6566, 'eggshell': 6567, 'wildfever': 3075, 'followed': 3076, 'hah': 3077, \"neat's-foot\": 3078, 'lindsay_naegle:': 6568, 'dean': 6569, 'plastered': 6570, 'espousing': 6571, 'kid': 6572, 'when-i-get-a-hold-of-you': 6573, 'bear': 3079, 'choked-up': 1031, 'bull': 6574, 'victory': 6750, 'dreamily': 5543, 'crystal': 6575, 'chief_wiggum:': 6576, 'seymour_skinner:': 6577, 'deacon': 6578, 'carnival': 6579, 'smitty:': 3080, 'and-and': 1587, 'buffet': 3081, 'ferry': 3082, 'dig': 3083, 'bathed': 3084, 'peanuts': 3085, \"mecca's\": 6581, 'suicide': 3086, 'friend': 4992, 'higher': 6582, 'beverage': 6583, 'wise': 3851, 'manjula': 3087, 'banquet': 3088, 'learned': 3089, 'omigod': 6584, 'orphan': 3090, 'colonel:': 3091, 'survive': 3092, 'k-zug': 6585, 'moe_szyslak:': 2746, 'wholeheartedly': 481, 'cab_driver:': 6586, 'amanda': 3093, 'crack': 6587, 'dreamed': 3094, 'afternoon': 6588, 'percent': 6589, 'favor': 3095, 'fritz:': 4995, 'safely': 3096, 'application': 3097, 'moonnnnnnnn': 3098, 'beligerent': 3694, 'therapy': 6754, 'occupation': 3099, 'prepared': 3100, 'supply': 5653, 'clear': 6592, 'piano': 3101, 'rascals': 3103, 'wishes': 6381, 'lecture': 6593, 'naegle': 6594, 'tavern': 3104, 'hate-hugs': 3105, 'diet': 6595, 'maiden': 3106, 'additional-seating-capacity': 6597, 'hm': 484, 'st': 3107, 'wrap': 3108, 'exasperated': 6599, \"tv'll\": 3109, 'six-barrel': 3110, 'bags': 486, 'mistresses': 3112, 'comeback': 6601, \"i'd'a\": 6602, 'hideous': 6603, 'life': 6604, 'partner': 3113, \"hole'\": 3114, 'snout': 3115, 'micronesian': 6355, 'forehead': 6606, \"must've\": 6607, 'instantly': 3116, 'writer:': 6168, 'undated': 3117, 'beginning': 6161, 'stairs': 6608, 'passed': 1037, 'married': 3118, 'change': 5006, 'gordon': 3119, 'tv_announcer:': 3120, 'saucy': 3121, 'stripes': 5551, 'teacup': 2467, 'y': 6609, 'wishful': 4820, 'rods': 4434, 'gasps': 6610, 'paint': 6611, 'remembered': 3377, 'ashamed': 3123, 'mathis': 6171, 'stillwater:': 3407, 'erasers': 3615, 'packets': 3124, 'coined': 3125, 'pointing': 6612, 'deliberate': 4438, 'aims': 6756, 'yellow': 5104, 'indeedy': 876, 'mouth': 6614, 'si-lent': 3126, 'wash': 750, \"i'm\": 6615, 'dear': 3127, 'bumpy-like': 3128, 'deadly': 6616, \"challengin'\": 3129, 'moon': 6617, 'elizabeth': 5003, 'is': 6618, 'loud': 6619, 'plastic': 6620, 'minister': 6621, 'mistake': 6622, 'united': 4439, \"queen's\": 6758, 'weather': 6623, 'committee': 1039, 'one-hour': 3131, 'chicks': 3132, 'touchdown': 1040, 'this:': 3133, 'beat': 3134, 'gin-slingers': 6627, 'schorr': 6628, 'slaves': 6629, 'bottom': 6630, 'brassiest': 3135, 'temples': 6631, 'decadent': 3136, \"lisa's\": 6632, \"fryer's\": 6633, 'rap': 3137, 'ripping': 6172, 'jam': 3138, 'gamble': 780, 'smallest': 6635, 'romance': 6759, 'lookalikes': 5557, 'p-k': 3139, \"poundin'\": 1445, 'radiation': 6636, 'teen': 3140, 'ow': 6637, 'helen': 6638, 'all-star': 3141, 'safecracker': 3142, 'e': 6718, 'awesome': 3146, 'grammy': 3144, 'mine': 3145, 'discriminate': 6641, 'saving': 5559, 'goes': 3147, 'in': 3148, 'suds': 3149, 'aer': 2212, 'planet': 1046, 'stands': 3150, 'join': 5213, 'dregs': 3152, 'meant': 3153, 'scores': 3154, 'bulked': 6643, 'years': 3155, 'all': 6644, 'except': 3156, 'guff': 3157, 'iranian': 5005, 'stop': 4261, 'right-handed': 3550, 'connor-politan': 3161, 'owns': 3160, 'bono:': 6647, 'hoping': 6648, 'literary': 6649, 'loaded': 3162, 'lingus': 3852, 'guttural': 1603, 'mall': 3163, \"ain't\": 6650, 'payday': 6652, 'statues': 3867, 'dna': 5624, 'sooo': 5783, 'courthouse': 494, 'squeals': 6653, 'luck': 3165, 'television': 6654, 'urinal': 6655, 'faded': 3574, 'phone': 6656, 'stays': 1941, 'contest': 3166, 'ne': 6131, 'designer': 3167, 'delays': 6660, 'sport': 3168, 'unsanitary': 3169, 'shores': 3170, 'disaster': 6663, 'ummmmmmmmm': 6664, 'upset': 6665, 'brainiac': 5563, 'professional': 1144, 'presidents': 3172, 'vengeance': 1051, 'matter': 3173, 'propose': 3175, 'urge': 3177, 'optimistic': 3179, 'nasty': 3178, 'small_boy:': 6590, 'made': 6670, 'clapping': 3180, 'hike': 6671, 'inserts': 3182, 'confession': 2175, 'africanized': 3183, 'pour': 6673, 'sweden': 3291, 'whistling': 3184, 'grandiose': 497, 'practice': 6674, 'ho-la': 3185, 'tornado': 6675, 'snake-handler': 3186, 'meaning': 3187, 'george': 3188, 'j': 6762, 'per': 3189, 'goodbye': 3294, 'aziz': 3872, 'shtick': 4451, 'lowest': 3190, \"cont'd:\": 6678, 'booze': 3191, 'sidekick': 6679, 'recall': 3192, 'hell': 3193, 'swooning': 3876, 'michael_stipe:': 6681, 'bowie': 3194, 'brought': 6682, 'housewife': 3195, 'empty': 6683, 'pretentious_rat_lover:': 3196, \"pope's\": 6684, 'terrible': 3197, 'pretends': 3198, 'teeth': 6685, 'traitors': 3201, \"edna's\": 3200, 'stir': 6686, 'pretend': 3202, 'sponsor': 3203, \"aren'tcha\": 5998, 'sail': 6186, 'motel': 4266, 'unlocked': 3205, 'hi': 6688, 'flayvin': 6689, 'fayed': 4718, \"meanin'\": 3206, 'pennies': 6691, 'solo': 3207, 'fast-food': 3209, 'boozebag': 3210, 'r': 3213, 'barney': 6693, 'sideshow': 6694, 'wings': 6695, 'a': 3214, 'rugged': 3881, 'bannister': 6697, 'enjoys': 6189, 'golf': 4413, 'crunch': 6700, 'windshield': 1717, 'nope': 3216, 'denver': 6701, 'sticking': 6191, 'griffith': 3217, 'technical': 2786, 'candy': 3299, 'ehhh': 3219, 'treat': 574, 'sir': 998, \"mopin'\": 3220, 'concentrate': 3221, 'has': 3222, 'repeating': 3223, 'suspect': 6704, 'plug': 3224, 'mouths': 3229, 'jukebox_record:': 3228, \"'em\": 3227, 'churchy': 1059, 'louie:': 3230, 'associate': 3231, 'jewish': 3233, 'squirrels': 6706, 'burt_reynolds:': 6707, 'fence': 1613, 'quarterback': 3234, 'superpower': 3235, 'nasa': 6709, 'sticker': 3236, 'modest': 6710, 'flaming': 2222, 'suru': 6711, 'syndicate': 6712, 'lookalike': 6713, '-ry': 3237, 'blank': 3238, 'tiger': 5182, \"i'll\": 3239, 'knock': 2250, 'toy': 3240, 'kneeling': 5017, 'alibi': 3241, 'figured': 3242, 'obsessive-compulsive': 1063, 'challenge': 5327, 'parents': 3243, 'cecil_terwilliger:': 6716, 'exactly': 6717, 'selfish': 4652, 'original': 3244, 'breakfast': 6719, 'chinese_restaurateur:': 4458, 'stirring': 6720, 'error': 6721, 'mechanical': 3245, 'sorry': 3246, 'hole': 6723, 'wells': 6724, 'produce': 3247, \"mo'\": 3249, 'begging': 3250, 'stationery': 3251, 'painted': 6769, 'sale': 6727, 'jebediah': 1615, 'forbids': 3252, 'paintings': 6728, \"dimwit's\": 6729, 'rock': 6730, 'vulnerable': 5574, 'plane': 3253, 'encouraging': 3255, 'macbeth': 3256, 'and': 6733, 'commit': 6201, 'booth': 6771, 'bleeding': 2788, 'judges': 6734, 'ape-like': 3257, 'rig': 6736, 'bounced': 6382, 'confidential': 5050, 'breathless': 6737, 'ribbon': 1696, 'seriously': 3258, 'dating': 3259, 'pageant': 3260, 'sit': 506, 'senator': 6739, 'op': 4164, 'vincent': 6740, 'cletus_spuckler:': 3261, 'in-ground': 6741, 'chip': 6742, 'slurred': 3262, 'babar': 3263, 'slight': 3264, 'campaign': 5023, 'panicky': 1537, \"g'ahead\": 3265, 'cow': 6743, 'absentminded': 3266, 'cheaper': 3267, 'getting': 3268, 'viva': 4464, 'advertising': 6744, 'bride': 6745, 'push': 6746, \"raggin'\": 3271, \"fans'll\": 1621, \"they're\": 3272, 'sternly': 3273, 'fonzie': 6748, 'rump': 3274, 'burnside': 3275, 'wham': 3888, 'employees': 3009, 'fall': 6749, 'bart_simpson:': 3276, 'job': 6752, 'met': 3277, 'knock-up': 3278, 'chocolate': 6753, 'trashed': 4675, 'boyhood': 1623, 'internet': 6755, 'brace': 3279, 'customer': 3280, 'murdoch': 6774, 'unfortunately': 2231, 'dad': 6757, 'peace': 3281, 'bucket': 3282, 'loafers': 3283, 'owe': 2971, \"they'll\": 3284, \"games'd\": 5582, 'going': 3285, 'put': 3286, 'eaters': 3287, 'imagine': 3288, 'key': 1460, 'poured': 5748, 'mrs': 6760, 'spotting': 3289, 'cost': 6761, 'eww': 3290, \"beer's\": 3292, 'tender': 3293, 'mini-dumpsters': 3295, 'plain': 4459, 'celebrity': 5584, 'lock': 6764, 'family': 5585, 'hail': 3296, 'dennis_conroy:': 3297, 'able': 3298, 'bulletin': 6765, 'phrase': 715, 'yee-haw': 3300, 'game': 6766, 'supervising': 3301, 'recorded': 6767, 'wake': 6768, 'cigars': 4471, 'earth': 4240, 'illegal': 1626, 'forbidden': 4469, 'depression': 3302, 'luv': 3303, 'pal': 3304, 'arise': 4470, \"brockman's\": 3305, 'meaningful': 6770, 'wrapped': 3608, 'easygoing': 3306, 'bottoms': 1629, 'husband': 5591, 'haikus': 3307, 'quick-like': 6772, 'salvador': 3308, 'something': 6773, 'telling': 3309, \"b-52's:\": 6775, 'occupied': 3310, 'sunglasses': 1077, 'clipped': 3311, 'loudly': 3312, 'relaxing': 6017, 'tony': 3313, 'tremendous': 6777, 'stamp': 6778}\n"
     ]
    }
   ],
   "source": [
    "\"\"\"\n",
    "DON'T MODIFY ANYTHING IN THIS CELL\n",
    "\"\"\"\n",
    "# Preprocess Training, Validation, and Testing Data\n",
    "helper.preprocess_and_save_data(data_dir, token_lookup, create_lookup_tables)"
   ]
  },
  {
   "cell_type": "markdown",
   "metadata": {},
   "source": [
    "# Check Point\n",
    "This is your first checkpoint. If you ever decide to come back to this notebook or have to restart the notebook, you can start from here. The preprocessed data has been saved to disk."
   ]
  },
  {
   "cell_type": "code",
   "execution_count": 27,
   "metadata": {},
   "outputs": [],
   "source": [
    "\"\"\"\n",
    "DON'T MODIFY ANYTHING IN THIS CELL\n",
    "\"\"\"\n",
    "import helper\n",
    "import numpy as np\n",
    "import problem_unittests as tests\n",
    "\n",
    "int_text, vocab_to_int, int_to_vocab, token_dict = helper.load_preprocess()"
   ]
  },
  {
   "cell_type": "markdown",
   "metadata": {},
   "source": [
    "## Build the Neural Network\n",
    "You'll build the components necessary to build a RNN by implementing the following functions below:\n",
    "- get_inputs\n",
    "- get_init_cell\n",
    "- get_embed\n",
    "- build_rnn\n",
    "- build_nn\n",
    "- get_batches\n",
    "\n",
    "### Check the Version of TensorFlow and Access to GPU"
   ]
  },
  {
   "cell_type": "code",
   "execution_count": 28,
   "metadata": {},
   "outputs": [
    {
     "name": "stdout",
     "output_type": "stream",
     "text": [
      "TensorFlow Version: 1.0.1\n",
      "Default GPU Device: /gpu:0\n"
     ]
    }
   ],
   "source": [
    "\"\"\"\n",
    "DON'T MODIFY ANYTHING IN THIS CELL\n",
    "\"\"\"\n",
    "from distutils.version import LooseVersion\n",
    "import warnings\n",
    "import tensorflow as tf\n",
    "\n",
    "# Check TensorFlow Version\n",
    "assert LooseVersion(tf.__version__) >= LooseVersion('1.0'), 'Please use TensorFlow version 1.0 or newer'\n",
    "print('TensorFlow Version: {}'.format(tf.__version__))\n",
    "\n",
    "# Check for a GPU\n",
    "if not tf.test.gpu_device_name():\n",
    "    warnings.warn('No GPU found. Please use a GPU to train your neural network.')\n",
    "else:\n",
    "    print('Default GPU Device: {}'.format(tf.test.gpu_device_name()))"
   ]
  },
  {
   "cell_type": "markdown",
   "metadata": {},
   "source": [
    "### Input\n",
    "Implement the `get_inputs()` function to create TF Placeholders for the Neural Network.  It should create the following placeholders:\n",
    "- Input text placeholder named \"input\" using the [TF Placeholder](https://www.tensorflow.org/api_docs/python/tf/placeholder) `name` parameter.\n",
    "- Targets placeholder\n",
    "- Learning Rate placeholder\n",
    "\n",
    "Return the placeholders in the following tuple `(Input, Targets, LearningRate)`"
   ]
  },
  {
   "cell_type": "code",
   "execution_count": 29,
   "metadata": {},
   "outputs": [
    {
     "name": "stdout",
     "output_type": "stream",
     "text": [
      "Tests Passed\n"
     ]
    }
   ],
   "source": [
    "def get_inputs():\n",
    "    \"\"\"\n",
    "    Create TF Placeholders for input, targets, and learning rate.\n",
    "    :return: Tuple (input, targets, learning rate)\n",
    "    \"\"\"\n",
    "    # TODO: Implement Function\n",
    "    input = tf.placeholder(tf.int32, (None, None), 'input')\n",
    "    targets = tf.placeholder(tf.int32, (None, None), 'targets')\n",
    "    learning_rate = tf.placeholder(tf.float32, None, 'learning_rate')\n",
    "#     print(input)\n",
    "#     print(targets)\n",
    "    return input, targets, learning_rate\n",
    "\n",
    "\n",
    "\"\"\"\n",
    "DON'T MODIFY ANYTHING IN THIS CELL THAT IS BELOW THIS LINE\n",
    "\"\"\"\n",
    "tests.test_get_inputs(get_inputs)"
   ]
  },
  {
   "cell_type": "markdown",
   "metadata": {},
   "source": [
    "### Build RNN Cell and Initialize\n",
    "Stack one or more [`BasicLSTMCells`](https://www.tensorflow.org/api_docs/python/tf/contrib/rnn/BasicLSTMCell) in a [`MultiRNNCell`](https://www.tensorflow.org/api_docs/python/tf/contrib/rnn/MultiRNNCell).\n",
    "- The Rnn size should be set using `rnn_size`\n",
    "- Initalize Cell State using the MultiRNNCell's [`zero_state()`](https://www.tensorflow.org/api_docs/python/tf/contrib/rnn/MultiRNNCell#zero_state) function\n",
    "    - Apply the name \"initial_state\" to the initial state using [`tf.identity()`](https://www.tensorflow.org/api_docs/python/tf/identity)\n",
    "\n",
    "Return the cell and initial state in the following tuple `(Cell, InitialState)`"
   ]
  },
  {
   "cell_type": "code",
   "execution_count": 30,
   "metadata": {},
   "outputs": [
    {
     "name": "stdout",
     "output_type": "stream",
     "text": [
      "Tests Passed\n"
     ]
    }
   ],
   "source": [
    "def get_init_cell(batch_size, rnn_size):\n",
    "    \"\"\"\n",
    "    Create an RNN Cell and initialize it.\n",
    "    :param batch_size: Size of batches\n",
    "    :param rnn_size: Size of RNNs\n",
    "    :return: Tuple (cell, initialize state)\n",
    "    \"\"\"\n",
    "    # TODO: Implement Function\n",
    "    number_of_layers = 2\n",
    "    cell = tf.contrib.rnn.BasicLSTMCell(rnn_size)\n",
    "    cell = tf.contrib.rnn.MultiRNNCell([cell]*number_of_layers)\n",
    "    \n",
    "    X = cell.zero_state(batch_size, tf.float32)\n",
    "    initialize_state = tf.identity(X, name='initial_state')\n",
    "    \n",
    "    return cell, initialize_state\n",
    "\n",
    "\n",
    "\"\"\"\n",
    "DON'T MODIFY ANYTHING IN THIS CELL THAT IS BELOW THIS LINE\n",
    "\"\"\"\n",
    "tests.test_get_init_cell(get_init_cell)"
   ]
  },
  {
   "cell_type": "markdown",
   "metadata": {},
   "source": [
    "### Word Embedding\n",
    "Apply embedding to `input_data` using TensorFlow.  Return the embedded sequence."
   ]
  },
  {
   "cell_type": "code",
   "execution_count": 31,
   "metadata": {},
   "outputs": [
    {
     "name": "stdout",
     "output_type": "stream",
     "text": [
      "Tests Passed\n"
     ]
    }
   ],
   "source": [
    "def get_embed(input_data, vocab_size, embed_dim):\n",
    "    \"\"\"\n",
    "    Create embedding for <input_data>.\n",
    "    :param input_data: TF placeholder for text input.\n",
    "    :param vocab_size: Number of words in vocabulary.\n",
    "    :param embed_dim: Number of embedding dimensions\n",
    "    :return: Embedded input.\n",
    "    \"\"\"\n",
    "    # TODO: Implement Function\n",
    "#     print(input_data)\n",
    "#     print(vocab_size)\n",
    "#     print(embed_dim)\n",
    "#     graph = tf.Graph()\n",
    "#     with graph.as_default():\n",
    "    embedding = tf.Variable(tf.random_uniform((vocab_size, embed_dim)))\n",
    "    embed = tf.nn.embedding_lookup(embedding, input_data)\n",
    "    return embed\n",
    "\n",
    "\n",
    "\"\"\"\n",
    "DON'T MODIFY ANYTHING IN THIS CELL THAT IS BELOW THIS LINE\n",
    "\"\"\"\n",
    "tests.test_get_embed(get_embed)"
   ]
  },
  {
   "cell_type": "markdown",
   "metadata": {},
   "source": [
    "### Build RNN\n",
    "You created a RNN Cell in the `get_init_cell()` function.  Time to use the cell to create a RNN.\n",
    "- Build the RNN using the [`tf.nn.dynamic_rnn()`](https://www.tensorflow.org/api_docs/python/tf/nn/dynamic_rnn)\n",
    " - Apply the name \"final_state\" to the final state using [`tf.identity()`](https://www.tensorflow.org/api_docs/python/tf/identity)\n",
    "\n",
    "Return the outputs and final_state state in the following tuple `(Outputs, FinalState)` "
   ]
  },
  {
   "cell_type": "code",
   "execution_count": 32,
   "metadata": {},
   "outputs": [
    {
     "name": "stdout",
     "output_type": "stream",
     "text": [
      "Tests Passed\n"
     ]
    }
   ],
   "source": [
    "def build_rnn(cell, inputs):\n",
    "    \"\"\"\n",
    "    Create a RNN using a RNN Cell\n",
    "    :param cell: RNN Cell\n",
    "    :param inputs: Input text data\n",
    "    :return: Tuple (Outputs, Final State)\n",
    "    \"\"\"\n",
    "    # TODO: Implement Function\n",
    "    \n",
    "    (outputs, FinalState) = tf.nn.dynamic_rnn(cell, inputs, dtype=tf.float32)\n",
    "    FinalState = tf.identity(FinalState, name=\"final_state\")\n",
    "    return outputs, FinalState\n",
    "\n",
    "\n",
    "\"\"\"\n",
    "DON'T MODIFY ANYTHING IN THIS CELL THAT IS BELOW THIS LINE\n",
    "\"\"\"\n",
    "tests.test_build_rnn(build_rnn)"
   ]
  },
  {
   "cell_type": "markdown",
   "metadata": {},
   "source": [
    "### Build the Neural Network\n",
    "Apply the functions you implemented above to:\n",
    "- Apply embedding to `input_data` using your `get_embed(input_data, vocab_size, embed_dim)` function.\n",
    "- Build RNN using `cell` and your `build_rnn(cell, inputs)` function.\n",
    "- Apply a fully connected layer with a linear activation and `vocab_size` as the number of outputs.\n",
    "\n",
    "Return the logits and final state in the following tuple (Logits, FinalState) "
   ]
  },
  {
   "cell_type": "code",
   "execution_count": 33,
   "metadata": {},
   "outputs": [
    {
     "name": "stdout",
     "output_type": "stream",
     "text": [
      "Tests Passed\n"
     ]
    }
   ],
   "source": [
    "def build_nn(cell, rnn_size, input_data, vocab_size, embed_dim):\n",
    "    \"\"\"\n",
    "    Build part of the neural network\n",
    "    :param cell: RNN cell\n",
    "    :param rnn_size: Size of rnns\n",
    "    :param input_data: Input data\n",
    "    :param vocab_size: Vocabulary size\n",
    "    :param embed_dim: Number of embedding dimensions\n",
    "    :return: Tuple (Logits, FinalState)\n",
    "    \"\"\"\n",
    "    # TODO: Implement Function\n",
    "#     print(rnn_size)\n",
    "#     print(input_data)\n",
    "#     print(vocab_size)\n",
    "#     print(embed_dim)\n",
    "    inputs = get_embed(input_data, vocab_size, 200)\n",
    "    outputs, FinalState = build_rnn(cell, inputs)\n",
    "    logits = tf.contrib.layers.fully_connected(outputs, vocab_size, activation_fn=None)\n",
    "    return logits, FinalState\n",
    "\n",
    "\n",
    "\"\"\"\n",
    "DON'T MODIFY ANYTHING IN THIS CELL THAT IS BELOW THIS LINE\n",
    "\"\"\"\n",
    "tests.test_build_nn(build_nn)"
   ]
  },
  {
   "cell_type": "markdown",
   "metadata": {},
   "source": [
    "### Batches\n",
    "Implement `get_batches` to create batches of input and targets using `int_text`.  The batches should be a Numpy array with the shape `(number of batches, 2, batch size, sequence length)`. Each batch contains two elements:\n",
    "- The first element is a single batch of **input** with the shape `[batch size, sequence length]`\n",
    "- The second element is a single batch of **targets** with the shape `[batch size, sequence length]`\n",
    "\n",
    "If you can't fill the last batch with enough data, drop the last batch.\n",
    "\n",
    "For exmple, `get_batches([1, 2, 3, 4, 5, 6, 7, 8, 9, 10, 11, 12, 13, 14, 15, 16, 17, 18, 19, 20], 3, 2)` would return a Numpy array of the following:\n",
    "```\n",
    "[\n",
    "  # First Batch\n",
    "  [\n",
    "    # Batch of Input\n",
    "    [[ 1  2], [ 7  8], [13 14]]\n",
    "    # Batch of targets\n",
    "    [[ 2  3], [ 8  9], [14 15]]\n",
    "  ]\n",
    "\n",
    "  # Second Batch\n",
    "  [\n",
    "    # Batch of Input\n",
    "    [[ 3  4], [ 9 10], [15 16]]\n",
    "    # Batch of targets\n",
    "    [[ 4  5], [10 11], [16 17]]\n",
    "  ]\n",
    "\n",
    "  # Third Batch\n",
    "  [\n",
    "    # Batch of Input\n",
    "    [[ 5  6], [11 12], [17 18]]\n",
    "    # Batch of targets\n",
    "    [[ 6  7], [12 13], [18  1]]\n",
    "  ]\n",
    "]\n",
    "```\n",
    "\n",
    "Notice that the last target value in the last batch is the first input value of the first batch. In this case, `1`. This is a common technique used when creating sequence batches, although it is rather unintuitive."
   ]
  },
  {
   "cell_type": "code",
   "execution_count": 34,
   "metadata": {},
   "outputs": [
    {
     "name": "stdout",
     "output_type": "stream",
     "text": [
      "Tests Passed\n"
     ]
    }
   ],
   "source": [
    "def get_batches(int_text, batch_size, seq_length):\n",
    "    \"\"\"\n",
    "    Return batches of input and target\n",
    "    :param int_text: Text with the words replaced by their ids\n",
    "    :param batch_size: The size of batch\n",
    "    :param seq_length: The length of sequence\n",
    "    :return: Batches as a Numpy array\n",
    "    \"\"\"\n",
    "    # TODO: Implement Function\n",
    "    batches = batch_size * seq_length\n",
    "    batch_number = len(int_text)//(batches)\n",
    "#     print (\"seg_length:\", seq_length)\n",
    "#     print(\"batch_number:\", batch_number)\n",
    "#     print(\"batch_size:\", batch_size)\n",
    "#     print(\"batches:\", batches)\n",
    "#     print(\"text replaced by id:\", int_text)\n",
    "    x = np.array(int_text[: batch_number * batch_size * seq_length])\n",
    "    y = np.array(int_text[1: batch_number * batch_size * seq_length + 1])\n",
    "    y[-1] = x[0]\n",
    "    x_batches = np.split(x.reshape(batch_size, -1), batch_number, 1)\n",
    "    y_batches = np.split(y.reshape(batch_size, -1), batch_number, 1)\n",
    "    return np.array(list(zip(x_batches, y_batches)))\n",
    "\n",
    "\n",
    "\"\"\"\n",
    "DON'T MODIFY ANYTHING IN THIS CELL THAT IS BELOW THIS LINE\n",
    "\"\"\"\n",
    "tests.test_get_batches(get_batches)"
   ]
  },
  {
   "cell_type": "markdown",
   "metadata": {},
   "source": [
    "## Neural Network Training\n",
    "### Hyperparameters\n",
    "Tune the following parameters:\n",
    "\n",
    "- Set `num_epochs` to the number of epochs.\n",
    "- Set `batch_size` to the batch size.\n",
    "- Set `rnn_size` to the size of the RNNs.\n",
    "- Set `embed_dim` to the size of the embedding.\n",
    "- Set `seq_length` to the length of sequence.\n",
    "- Set `learning_rate` to the learning rate.\n",
    "- Set `show_every_n_batches` to the number of batches the neural network should print progress."
   ]
  },
  {
   "cell_type": "code",
   "execution_count": 35,
   "metadata": {
    "collapsed": true
   },
   "outputs": [],
   "source": [
    "# Number of Epochs\n",
    "num_epochs = 120\n",
    "# Batch Size\n",
    "batch_size = 128\n",
    "# RNN Size\n",
    "rnn_size = 256\n",
    "# Embedding Dimension Size\n",
    "embed_dim = 256\n",
    "# Sequence Length\n",
    "seq_length = 15\n",
    "# Learning Rate\n",
    "learning_rate = .01\n",
    "# Show stats for every n number of batches\n",
    "show_every_n_batches = 50\n",
    "\n",
    "\"\"\"\n",
    "DON'T MODIFY ANYTHING IN THIS CELL THAT IS BELOW THIS LINE\n",
    "\"\"\"\n",
    "save_dir = './save'"
   ]
  },
  {
   "cell_type": "markdown",
   "metadata": {},
   "source": [
    "### Build the Graph\n",
    "Build the graph using the neural network you implemented."
   ]
  },
  {
   "cell_type": "code",
   "execution_count": 36,
   "metadata": {},
   "outputs": [],
   "source": [
    "\"\"\"\n",
    "DON'T MODIFY ANYTHING IN THIS CELL\n",
    "\"\"\"\n",
    "from tensorflow.contrib import seq2seq\n",
    "\n",
    "train_graph = tf.Graph()\n",
    "with train_graph.as_default():\n",
    "    vocab_size = len(int_to_vocab)\n",
    "    input_text, targets, lr = get_inputs()\n",
    "    input_data_shape = tf.shape(input_text)\n",
    "    cell, initial_state = get_init_cell(input_data_shape[0], rnn_size)\n",
    "    logits, final_state = build_nn(cell, rnn_size, input_text, vocab_size, embed_dim)\n",
    "\n",
    "    # Probabilities for generating words\n",
    "    probs = tf.nn.softmax(logits, name='probs')\n",
    "\n",
    "    # Loss function\n",
    "    cost = seq2seq.sequence_loss(\n",
    "        logits,\n",
    "        targets,\n",
    "        tf.ones([input_data_shape[0], input_data_shape[1]]))\n",
    "\n",
    "    # Optimizer\n",
    "    optimizer = tf.train.AdamOptimizer(lr)\n",
    "\n",
    "    # Gradient Clipping\n",
    "    gradients = optimizer.compute_gradients(cost)\n",
    "    capped_gradients = [(tf.clip_by_value(grad, -1., 1.), var) for grad, var in gradients if grad is not None]\n",
    "    train_op = optimizer.apply_gradients(capped_gradients)"
   ]
  },
  {
   "cell_type": "markdown",
   "metadata": {},
   "source": [
    "## Train\n",
    "Train the neural network on the preprocessed data.  If you have a hard time getting a good loss, check the [forums](https://discussions.udacity.com/) to see if anyone is having the same problem."
   ]
  },
  {
   "cell_type": "code",
   "execution_count": 37,
   "metadata": {},
   "outputs": [
    {
     "name": "stdout",
     "output_type": "stream",
     "text": [
      "Epoch   0 Batch    0/35   train_loss = 8.820\n",
      "Epoch   1 Batch   15/35   train_loss = 6.320\n",
      "Epoch   2 Batch   30/35   train_loss = 6.307\n",
      "Epoch   4 Batch   10/35   train_loss = 6.432\n",
      "Epoch   5 Batch   25/35   train_loss = 6.249\n",
      "Epoch   7 Batch    5/35   train_loss = 6.279\n",
      "Epoch   8 Batch   20/35   train_loss = 6.333\n",
      "Epoch  10 Batch    0/35   train_loss = 6.229\n",
      "Epoch  11 Batch   15/35   train_loss = 6.305\n",
      "Epoch  12 Batch   30/35   train_loss = 6.113\n",
      "Epoch  14 Batch   10/35   train_loss = 6.184\n",
      "Epoch  15 Batch   25/35   train_loss = 5.940\n",
      "Epoch  17 Batch    5/35   train_loss = 5.923\n",
      "Epoch  18 Batch   20/35   train_loss = 5.727\n",
      "Epoch  20 Batch    0/35   train_loss = 5.396\n",
      "Epoch  21 Batch   15/35   train_loss = 5.166\n",
      "Epoch  22 Batch   30/35   train_loss = 4.906\n",
      "Epoch  24 Batch   10/35   train_loss = 4.859\n",
      "Epoch  25 Batch   25/35   train_loss = 4.537\n",
      "Epoch  27 Batch    5/35   train_loss = 4.486\n",
      "Epoch  28 Batch   20/35   train_loss = 4.406\n",
      "Epoch  30 Batch    0/35   train_loss = 4.363\n",
      "Epoch  31 Batch   15/35   train_loss = 4.332\n",
      "Epoch  32 Batch   30/35   train_loss = 4.173\n",
      "Epoch  34 Batch   10/35   train_loss = 4.174\n",
      "Epoch  35 Batch   25/35   train_loss = 3.908\n",
      "Epoch  37 Batch    5/35   train_loss = 3.921\n",
      "Epoch  38 Batch   20/35   train_loss = 3.814\n",
      "Epoch  40 Batch    0/35   train_loss = 3.813\n",
      "Epoch  41 Batch   15/35   train_loss = 3.643\n",
      "Epoch  42 Batch   30/35   train_loss = 3.525\n",
      "Epoch  44 Batch   10/35   train_loss = 3.546\n",
      "Epoch  45 Batch   25/35   train_loss = 3.320\n",
      "Epoch  47 Batch    5/35   train_loss = 3.328\n",
      "Epoch  48 Batch   20/35   train_loss = 3.135\n",
      "Epoch  50 Batch    0/35   train_loss = 3.203\n",
      "Epoch  51 Batch   15/35   train_loss = 2.991\n",
      "Epoch  52 Batch   30/35   train_loss = 2.946\n",
      "Epoch  54 Batch   10/35   train_loss = 2.884\n",
      "Epoch  55 Batch   25/35   train_loss = 2.692\n",
      "Epoch  57 Batch    5/35   train_loss = 2.732\n",
      "Epoch  58 Batch   20/35   train_loss = 2.532\n",
      "Epoch  60 Batch    0/35   train_loss = 2.580\n",
      "Epoch  61 Batch   15/35   train_loss = 2.389\n",
      "Epoch  62 Batch   30/35   train_loss = 2.337\n",
      "Epoch  64 Batch   10/35   train_loss = 2.289\n",
      "Epoch  65 Batch   25/35   train_loss = 2.214\n",
      "Epoch  67 Batch    5/35   train_loss = 2.175\n",
      "Epoch  68 Batch   20/35   train_loss = 2.067\n",
      "Epoch  70 Batch    0/35   train_loss = 2.180\n",
      "Epoch  71 Batch   15/35   train_loss = 1.939\n",
      "Epoch  72 Batch   30/35   train_loss = 1.993\n",
      "Epoch  74 Batch   10/35   train_loss = 1.893\n",
      "Epoch  75 Batch   25/35   train_loss = 1.771\n",
      "Epoch  77 Batch    5/35   train_loss = 1.760\n",
      "Epoch  78 Batch   20/35   train_loss = 1.660\n",
      "Epoch  80 Batch    0/35   train_loss = 1.774\n",
      "Epoch  81 Batch   15/35   train_loss = 1.566\n",
      "Epoch  82 Batch   30/35   train_loss = 1.616\n",
      "Epoch  84 Batch   10/35   train_loss = 1.541\n",
      "Epoch  85 Batch   25/35   train_loss = 1.381\n",
      "Epoch  87 Batch    5/35   train_loss = 1.436\n",
      "Epoch  88 Batch   20/35   train_loss = 1.367\n",
      "Epoch  90 Batch    0/35   train_loss = 1.469\n",
      "Epoch  91 Batch   15/35   train_loss = 1.314\n",
      "Epoch  92 Batch   30/35   train_loss = 1.310\n",
      "Epoch  94 Batch   10/35   train_loss = 1.275\n",
      "Epoch  95 Batch   25/35   train_loss = 1.183\n",
      "Epoch  97 Batch    5/35   train_loss = 1.204\n",
      "Epoch  98 Batch   20/35   train_loss = 1.121\n",
      "Epoch 100 Batch    0/35   train_loss = 1.269\n",
      "Epoch 101 Batch   15/35   train_loss = 1.109\n",
      "Epoch 102 Batch   30/35   train_loss = 1.065\n",
      "Epoch 104 Batch   10/35   train_loss = 1.102\n",
      "Epoch 105 Batch   25/35   train_loss = 0.979\n",
      "Epoch 107 Batch    5/35   train_loss = 1.025\n",
      "Epoch 108 Batch   20/35   train_loss = 0.975\n",
      "Epoch 110 Batch    0/35   train_loss = 1.089\n",
      "Epoch 111 Batch   15/35   train_loss = 0.967\n",
      "Epoch 112 Batch   30/35   train_loss = 0.931\n",
      "Epoch 114 Batch   10/35   train_loss = 0.924\n",
      "Epoch 115 Batch   25/35   train_loss = 0.812\n",
      "Epoch 117 Batch    5/35   train_loss = 0.840\n",
      "Epoch 118 Batch   20/35   train_loss = 0.817\n",
      "Model Trained and Saved\n"
     ]
    }
   ],
   "source": [
    "\"\"\"\n",
    "DON'T MODIFY ANYTHING IN THIS CELL\n",
    "\"\"\"\n",
    "batches = get_batches(int_text, batch_size, seq_length)\n",
    "\n",
    "with tf.Session(graph=train_graph) as sess:\n",
    "    sess.run(tf.global_variables_initializer())\n",
    "\n",
    "    for epoch_i in range(num_epochs):\n",
    "        state = sess.run(initial_state, {input_text: batches[0][0]})\n",
    "\n",
    "        for batch_i, (x, y) in enumerate(batches):\n",
    "            feed = {\n",
    "                input_text: x,\n",
    "                targets: y,\n",
    "                initial_state: state,\n",
    "                lr: learning_rate}\n",
    "            train_loss, state, _ = sess.run([cost, final_state, train_op], feed)\n",
    "\n",
    "            # Show every <show_every_n_batches> batches\n",
    "            if (epoch_i * len(batches) + batch_i) % show_every_n_batches == 0:\n",
    "                print('Epoch {:>3} Batch {:>4}/{}   train_loss = {:.3f}'.format(\n",
    "                    epoch_i,\n",
    "                    batch_i,\n",
    "                    len(batches),\n",
    "                    train_loss))\n",
    "\n",
    "    # Save Model\n",
    "    saver = tf.train.Saver()\n",
    "    saver.save(sess, save_dir)\n",
    "    print('Model Trained and Saved')"
   ]
  },
  {
   "cell_type": "markdown",
   "metadata": {},
   "source": [
    "## Save Parameters\n",
    "Save `seq_length` and `save_dir` for generating a new TV script."
   ]
  },
  {
   "cell_type": "code",
   "execution_count": 38,
   "metadata": {},
   "outputs": [],
   "source": [
    "\"\"\"\n",
    "DON'T MODIFY ANYTHING IN THIS CELL\n",
    "\"\"\"\n",
    "# Save parameters for checkpoint\n",
    "helper.save_params((seq_length, save_dir))"
   ]
  },
  {
   "cell_type": "markdown",
   "metadata": {},
   "source": [
    "# Checkpoint"
   ]
  },
  {
   "cell_type": "code",
   "execution_count": 39,
   "metadata": {},
   "outputs": [],
   "source": [
    "\"\"\"\n",
    "DON'T MODIFY ANYTHING IN THIS CELL\n",
    "\"\"\"\n",
    "import tensorflow as tf\n",
    "import numpy as np\n",
    "import helper\n",
    "import problem_unittests as tests\n",
    "\n",
    "_, vocab_to_int, int_to_vocab, token_dict = helper.load_preprocess()\n",
    "seq_length, load_dir = helper.load_params()"
   ]
  },
  {
   "cell_type": "markdown",
   "metadata": {},
   "source": [
    "## Implement Generate Functions\n",
    "### Get Tensors\n",
    "Get tensors from `loaded_graph` using the function [`get_tensor_by_name()`](https://www.tensorflow.org/api_docs/python/tf/Graph#get_tensor_by_name).  Get the tensors using the following names:\n",
    "- \"input:0\"\n",
    "- \"initial_state:0\"\n",
    "- \"final_state:0\"\n",
    "- \"probs:0\"\n",
    "\n",
    "Return the tensors in the following tuple `(InputTensor, InitialStateTensor, FinalStateTensor, ProbsTensor)` "
   ]
  },
  {
   "cell_type": "code",
   "execution_count": 40,
   "metadata": {},
   "outputs": [
    {
     "name": "stdout",
     "output_type": "stream",
     "text": [
      "Tests Passed\n"
     ]
    }
   ],
   "source": [
    "def get_tensors(loaded_graph):\n",
    "    \"\"\"\n",
    "    Get input, initial state, final state, and probabilities tensor from <loaded_graph>\n",
    "    :param loaded_graph: TensorFlow graph loaded from file\n",
    "    :return: Tuple (InputTensor, InitialStateTensor, FinalStateTensor, ProbsTensor)\n",
    "    \"\"\"\n",
    "    # TODO: Implement Function\n",
    "    # with tf.Session() as sess:\n",
    "    InputTensor = loaded_graph.get_tensor_by_name(\"input:0\")\n",
    "    InitialStateTensor = loaded_graph.get_tensor_by_name(\"initial_state:0\")\n",
    "    FinalStateTensor = loaded_graph.get_tensor_by_name(\"final_state:0\")\n",
    "    ProbsTensor = loaded_graph.get_tensor_by_name(\"probs:0\")\n",
    "    return (InputTensor, InitialStateTensor, FinalStateTensor, ProbsTensor)\n",
    "\n",
    "\n",
    "\"\"\"\n",
    "DON'T MODIFY ANYTHING IN THIS CELL THAT IS BELOW THIS LINE\n",
    "\"\"\"\n",
    "tests.test_get_tensors(get_tensors)"
   ]
  },
  {
   "cell_type": "markdown",
   "metadata": {},
   "source": [
    "### Choose Word\n",
    "Implement the `pick_word()` function to select the next word using `probabilities`."
   ]
  },
  {
   "cell_type": "code",
   "execution_count": 41,
   "metadata": {},
   "outputs": [
    {
     "name": "stdout",
     "output_type": "stream",
     "text": [
      "Tests Passed\n"
     ]
    }
   ],
   "source": [
    "def pick_word(probabilities, int_to_vocab):\n",
    "    \"\"\"\n",
    "    Pick the next word in the generated text\n",
    "    :param probabilities: Probabilites of the next word\n",
    "    :param int_to_vocab: Dictionary of word ids as the keys and words as the values\n",
    "    :return: String of the predicted word\n",
    "    \"\"\"\n",
    "    # TODO: Implement Function\n",
    "    word_values = int_to_vocab.values()\n",
    "    word_list = list(word_values)\n",
    "#     print(probabilities)\n",
    "#     print(int_to_vocab)\n",
    "#     print(word_list)\n",
    "#     print(int_to_vocab.values())\n",
    "    return np.random.choice(list(int_to_vocab.values()), 1, p=probabilities)[0]\n",
    "\n",
    "    #>>> aa_milne_arr = ['pooh', 'rabbit', 'piglet', 'Christopher']\n",
    "    #>>> np.random.choice(aa_milne_arr, 5, p=[0.5, 0.1, 0.1, 0.3])\n",
    "    #array(['pooh', 'pooh', 'pooh', 'Christopher', 'piglet'],\n",
    "          #dtype='|S11')\n",
    "\n",
    "\"\"\"\n",
    "DON'T MODIFY ANYTHING IN THIS CELL THAT IS BELOW THIS LINE\n",
    "\"\"\"\n",
    "tests.test_pick_word(pick_word)"
   ]
  },
  {
   "cell_type": "markdown",
   "metadata": {},
   "source": [
    "## Generate TV Script\n",
    "This will generate the TV script for you.  Set `gen_length` to the length of TV script you want to generate."
   ]
  },
  {
   "cell_type": "code",
   "execution_count": 42,
   "metadata": {},
   "outputs": [
    {
     "name": "stdout",
     "output_type": "stream",
     "text": [
      "moe_szyslak: whoa, whoa, no! i don't not down....\n",
      "homer_simpson: hey, yeah, can i look too, moe was a(raises crack)\n",
      "homer_simpson: all you've...\n",
      "homer_simpson:(meaningful little).\n",
      "barney_gumble: are you are just?\n",
      "\n",
      "homer_simpson: moe, it was a little.\n",
      "homer_simpson:(chuckles make then) ah, homer. if homer, can i was my friend i got anything another hundred and in a girl by digging off. it goin' take me and that.\n",
      "carl_carlson: hey, yeah, i have a first time.\n",
      "moe_szyslak: maybe it's too much you've got the much violin.(grunts) drink it's many...\n",
      "moe_szyslak: what?! i am never got a baby my face!(beat) but i am what are you just your life...\n",
      "bart_simpson: oh sorry, it's why don't i don't think there's all my friends. but, but if i am no more.\n",
      "barney_gumble: hey! can i got that. i've been\n"
     ]
    }
   ],
   "source": [
    "gen_length = 200\n",
    "# homer_simpson, moe_szyslak, or Barney_Gumble\n",
    "prime_word = 'moe_szyslak'\n",
    "\n",
    "\"\"\"\n",
    "DON'T MODIFY ANYTHING IN THIS CELL THAT IS BELOW THIS LINE\n",
    "\"\"\"\n",
    "loaded_graph = tf.Graph()\n",
    "with tf.Session(graph=loaded_graph) as sess:\n",
    "    # Load saved model\n",
    "    loader = tf.train.import_meta_graph(load_dir + '.meta')\n",
    "    loader.restore(sess, load_dir)\n",
    "\n",
    "    # Get Tensors from loaded model\n",
    "    input_text, initial_state, final_state, probs = get_tensors(loaded_graph)\n",
    "\n",
    "    # Sentences generation setup\n",
    "    gen_sentences = [prime_word + ':']\n",
    "    prev_state = sess.run(initial_state, {input_text: np.array([[1]])})\n",
    "\n",
    "    # Generate sentences\n",
    "    for n in range(gen_length):\n",
    "        # Dynamic Input\n",
    "        dyn_input = [[vocab_to_int[word] for word in gen_sentences[-seq_length:]]]\n",
    "        dyn_seq_length = len(dyn_input[0])\n",
    "\n",
    "        # Get Prediction\n",
    "        probabilities, prev_state = sess.run(\n",
    "            [probs, final_state],\n",
    "            {input_text: dyn_input, initial_state: prev_state})\n",
    "        \n",
    "        pred_word = pick_word(probabilities[dyn_seq_length-1], int_to_vocab)\n",
    "\n",
    "        gen_sentences.append(pred_word)\n",
    "    \n",
    "    # Remove tokens\n",
    "    tv_script = ' '.join(gen_sentences)\n",
    "    for key, token in token_dict.items():\n",
    "        ending = ' ' if key in ['\\n', '(', '\"'] else ''\n",
    "        tv_script = tv_script.replace(' ' + token.lower(), key)\n",
    "    tv_script = tv_script.replace('\\n ', '\\n')\n",
    "    tv_script = tv_script.replace('( ', '(')\n",
    "        \n",
    "    print(tv_script)"
   ]
  },
  {
   "cell_type": "markdown",
   "metadata": {},
   "source": [
    "# The TV Script is Nonsensical\n",
    "It's ok if the TV script doesn't make any sense.  We trained on less than a megabyte of text.  In order to get good results, you'll have to use a smaller vocabulary or get more data.  Luckly there's more data!  As we mentioned in the begging of this project, this is a subset of [another dataset](https://www.kaggle.com/wcukierski/the-simpsons-by-the-data).  We didn't have you train on all the data, because that would take too long.  However, you are free to train your neural network on all the data.  After you complete the project, of course.\n",
    "# Submitting This Project\n",
    "When submitting this project, make sure to run all the cells before saving the notebook. Save the notebook file as \"dlnd_tv_script_generation.ipynb\" and save it as a HTML file under \"File\" -> \"Download as\". Include the \"helper.py\" and \"problem_unittests.py\" files in your submission."
   ]
  }
 ],
 "metadata": {
  "kernelspec": {
   "display_name": "Python 3",
   "language": "python",
   "name": "python3"
  },
  "language_info": {
   "codemirror_mode": {
    "name": "ipython",
    "version": 3
   },
   "file_extension": ".py",
   "mimetype": "text/x-python",
   "name": "python",
   "nbconvert_exporter": "python",
   "pygments_lexer": "ipython3",
   "version": "3.5.3"
  },
  "widgets": {
   "state": {},
   "version": "1.1.2"
  }
 },
 "nbformat": 4,
 "nbformat_minor": 1
}
